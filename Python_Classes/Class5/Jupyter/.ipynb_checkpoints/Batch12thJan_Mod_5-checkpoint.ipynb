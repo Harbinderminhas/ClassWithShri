{
 "cells": [
  {
   "cell_type": "markdown",
   "metadata": {},
   "source": [
    "# Introduction to Numpy and Pandas"
   ]
  },
  {
   "cell_type": "markdown",
   "metadata": {},
   "source": [
    "## numpy"
   ]
  },
  {
   "cell_type": "code",
   "execution_count": 1,
   "metadata": {},
   "outputs": [
    {
     "data": {
      "text/plain": [
       "array([11, 22, 33])"
      ]
     },
     "execution_count": 1,
     "metadata": {},
     "output_type": "execute_result"
    }
   ],
   "source": [
    "import numpy as np\n",
    "arr = np.array([11,22,33])  # 1D\n",
    "arr"
   ]
  },
  {
   "cell_type": "code",
   "execution_count": 2,
   "metadata": {},
   "outputs": [
    {
     "data": {
      "text/plain": [
       "numpy.ndarray"
      ]
     },
     "execution_count": 2,
     "metadata": {},
     "output_type": "execute_result"
    }
   ],
   "source": [
    "type(arr)"
   ]
  },
  {
   "cell_type": "code",
   "execution_count": 4,
   "metadata": {},
   "outputs": [
    {
     "data": {
      "text/plain": [
       "array([[11, 22, 33],\n",
       "       [44, 55, 66]])"
      ]
     },
     "execution_count": 4,
     "metadata": {},
     "output_type": "execute_result"
    }
   ],
   "source": [
    "# 2D array\n",
    "list_data = [[11, 22, 33], [44,55,66]]\n",
    "arr = np.array(list_data)\n",
    "arr"
   ]
  },
  {
   "cell_type": "code",
   "execution_count": 5,
   "metadata": {},
   "outputs": [
    {
     "data": {
      "text/plain": [
       "numpy.ndarray"
      ]
     },
     "execution_count": 5,
     "metadata": {},
     "output_type": "execute_result"
    }
   ],
   "source": [
    "type(arr)"
   ]
  },
  {
   "cell_type": "code",
   "execution_count": 6,
   "metadata": {},
   "outputs": [
    {
     "data": {
      "text/plain": [
       "(2, 3)"
      ]
     },
     "execution_count": 6,
     "metadata": {},
     "output_type": "execute_result"
    }
   ],
   "source": [
    "arr.shape  #(rows, columns)"
   ]
  },
  {
   "cell_type": "code",
   "execution_count": 8,
   "metadata": {},
   "outputs": [
    {
     "data": {
      "text/plain": [
       "[10, 12, 14, 16, 18]"
      ]
     },
     "execution_count": 8,
     "metadata": {},
     "output_type": "execute_result"
    }
   ],
   "source": [
    "# list\n",
    "list(range(10,20,2))"
   ]
  },
  {
   "cell_type": "code",
   "execution_count": 10,
   "metadata": {},
   "outputs": [
    {
     "data": {
      "text/plain": [
       "array([10, 12, 14, 16, 18])"
      ]
     },
     "execution_count": 10,
     "metadata": {},
     "output_type": "execute_result"
    }
   ],
   "source": [
    "# generate an array\n",
    "np.arange(10,20,2)  # arange(start, stop, step)"
   ]
  },
  {
   "cell_type": "code",
   "execution_count": 11,
   "metadata": {},
   "outputs": [
    {
     "data": {
      "text/plain": [
       "array([0., 0., 0., 0.])"
      ]
     },
     "execution_count": 11,
     "metadata": {},
     "output_type": "execute_result"
    }
   ],
   "source": [
    "np.zeros(4)"
   ]
  },
  {
   "cell_type": "code",
   "execution_count": 12,
   "metadata": {},
   "outputs": [
    {
     "data": {
      "text/plain": [
       "array([[0., 0., 0., 0.],\n",
       "       [0., 0., 0., 0.],\n",
       "       [0., 0., 0., 0.]])"
      ]
     },
     "execution_count": 12,
     "metadata": {},
     "output_type": "execute_result"
    }
   ],
   "source": [
    "np.zeros((3,4))  # zeros(shape)"
   ]
  },
  {
   "cell_type": "code",
   "execution_count": 14,
   "metadata": {},
   "outputs": [
    {
     "data": {
      "text/plain": [
       "array([ 0.        ,  8.33333333, 16.66666667, 25.        ])"
      ]
     },
     "execution_count": 14,
     "metadata": {},
     "output_type": "execute_result"
    }
   ],
   "source": [
    "# linearly/equally spaced vector (start,stop, no_of_values)\n",
    "# returns number of values between start and stop including both start and stop\n",
    "vector = np.linspace(0,25,4)\n",
    "vector"
   ]
  },
  {
   "cell_type": "code",
   "execution_count": 15,
   "metadata": {},
   "outputs": [
    {
     "data": {
      "text/plain": [
       "array([ 0.        ,  6.66666667, 13.33333333, 20.        ])"
      ]
     },
     "execution_count": 15,
     "metadata": {},
     "output_type": "execute_result"
    }
   ],
   "source": [
    "vector = np.linspace(0,20,4)\n",
    "vector"
   ]
  },
  {
   "cell_type": "code",
   "execution_count": 17,
   "metadata": {},
   "outputs": [
    {
     "data": {
      "text/plain": [
       "array([ 0.,  5., 10., 15., 20.])"
      ]
     },
     "execution_count": 17,
     "metadata": {},
     "output_type": "execute_result"
    }
   ],
   "source": [
    "vector = np.linspace(0,20,5)\n",
    "vector"
   ]
  },
  {
   "cell_type": "code",
   "execution_count": 18,
   "metadata": {},
   "outputs": [
    {
     "data": {
      "text/plain": [
       "dtype('float64')"
      ]
     },
     "execution_count": 18,
     "metadata": {},
     "output_type": "execute_result"
    }
   ],
   "source": [
    "# how to find the data type of an array\n",
    "# arr.dtype\n",
    "vector.dtype"
   ]
  },
  {
   "cell_type": "code",
   "execution_count": 23,
   "metadata": {},
   "outputs": [
    {
     "name": "stdout",
     "output_type": "stream",
     "text": [
      "[0. 0. 0. 0. 0. 0. 0. 0.]\n",
      "[[[0. 0.]\n",
      "  [0. 0.]]\n",
      "\n",
      " [[0. 0.]\n",
      "  [0. 0.]]]\n"
     ]
    }
   ],
   "source": [
    "# reshaping of an array\n",
    "arr_1d = np.zeros(8)\n",
    "print(arr_1d)\n",
    "arr_3d = arr_1d.reshape((2,2,2))\n",
    "print(arr_3d)"
   ]
  },
  {
   "cell_type": "code",
   "execution_count": 25,
   "metadata": {},
   "outputs": [
    {
     "name": "stdout",
     "output_type": "stream",
     "text": [
      "[0. 0. 0. 0. 0. 0. 0. 0.]\n",
      "####################\n",
      "[[0. 0. 0. 0.]\n",
      " [0. 0. 0. 0.]]\n"
     ]
    }
   ],
   "source": [
    "arr_1d = np.zeros(8)\n",
    "print(arr_1d)\n",
    "print(\"#\"*20)\n",
    "arr_2d = arr_1d.reshape((2,4))\n",
    "print(arr_2d)"
   ]
  },
  {
   "cell_type": "code",
   "execution_count": 26,
   "metadata": {},
   "outputs": [
    {
     "name": "stdout",
     "output_type": "stream",
     "text": [
      "[[0. 0. 0. 0.]\n",
      " [0. 0. 0. 0.]]\n",
      "********************\n",
      "[0. 0. 0. 0. 0. 0. 0. 0.]\n"
     ]
    }
   ],
   "source": [
    "# flatten the array\n",
    "print(arr_2d)\n",
    "print(\"*\"*20)\n",
    "arr_1d = arr_2d.ravel()\n",
    "print(arr_1d)"
   ]
  },
  {
   "cell_type": "code",
   "execution_count": 28,
   "metadata": {},
   "outputs": [
    {
     "name": "stdout",
     "output_type": "stream",
     "text": [
      "[0. 0. 0. 0. 0. 0. 0. 0.]\n",
      "[[[0. 0.]\n",
      "  [0. 0.]]\n",
      "\n",
      " [[0. 0.]\n",
      "  [0. 0.]]]\n",
      "#######\n",
      "[[0. 0.]\n",
      " [0. 0.]\n",
      " [0. 0.]\n",
      " [0. 0.]]\n"
     ]
    }
   ],
   "source": [
    "# 3D to 2D\n",
    "# reshaping of an array\n",
    "arr_1d = np.zeros(8)\n",
    "print(arr_1d)\n",
    "arr_3d = arr_1d.reshape((2,2,2))\n",
    "print(arr_3d)\n",
    "\n",
    "arr_2d = arr_3d.reshape((4,2))\n",
    "print(\"#######\")\n",
    "print(arr_2d)"
   ]
  },
  {
   "cell_type": "markdown",
   "metadata": {},
   "source": [
    "### Indexing and Slicing"
   ]
  },
  {
   "cell_type": "code",
   "execution_count": 29,
   "metadata": {},
   "outputs": [
    {
     "data": {
      "text/plain": [
       "array([11, 22, 33, 44, 55, 66, 77, 88, 99])"
      ]
     },
     "execution_count": 29,
     "metadata": {},
     "output_type": "execute_result"
    }
   ],
   "source": [
    "arr = np.array([11,22, 33, 44, 55, 66, 77, 88, 99])\n",
    "arr"
   ]
  },
  {
   "cell_type": "code",
   "execution_count": 30,
   "metadata": {},
   "outputs": [
    {
     "data": {
      "text/plain": [
       "33"
      ]
     },
     "execution_count": 30,
     "metadata": {},
     "output_type": "execute_result"
    }
   ],
   "source": [
    "arr[2]"
   ]
  },
  {
   "cell_type": "code",
   "execution_count": 31,
   "metadata": {},
   "outputs": [
    {
     "data": {
      "text/plain": [
       "array([22, 33, 44, 55, 66, 77])"
      ]
     },
     "execution_count": 31,
     "metadata": {},
     "output_type": "execute_result"
    }
   ],
   "source": [
    "arr[1:7]  # 1 to 6\n"
   ]
  },
  {
   "cell_type": "code",
   "execution_count": 32,
   "metadata": {},
   "outputs": [
    {
     "data": {
      "text/plain": [
       "array([11, 22, 33])"
      ]
     },
     "execution_count": 32,
     "metadata": {},
     "output_type": "execute_result"
    }
   ],
   "source": [
    "arr[:3]"
   ]
  },
  {
   "cell_type": "code",
   "execution_count": 33,
   "metadata": {},
   "outputs": [
    {
     "data": {
      "text/plain": [
       "array([22, 44, 66, 88])"
      ]
     },
     "execution_count": 33,
     "metadata": {},
     "output_type": "execute_result"
    }
   ],
   "source": [
    "arr = np.array([11,22, 33, 44, 55, 66, 77, 88, 99])\n",
    "slice_obj = slice(1,10,2)\n",
    "arr[slice_obj]"
   ]
  },
  {
   "cell_type": "code",
   "execution_count": 35,
   "metadata": {},
   "outputs": [
    {
     "data": {
      "text/plain": [
       "array([22, 33, 44])"
      ]
     },
     "execution_count": 35,
     "metadata": {},
     "output_type": "execute_result"
    }
   ],
   "source": [
    "# accessing multiple values together\n",
    "list_of_indexes = [1,2,3]\n",
    "arr[list_of_indexes]"
   ]
  },
  {
   "cell_type": "code",
   "execution_count": 36,
   "metadata": {},
   "outputs": [
    {
     "data": {
      "text/plain": [
       "array([44, 55, 77])"
      ]
     },
     "execution_count": 36,
     "metadata": {},
     "output_type": "execute_result"
    }
   ],
   "source": [
    "arr[[3,4,6]]"
   ]
  },
  {
   "cell_type": "markdown",
   "metadata": {},
   "source": [
    "### slicing 2D array\n"
   ]
  },
  {
   "cell_type": "code",
   "execution_count": 37,
   "metadata": {},
   "outputs": [
    {
     "data": {
      "text/plain": [
       "array([[ 11,  22,  33,  44],\n",
       "       [ 55,  66,  77,  88],\n",
       "       [  1,   2,   3,   4],\n",
       "       [100, 200, 300, 400]])"
      ]
     },
     "execution_count": 37,
     "metadata": {},
     "output_type": "execute_result"
    }
   ],
   "source": [
    "arr = np.array([[11,22,33,44],[55, 66, 77, 88], [1, 2, 3, 4], [100, 200, 300, 400]])\n",
    "arr"
   ]
  },
  {
   "cell_type": "code",
   "execution_count": 38,
   "metadata": {},
   "outputs": [
    {
     "data": {
      "text/plain": [
       "array([[11, 22],\n",
       "       [55, 66],\n",
       "       [ 1,  2]])"
      ]
     },
     "execution_count": 38,
     "metadata": {},
     "output_type": "execute_result"
    }
   ],
   "source": [
    "#syntax: arr[row_slice, colum_slice]\n",
    "arr[0:3,0:2]"
   ]
  },
  {
   "cell_type": "code",
   "execution_count": 39,
   "metadata": {},
   "outputs": [
    {
     "data": {
      "text/plain": [
       "array([[11, 22, 33],\n",
       "       [55, 66, 77],\n",
       "       [ 1,  2,  3]])"
      ]
     },
     "execution_count": 39,
     "metadata": {},
     "output_type": "execute_result"
    }
   ],
   "source": [
    "arr[0:3,0:3]"
   ]
  },
  {
   "cell_type": "code",
   "execution_count": 40,
   "metadata": {},
   "outputs": [
    {
     "data": {
      "text/plain": [
       "array([11, 22, 33, 44, 55, 66, 77, 88, 99])"
      ]
     },
     "execution_count": 40,
     "metadata": {},
     "output_type": "execute_result"
    }
   ],
   "source": [
    "arr = np.array([11,22, 33, 44, 55, 66, 77, 88, 99])\n",
    "arr"
   ]
  },
  {
   "cell_type": "code",
   "execution_count": 44,
   "metadata": {},
   "outputs": [
    {
     "data": {
      "text/plain": [
       "array([99, 66, 33])"
      ]
     },
     "execution_count": 44,
     "metadata": {},
     "output_type": "execute_result"
    }
   ],
   "source": [
    "# slicing using negative indexes\n",
    "arr[-1:-10:-3] # arr[1], arr[4], arr[7]"
   ]
  },
  {
   "cell_type": "markdown",
   "metadata": {},
   "source": [
    "## array attributes"
   ]
  },
  {
   "cell_type": "code",
   "execution_count": 47,
   "metadata": {},
   "outputs": [
    {
     "name": "stdout",
     "output_type": "stream",
     "text": [
      "int64\n"
     ]
    }
   ],
   "source": [
    "arr = np.array([11, 22, 33])\n",
    "print(arr.dtype)"
   ]
  },
  {
   "cell_type": "code",
   "execution_count": 48,
   "metadata": {},
   "outputs": [
    {
     "name": "stdout",
     "output_type": "stream",
     "text": [
      "[11 22 33]\n",
      "int8\n"
     ]
    }
   ],
   "source": [
    "# choosing the dtype\n",
    "arr = np.array([11, 22, 33], dtype=np.int8)\n",
    "print(arr)\n",
    "print(arr.dtype)"
   ]
  },
  {
   "cell_type": "code",
   "execution_count": 49,
   "metadata": {},
   "outputs": [
    {
     "name": "stdout",
     "output_type": "stream",
     "text": [
      "[11. 22. 33.]\n",
      "float16\n"
     ]
    }
   ],
   "source": [
    "# choosing the dtype\n",
    "arr = np.array([11, 22, 33], dtype=np.float16)\n",
    "print(arr)\n",
    "print(arr.dtype)"
   ]
  },
  {
   "cell_type": "code",
   "execution_count": 52,
   "metadata": {},
   "outputs": [
    {
     "data": {
      "text/plain": [
       "(2, 3)"
      ]
     },
     "execution_count": 52,
     "metadata": {},
     "output_type": "execute_result"
    }
   ],
   "source": [
    "arr = np.array([[2,3, 4], [4,5, 6]])\n",
    "# shape\n",
    "arr.shape"
   ]
  },
  {
   "cell_type": "code",
   "execution_count": 53,
   "metadata": {},
   "outputs": [
    {
     "data": {
      "text/plain": [
       "2"
      ]
     },
     "execution_count": 53,
     "metadata": {},
     "output_type": "execute_result"
    }
   ],
   "source": [
    "# dimensions\n",
    "arr.ndim"
   ]
  },
  {
   "cell_type": "code",
   "execution_count": 56,
   "metadata": {},
   "outputs": [
    {
     "data": {
      "text/plain": [
       "8"
      ]
     },
     "execution_count": 56,
     "metadata": {},
     "output_type": "execute_result"
    }
   ],
   "source": [
    "# size of each element\n",
    "arr.itemsize"
   ]
  },
  {
   "cell_type": "code",
   "execution_count": 55,
   "metadata": {},
   "outputs": [
    {
     "data": {
      "text/plain": [
       "dtype('int64')"
      ]
     },
     "execution_count": 55,
     "metadata": {},
     "output_type": "execute_result"
    }
   ],
   "source": [
    "arr.dtype"
   ]
  },
  {
   "cell_type": "markdown",
   "metadata": {},
   "source": [
    "### empty array"
   ]
  },
  {
   "cell_type": "code",
   "execution_count": 64,
   "metadata": {},
   "outputs": [
    {
     "data": {
      "text/plain": [
       "array([[0., 0., 0., 0.],\n",
       "       [0., 0., 0., 0.],\n",
       "       [0., 0., 0., 0.]])"
      ]
     },
     "execution_count": 64,
     "metadata": {},
     "output_type": "execute_result"
    }
   ],
   "source": [
    "arr = np.empty([3,4])\n",
    "arr  # returns a random value array or uninitialsed array\n",
    "# most of the time elements would be 0 but not necessarily."
   ]
  },
  {
   "cell_type": "markdown",
   "metadata": {},
   "source": [
    "## Reading and Writing from text files"
   ]
  },
  {
   "cell_type": "code",
   "execution_count": 70,
   "metadata": {},
   "outputs": [
    {
     "data": {
      "text/plain": [
       "array([[ 1,  2,  3,  4,  5,  6,  7],\n",
       "       [ 8,  3,  4,  5,  5,  1,  8],\n",
       "       [ 6,  3,  4,  5,  5,  1,  8],\n",
       "       [ 6,  3,  4,  5,  5,  1,  8],\n",
       "       [ 4,  3,  4,  5,  5,  1, 10]], dtype=int8)"
      ]
     },
     "execution_count": 70,
     "metadata": {},
     "output_type": "execute_result"
    }
   ],
   "source": [
    "# reading a text file and loading it in array\n",
    "arr = np.loadtxt('filex.txt', dtype=np.int8)\n",
    "arr"
   ]
  },
  {
   "cell_type": "code",
   "execution_count": 79,
   "metadata": {},
   "outputs": [],
   "source": [
    "# export an array to a text file\n",
    "# 'd' for numbers\n",
    "np.savetxt('out_integers.txt', arr,fmt=\"%d\")"
   ]
  },
  {
   "cell_type": "code",
   "execution_count": 80,
   "metadata": {},
   "outputs": [],
   "source": [
    "# float value 'f' upto 2 decimal level\n",
    "np.savetxt('out_float.txt', arr,fmt=\"%.2f\")"
   ]
  },
  {
   "cell_type": "markdown",
   "metadata": {},
   "source": [
    "### exporting to CSV file, add delimiter=','\n"
   ]
  },
  {
   "cell_type": "code",
   "execution_count": 81,
   "metadata": {},
   "outputs": [],
   "source": [
    "np.savetxt('out_int.csv', arr,fmt=\"%d\", delimiter=',')"
   ]
  },
  {
   "cell_type": "code",
   "execution_count": 82,
   "metadata": {},
   "outputs": [],
   "source": [
    "np.savetxt('out_dollar.txt', arr,fmt=\"%d\", delimiter='$')"
   ]
  },
  {
   "cell_type": "code",
   "execution_count": 84,
   "metadata": {},
   "outputs": [
    {
     "data": {
      "text/plain": [
       "array([[ 1.,  2.,  3.,  4.,  5.,  6.,  7.],\n",
       "       [ 8.,  3.,  4.,  5.,  5.,  1.,  8.],\n",
       "       [ 6.,  3.,  4.,  5.,  5.,  1.,  8.],\n",
       "       [ 6.,  3.,  4.,  5.,  5.,  1.,  8.],\n",
       "       [ 4.,  3.,  4.,  5.,  5.,  1., 10.]])"
      ]
     },
     "execution_count": 84,
     "metadata": {},
     "output_type": "execute_result"
    }
   ],
   "source": [
    "# loading data from CSV file\n",
    "# 1. np.genfromtxt()\n",
    "arr = np.genfromtxt('out_int.csv', delimiter=',')\n",
    "arr"
   ]
  },
  {
   "cell_type": "code",
   "execution_count": 85,
   "metadata": {},
   "outputs": [
    {
     "data": {
      "text/plain": [
       "array([[ 1.,  2.,  3.,  4.,  5.,  6.,  7.],\n",
       "       [ 8.,  3.,  4.,  5.,  5.,  1.,  8.],\n",
       "       [ 6.,  3.,  4.,  5.,  5.,  1.,  8.],\n",
       "       [ 6.,  3.,  4.,  5.,  5.,  1.,  8.],\n",
       "       [ 4.,  3.,  4.,  5.,  5.,  1., 10.]])"
      ]
     },
     "execution_count": 85,
     "metadata": {},
     "output_type": "execute_result"
    }
   ],
   "source": [
    "# loading data from CSV file\n",
    "# 2. np.loadtxt()\n",
    "arr = np.loadtxt('out_int.csv', delimiter=',')\n",
    "arr"
   ]
  },
  {
   "cell_type": "markdown",
   "metadata": {},
   "source": [
    "# pandas"
   ]
  },
  {
   "cell_type": "code",
   "execution_count": 86,
   "metadata": {},
   "outputs": [
    {
     "data": {
      "text/plain": [
       "0    11\n",
       "1    22\n",
       "2    33\n",
       "3    44\n",
       "dtype: int64"
      ]
     },
     "execution_count": 86,
     "metadata": {},
     "output_type": "execute_result"
    }
   ],
   "source": [
    "import pandas as pd\n",
    "#1 using list\n",
    "data = [11, 22, 33, 44]\n",
    "ser = pd.Series(data)\n",
    "ser"
   ]
  },
  {
   "cell_type": "code",
   "execution_count": 87,
   "metadata": {},
   "outputs": [
    {
     "data": {
      "text/plain": [
       "pandas.core.series.Series"
      ]
     },
     "execution_count": 87,
     "metadata": {},
     "output_type": "execute_result"
    }
   ],
   "source": [
    "type(ser)"
   ]
  },
  {
   "cell_type": "code",
   "execution_count": 88,
   "metadata": {},
   "outputs": [
    {
     "data": {
      "text/plain": [
       "Series([], dtype: float64)"
      ]
     },
     "execution_count": 88,
     "metadata": {},
     "output_type": "execute_result"
    }
   ],
   "source": [
    "pd.Series()  # empty series"
   ]
  },
  {
   "cell_type": "code",
   "execution_count": 89,
   "metadata": {},
   "outputs": [
    {
     "data": {
      "text/plain": [
       "0    100\n",
       "1    200\n",
       "2    300\n",
       "3    400\n",
       "dtype: int64"
      ]
     },
     "execution_count": 89,
     "metadata": {},
     "output_type": "execute_result"
    }
   ],
   "source": [
    "# 2. using array\n",
    "arr = np.array([100, 200, 300, 400])\n",
    "pd.Series(arr)"
   ]
  },
  {
   "cell_type": "code",
   "execution_count": 90,
   "metadata": {},
   "outputs": [
    {
     "data": {
      "text/plain": [
       "a    100\n",
       "b    200\n",
       "c    400\n",
       "dtype: int64"
      ]
     },
     "execution_count": 90,
     "metadata": {},
     "output_type": "execute_result"
    }
   ],
   "source": [
    "# choosing the indexes\n",
    "# using a dict\n",
    "data = {'a':100, 'b':200, 'c':400}\n",
    "ser = pd.Series(data)\n",
    "ser"
   ]
  },
  {
   "cell_type": "code",
   "execution_count": 91,
   "metadata": {},
   "outputs": [
    {
     "data": {
      "text/plain": [
       "100"
      ]
     },
     "execution_count": 91,
     "metadata": {},
     "output_type": "execute_result"
    }
   ],
   "source": [
    "ser['a'] # accessing value using index"
   ]
  },
  {
   "cell_type": "code",
   "execution_count": 94,
   "metadata": {},
   "outputs": [
    {
     "data": {
      "text/plain": [
       "aa    11\n",
       "bb    22\n",
       "cc    33\n",
       "dtype: int64"
      ]
     },
     "execution_count": 94,
     "metadata": {},
     "output_type": "execute_result"
    }
   ],
   "source": [
    "# choosing index by providing list of index names\n",
    "data = [11, 22, 33]\n",
    "ser = pd.Series(data, index=['aa', 'bb', 'cc'])\n",
    "ser"
   ]
  },
  {
   "cell_type": "code",
   "execution_count": 93,
   "metadata": {},
   "outputs": [
    {
     "data": {
      "text/plain": [
       "11"
      ]
     },
     "execution_count": 93,
     "metadata": {},
     "output_type": "execute_result"
    }
   ],
   "source": [
    "ser['aa']"
   ]
  },
  {
   "cell_type": "code",
   "execution_count": 95,
   "metadata": {},
   "outputs": [
    {
     "data": {
      "text/plain": [
       "1    22\n",
       "2    33\n",
       "3    44\n",
       "4    55\n",
       "dtype: int64"
      ]
     },
     "execution_count": 95,
     "metadata": {},
     "output_type": "execute_result"
    }
   ],
   "source": [
    "# slicing\n",
    "ser = pd.Series([11, 22, 33, 44, 55, 66, 77, 88])\n",
    "ser[1:5]  #1,2,3,4"
   ]
  },
  {
   "cell_type": "code",
   "execution_count": 96,
   "metadata": {},
   "outputs": [
    {
     "data": {
      "text/plain": [
       "0    11\n",
       "1    22\n",
       "2    33\n",
       "dtype: int64"
      ]
     },
     "execution_count": 96,
     "metadata": {},
     "output_type": "execute_result"
    }
   ],
   "source": [
    "ser[:3]  # 0,1,2"
   ]
  },
  {
   "cell_type": "code",
   "execution_count": 97,
   "metadata": {},
   "outputs": [
    {
     "data": {
      "text/plain": [
       "4    55\n",
       "5    66\n",
       "6    77\n",
       "7    88\n",
       "dtype: int64"
      ]
     },
     "execution_count": 97,
     "metadata": {},
     "output_type": "execute_result"
    }
   ],
   "source": [
    "ser[4:] # from index 4 till the end"
   ]
  },
  {
   "cell_type": "markdown",
   "metadata": {},
   "source": [
    "## DataFrame"
   ]
  },
  {
   "cell_type": "code",
   "execution_count": 98,
   "metadata": {},
   "outputs": [
    {
     "data": {
      "text/html": [
       "<div>\n",
       "<style scoped>\n",
       "    .dataframe tbody tr th:only-of-type {\n",
       "        vertical-align: middle;\n",
       "    }\n",
       "\n",
       "    .dataframe tbody tr th {\n",
       "        vertical-align: top;\n",
       "    }\n",
       "\n",
       "    .dataframe thead th {\n",
       "        text-align: right;\n",
       "    }\n",
       "</style>\n",
       "<table border=\"1\" class=\"dataframe\">\n",
       "  <thead>\n",
       "    <tr style=\"text-align: right;\">\n",
       "      <th></th>\n",
       "      <th>0</th>\n",
       "    </tr>\n",
       "  </thead>\n",
       "  <tbody>\n",
       "    <tr>\n",
       "      <th>0</th>\n",
       "      <td>10</td>\n",
       "    </tr>\n",
       "    <tr>\n",
       "      <th>1</th>\n",
       "      <td>20</td>\n",
       "    </tr>\n",
       "    <tr>\n",
       "      <th>2</th>\n",
       "      <td>30</td>\n",
       "    </tr>\n",
       "    <tr>\n",
       "      <th>3</th>\n",
       "      <td>40</td>\n",
       "    </tr>\n",
       "  </tbody>\n",
       "</table>\n",
       "</div>"
      ],
      "text/plain": [
       "    0\n",
       "0  10\n",
       "1  20\n",
       "2  30\n",
       "3  40"
      ]
     },
     "execution_count": 98,
     "metadata": {},
     "output_type": "execute_result"
    }
   ],
   "source": [
    "data = [10, 20, 30, 40]\n",
    "df = pd.DataFrame(data)\n",
    "df"
   ]
  },
  {
   "cell_type": "code",
   "execution_count": 99,
   "metadata": {},
   "outputs": [
    {
     "data": {
      "text/html": [
       "<div>\n",
       "<style scoped>\n",
       "    .dataframe tbody tr th:only-of-type {\n",
       "        vertical-align: middle;\n",
       "    }\n",
       "\n",
       "    .dataframe tbody tr th {\n",
       "        vertical-align: top;\n",
       "    }\n",
       "\n",
       "    .dataframe thead th {\n",
       "        text-align: right;\n",
       "    }\n",
       "</style>\n",
       "<table border=\"1\" class=\"dataframe\">\n",
       "  <thead>\n",
       "    <tr style=\"text-align: right;\">\n",
       "      <th></th>\n",
       "      <th>a</th>\n",
       "      <th>b</th>\n",
       "      <th>c</th>\n",
       "    </tr>\n",
       "  </thead>\n",
       "  <tbody>\n",
       "    <tr>\n",
       "      <th>0</th>\n",
       "      <td>1</td>\n",
       "      <td>2</td>\n",
       "      <td>NaN</td>\n",
       "    </tr>\n",
       "    <tr>\n",
       "      <th>1</th>\n",
       "      <td>10</td>\n",
       "      <td>20</td>\n",
       "      <td>30.0</td>\n",
       "    </tr>\n",
       "  </tbody>\n",
       "</table>\n",
       "</div>"
      ],
      "text/plain": [
       "    a   b     c\n",
       "0   1   2   NaN\n",
       "1  10  20  30.0"
      ]
     },
     "execution_count": 99,
     "metadata": {},
     "output_type": "execute_result"
    }
   ],
   "source": [
    "# list of dictionaries\n",
    "data = [{'a':1, 'b':2}, {'a':10, 'b':20, 'c':30}]\n",
    "df = pd.DataFrame(data)\n",
    "df"
   ]
  },
  {
   "cell_type": "code",
   "execution_count": 100,
   "metadata": {},
   "outputs": [],
   "source": [
    "# NaN: not a number"
   ]
  },
  {
   "cell_type": "code",
   "execution_count": 101,
   "metadata": {},
   "outputs": [
    {
     "data": {
      "text/html": [
       "<div>\n",
       "<style scoped>\n",
       "    .dataframe tbody tr th:only-of-type {\n",
       "        vertical-align: middle;\n",
       "    }\n",
       "\n",
       "    .dataframe tbody tr th {\n",
       "        vertical-align: top;\n",
       "    }\n",
       "\n",
       "    .dataframe thead th {\n",
       "        text-align: right;\n",
       "    }\n",
       "</style>\n",
       "<table border=\"1\" class=\"dataframe\">\n",
       "  <thead>\n",
       "    <tr style=\"text-align: right;\">\n",
       "      <th></th>\n",
       "      <th>a</th>\n",
       "      <th>b</th>\n",
       "      <th>c</th>\n",
       "    </tr>\n",
       "  </thead>\n",
       "  <tbody>\n",
       "    <tr>\n",
       "      <th>first</th>\n",
       "      <td>1</td>\n",
       "      <td>2</td>\n",
       "      <td>NaN</td>\n",
       "    </tr>\n",
       "    <tr>\n",
       "      <th>second</th>\n",
       "      <td>10</td>\n",
       "      <td>20</td>\n",
       "      <td>30.0</td>\n",
       "    </tr>\n",
       "  </tbody>\n",
       "</table>\n",
       "</div>"
      ],
      "text/plain": [
       "         a   b     c\n",
       "first    1   2   NaN\n",
       "second  10  20  30.0"
      ]
     },
     "execution_count": 101,
     "metadata": {},
     "output_type": "execute_result"
    }
   ],
   "source": [
    "# giving user defined row index \n",
    "data = [{'a':1, 'b':2}, {'a':10, 'b':20, 'c':30}]\n",
    "df = pd.DataFrame(data, index=['first', 'second'])\n",
    "df"
   ]
  },
  {
   "cell_type": "code",
   "execution_count": 102,
   "metadata": {},
   "outputs": [
    {
     "data": {
      "text/html": [
       "<div>\n",
       "<style scoped>\n",
       "    .dataframe tbody tr th:only-of-type {\n",
       "        vertical-align: middle;\n",
       "    }\n",
       "\n",
       "    .dataframe tbody tr th {\n",
       "        vertical-align: top;\n",
       "    }\n",
       "\n",
       "    .dataframe thead th {\n",
       "        text-align: right;\n",
       "    }\n",
       "</style>\n",
       "<table border=\"1\" class=\"dataframe\">\n",
       "  <thead>\n",
       "    <tr style=\"text-align: right;\">\n",
       "      <th></th>\n",
       "      <th>one</th>\n",
       "      <th>two</th>\n",
       "    </tr>\n",
       "  </thead>\n",
       "  <tbody>\n",
       "    <tr>\n",
       "      <th>a</th>\n",
       "      <td>10.0</td>\n",
       "      <td>10</td>\n",
       "    </tr>\n",
       "    <tr>\n",
       "      <th>b</th>\n",
       "      <td>20.0</td>\n",
       "      <td>20</td>\n",
       "    </tr>\n",
       "    <tr>\n",
       "      <th>c</th>\n",
       "      <td>30.0</td>\n",
       "      <td>30</td>\n",
       "    </tr>\n",
       "    <tr>\n",
       "      <th>d</th>\n",
       "      <td>NaN</td>\n",
       "      <td>40</td>\n",
       "    </tr>\n",
       "  </tbody>\n",
       "</table>\n",
       "</div>"
      ],
      "text/plain": [
       "    one  two\n",
       "a  10.0   10\n",
       "b  20.0   20\n",
       "c  30.0   30\n",
       "d   NaN   40"
      ]
     },
     "execution_count": 102,
     "metadata": {},
     "output_type": "execute_result"
    }
   ],
   "source": [
    "# converting a series into a DataFrame\n",
    "data = {'one':pd.Series([10,20,30], index=['a', 'b', 'c']),\n",
    "       'two':pd.Series([10,20,30,40], index=['a', 'b', 'c', 'd'])}\n",
    "df = pd.DataFrame(data)\n",
    "df"
   ]
  },
  {
   "cell_type": "code",
   "execution_count": 103,
   "metadata": {},
   "outputs": [
    {
     "data": {
      "text/html": [
       "<div>\n",
       "<style scoped>\n",
       "    .dataframe tbody tr th:only-of-type {\n",
       "        vertical-align: middle;\n",
       "    }\n",
       "\n",
       "    .dataframe tbody tr th {\n",
       "        vertical-align: top;\n",
       "    }\n",
       "\n",
       "    .dataframe thead th {\n",
       "        text-align: right;\n",
       "    }\n",
       "</style>\n",
       "<table border=\"1\" class=\"dataframe\">\n",
       "  <thead>\n",
       "    <tr style=\"text-align: right;\">\n",
       "      <th></th>\n",
       "      <th>one</th>\n",
       "      <th>two</th>\n",
       "    </tr>\n",
       "  </thead>\n",
       "  <tbody>\n",
       "    <tr>\n",
       "      <th>a</th>\n",
       "      <td>10.0</td>\n",
       "      <td>10</td>\n",
       "    </tr>\n",
       "    <tr>\n",
       "      <th>b</th>\n",
       "      <td>20.0</td>\n",
       "      <td>20</td>\n",
       "    </tr>\n",
       "    <tr>\n",
       "      <th>c</th>\n",
       "      <td>30.0</td>\n",
       "      <td>30</td>\n",
       "    </tr>\n",
       "    <tr>\n",
       "      <th>d</th>\n",
       "      <td>NaN</td>\n",
       "      <td>40</td>\n",
       "    </tr>\n",
       "  </tbody>\n",
       "</table>\n",
       "</div>"
      ],
      "text/plain": [
       "    one  two\n",
       "a  10.0   10\n",
       "b  20.0   20\n",
       "c  30.0   30\n",
       "d   NaN   40"
      ]
     },
     "execution_count": 103,
     "metadata": {},
     "output_type": "execute_result"
    }
   ],
   "source": [
    "# column addition\n",
    "data = {'one':pd.Series([10,20,30], index=['a', 'b', 'c']),\n",
    "       'two':pd.Series([10,20,30,40], index=['a', 'b', 'c', 'd'])}\n",
    "df = pd.DataFrame(data)\n",
    "df"
   ]
  },
  {
   "cell_type": "code",
   "execution_count": 104,
   "metadata": {},
   "outputs": [
    {
     "data": {
      "text/html": [
       "<div>\n",
       "<style scoped>\n",
       "    .dataframe tbody tr th:only-of-type {\n",
       "        vertical-align: middle;\n",
       "    }\n",
       "\n",
       "    .dataframe tbody tr th {\n",
       "        vertical-align: top;\n",
       "    }\n",
       "\n",
       "    .dataframe thead th {\n",
       "        text-align: right;\n",
       "    }\n",
       "</style>\n",
       "<table border=\"1\" class=\"dataframe\">\n",
       "  <thead>\n",
       "    <tr style=\"text-align: right;\">\n",
       "      <th></th>\n",
       "      <th>one</th>\n",
       "      <th>two</th>\n",
       "      <th>srinivas</th>\n",
       "    </tr>\n",
       "  </thead>\n",
       "  <tbody>\n",
       "    <tr>\n",
       "      <th>a</th>\n",
       "      <td>10.0</td>\n",
       "      <td>10</td>\n",
       "      <td>11.0</td>\n",
       "    </tr>\n",
       "    <tr>\n",
       "      <th>b</th>\n",
       "      <td>20.0</td>\n",
       "      <td>20</td>\n",
       "      <td>22.0</td>\n",
       "    </tr>\n",
       "    <tr>\n",
       "      <th>c</th>\n",
       "      <td>30.0</td>\n",
       "      <td>30</td>\n",
       "      <td>33.0</td>\n",
       "    </tr>\n",
       "    <tr>\n",
       "      <th>d</th>\n",
       "      <td>NaN</td>\n",
       "      <td>40</td>\n",
       "      <td>NaN</td>\n",
       "    </tr>\n",
       "  </tbody>\n",
       "</table>\n",
       "</div>"
      ],
      "text/plain": [
       "    one  two  srinivas\n",
       "a  10.0   10      11.0\n",
       "b  20.0   20      22.0\n",
       "c  30.0   30      33.0\n",
       "d   NaN   40       NaN"
      ]
     },
     "execution_count": 104,
     "metadata": {},
     "output_type": "execute_result"
    }
   ],
   "source": [
    "# adding new column\n",
    "df['srinivas'] = pd.Series([11, 22, 33], index=['a','b', 'c'])\n",
    "df"
   ]
  },
  {
   "cell_type": "code",
   "execution_count": 105,
   "metadata": {},
   "outputs": [
    {
     "data": {
      "text/html": [
       "<div>\n",
       "<style scoped>\n",
       "    .dataframe tbody tr th:only-of-type {\n",
       "        vertical-align: middle;\n",
       "    }\n",
       "\n",
       "    .dataframe tbody tr th {\n",
       "        vertical-align: top;\n",
       "    }\n",
       "\n",
       "    .dataframe thead th {\n",
       "        text-align: right;\n",
       "    }\n",
       "</style>\n",
       "<table border=\"1\" class=\"dataframe\">\n",
       "  <thead>\n",
       "    <tr style=\"text-align: right;\">\n",
       "      <th></th>\n",
       "      <th>one</th>\n",
       "      <th>two</th>\n",
       "      <th>srinivas</th>\n",
       "      <th>gaurav</th>\n",
       "    </tr>\n",
       "  </thead>\n",
       "  <tbody>\n",
       "    <tr>\n",
       "      <th>a</th>\n",
       "      <td>10.0</td>\n",
       "      <td>10</td>\n",
       "      <td>11.0</td>\n",
       "      <td>100</td>\n",
       "    </tr>\n",
       "    <tr>\n",
       "      <th>b</th>\n",
       "      <td>20.0</td>\n",
       "      <td>20</td>\n",
       "      <td>22.0</td>\n",
       "      <td>200</td>\n",
       "    </tr>\n",
       "    <tr>\n",
       "      <th>c</th>\n",
       "      <td>30.0</td>\n",
       "      <td>30</td>\n",
       "      <td>33.0</td>\n",
       "      <td>300</td>\n",
       "    </tr>\n",
       "    <tr>\n",
       "      <th>d</th>\n",
       "      <td>NaN</td>\n",
       "      <td>40</td>\n",
       "      <td>NaN</td>\n",
       "      <td>400</td>\n",
       "    </tr>\n",
       "  </tbody>\n",
       "</table>\n",
       "</div>"
      ],
      "text/plain": [
       "    one  two  srinivas  gaurav\n",
       "a  10.0   10      11.0     100\n",
       "b  20.0   20      22.0     200\n",
       "c  30.0   30      33.0     300\n",
       "d   NaN   40       NaN     400"
      ]
     },
     "execution_count": 105,
     "metadata": {},
     "output_type": "execute_result"
    }
   ],
   "source": [
    "df['gaurav'] = [100, 200, 300, 400]\n",
    "df"
   ]
  },
  {
   "cell_type": "code",
   "execution_count": 106,
   "metadata": {},
   "outputs": [
    {
     "data": {
      "text/plain": [
       "a    100\n",
       "b    200\n",
       "c    300\n",
       "d    400\n",
       "Name: gaurav, dtype: int64"
      ]
     },
     "execution_count": 106,
     "metadata": {},
     "output_type": "execute_result"
    }
   ],
   "source": [
    "# access a column: df[<column_name>]\n",
    "df['gaurav']"
   ]
  },
  {
   "cell_type": "code",
   "execution_count": 107,
   "metadata": {},
   "outputs": [
    {
     "data": {
      "text/html": [
       "<div>\n",
       "<style scoped>\n",
       "    .dataframe tbody tr th:only-of-type {\n",
       "        vertical-align: middle;\n",
       "    }\n",
       "\n",
       "    .dataframe tbody tr th {\n",
       "        vertical-align: top;\n",
       "    }\n",
       "\n",
       "    .dataframe thead th {\n",
       "        text-align: right;\n",
       "    }\n",
       "</style>\n",
       "<table border=\"1\" class=\"dataframe\">\n",
       "  <thead>\n",
       "    <tr style=\"text-align: right;\">\n",
       "      <th></th>\n",
       "      <th>two</th>\n",
       "      <th>srinivas</th>\n",
       "      <th>gaurav</th>\n",
       "    </tr>\n",
       "  </thead>\n",
       "  <tbody>\n",
       "    <tr>\n",
       "      <th>a</th>\n",
       "      <td>10</td>\n",
       "      <td>11.0</td>\n",
       "      <td>100</td>\n",
       "    </tr>\n",
       "    <tr>\n",
       "      <th>b</th>\n",
       "      <td>20</td>\n",
       "      <td>22.0</td>\n",
       "      <td>200</td>\n",
       "    </tr>\n",
       "    <tr>\n",
       "      <th>c</th>\n",
       "      <td>30</td>\n",
       "      <td>33.0</td>\n",
       "      <td>300</td>\n",
       "    </tr>\n",
       "    <tr>\n",
       "      <th>d</th>\n",
       "      <td>40</td>\n",
       "      <td>NaN</td>\n",
       "      <td>400</td>\n",
       "    </tr>\n",
       "  </tbody>\n",
       "</table>\n",
       "</div>"
      ],
      "text/plain": [
       "   two  srinivas  gaurav\n",
       "a   10      11.0     100\n",
       "b   20      22.0     200\n",
       "c   30      33.0     300\n",
       "d   40       NaN     400"
      ]
     },
     "execution_count": 107,
     "metadata": {},
     "output_type": "execute_result"
    }
   ],
   "source": [
    "# deleting a column\n",
    "# 1. using \"del\"\n",
    "del df['one']\n",
    "df"
   ]
  },
  {
   "cell_type": "code",
   "execution_count": 112,
   "metadata": {},
   "outputs": [
    {
     "name": "stdout",
     "output_type": "stream",
     "text": [
      "deleted column\n",
      "a    10\n",
      "b    20\n",
      "c    30\n",
      "d    40\n",
      "Name: two, dtype: int64\n",
      "####################\n",
      "    one\n",
      "a  10.0\n",
      "b  20.0\n",
      "c  30.0\n",
      "d   NaN\n"
     ]
    }
   ],
   "source": [
    "# 2. using pop()\n",
    "data = {'one':pd.Series([10,20,30], index=['a', 'b', 'c']),\n",
    "       'two':pd.Series([10,20,30,40], index=['a', 'b', 'c', 'd'])}\n",
    "df = pd.DataFrame(data)\n",
    "df\n",
    "print(\"deleted column\")\n",
    "print(df.pop('two'))\n",
    "print(\"#\"*20)\n",
    "print(df)"
   ]
  },
  {
   "cell_type": "markdown",
   "metadata": {},
   "source": [
    "## Row selection in a DataFrame\n",
    "- loc[Row_label]: Row label is the user defined named for rows\n",
    "- iloc[Row_Position]: Row position is position of row from the top of the dataframe starting from 0."
   ]
  },
  {
   "cell_type": "code",
   "execution_count": 114,
   "metadata": {},
   "outputs": [
    {
     "data": {
      "text/html": [
       "<div>\n",
       "<style scoped>\n",
       "    .dataframe tbody tr th:only-of-type {\n",
       "        vertical-align: middle;\n",
       "    }\n",
       "\n",
       "    .dataframe tbody tr th {\n",
       "        vertical-align: top;\n",
       "    }\n",
       "\n",
       "    .dataframe thead th {\n",
       "        text-align: right;\n",
       "    }\n",
       "</style>\n",
       "<table border=\"1\" class=\"dataframe\">\n",
       "  <thead>\n",
       "    <tr style=\"text-align: right;\">\n",
       "      <th></th>\n",
       "      <th>one</th>\n",
       "      <th>two</th>\n",
       "    </tr>\n",
       "  </thead>\n",
       "  <tbody>\n",
       "    <tr>\n",
       "      <th>a</th>\n",
       "      <td>10.0</td>\n",
       "      <td>10</td>\n",
       "    </tr>\n",
       "    <tr>\n",
       "      <th>b</th>\n",
       "      <td>20.0</td>\n",
       "      <td>20</td>\n",
       "    </tr>\n",
       "    <tr>\n",
       "      <th>c</th>\n",
       "      <td>30.0</td>\n",
       "      <td>30</td>\n",
       "    </tr>\n",
       "    <tr>\n",
       "      <th>d</th>\n",
       "      <td>NaN</td>\n",
       "      <td>40</td>\n",
       "    </tr>\n",
       "  </tbody>\n",
       "</table>\n",
       "</div>"
      ],
      "text/plain": [
       "    one  two\n",
       "a  10.0   10\n",
       "b  20.0   20\n",
       "c  30.0   30\n",
       "d   NaN   40"
      ]
     },
     "execution_count": 114,
     "metadata": {},
     "output_type": "execute_result"
    }
   ],
   "source": [
    "data = {'one':pd.Series([10,20,30], index=['a', 'b', 'c']),\n",
    "       'two':pd.Series([10,20,30,40], index=['a', 'b', 'c', 'd'])}\n",
    "df = pd.DataFrame(data)\n",
    "df"
   ]
  },
  {
   "cell_type": "code",
   "execution_count": 115,
   "metadata": {},
   "outputs": [
    {
     "data": {
      "text/plain": [
       "one    10.0\n",
       "two    10.0\n",
       "Name: a, dtype: float64"
      ]
     },
     "execution_count": 115,
     "metadata": {},
     "output_type": "execute_result"
    }
   ],
   "source": [
    "df.loc['a'] # returns row with the label 'a' ie first row"
   ]
  },
  {
   "cell_type": "code",
   "execution_count": 116,
   "metadata": {},
   "outputs": [
    {
     "data": {
      "text/plain": [
       "one     NaN\n",
       "two    40.0\n",
       "Name: d, dtype: float64"
      ]
     },
     "execution_count": 116,
     "metadata": {},
     "output_type": "execute_result"
    }
   ],
   "source": [
    "df.loc['d'] # returns row with the label 'd' i.e last row"
   ]
  },
  {
   "cell_type": "code",
   "execution_count": 117,
   "metadata": {},
   "outputs": [
    {
     "data": {
      "text/plain": [
       "one    10.0\n",
       "two    10.0\n",
       "Name: a, dtype: float64"
      ]
     },
     "execution_count": 117,
     "metadata": {},
     "output_type": "execute_result"
    }
   ],
   "source": [
    "# using iloc\n",
    "df.iloc[0]  # equivalent to -> df.loc['a'] "
   ]
  },
  {
   "cell_type": "code",
   "execution_count": 118,
   "metadata": {},
   "outputs": [
    {
     "data": {
      "text/plain": [
       "one     NaN\n",
       "two    40.0\n",
       "Name: d, dtype: float64"
      ]
     },
     "execution_count": 118,
     "metadata": {},
     "output_type": "execute_result"
    }
   ],
   "source": [
    "df.iloc[3]  # equivalent to -> df.loc['d'] "
   ]
  },
  {
   "cell_type": "markdown",
   "metadata": {},
   "source": [
    "### Row addition"
   ]
  },
  {
   "cell_type": "code",
   "execution_count": 122,
   "metadata": {},
   "outputs": [
    {
     "data": {
      "text/html": [
       "<div>\n",
       "<style scoped>\n",
       "    .dataframe tbody tr th:only-of-type {\n",
       "        vertical-align: middle;\n",
       "    }\n",
       "\n",
       "    .dataframe tbody tr th {\n",
       "        vertical-align: top;\n",
       "    }\n",
       "\n",
       "    .dataframe thead th {\n",
       "        text-align: right;\n",
       "    }\n",
       "</style>\n",
       "<table border=\"1\" class=\"dataframe\">\n",
       "  <thead>\n",
       "    <tr style=\"text-align: right;\">\n",
       "      <th></th>\n",
       "      <th>one</th>\n",
       "      <th>two</th>\n",
       "      <th>three</th>\n",
       "    </tr>\n",
       "  </thead>\n",
       "  <tbody>\n",
       "    <tr>\n",
       "      <th>a</th>\n",
       "      <td>1.0</td>\n",
       "      <td>10</td>\n",
       "      <td>10.0</td>\n",
       "    </tr>\n",
       "    <tr>\n",
       "      <th>b</th>\n",
       "      <td>2.0</td>\n",
       "      <td>20</td>\n",
       "      <td>20.0</td>\n",
       "    </tr>\n",
       "    <tr>\n",
       "      <th>c</th>\n",
       "      <td>3.0</td>\n",
       "      <td>30</td>\n",
       "      <td>30.0</td>\n",
       "    </tr>\n",
       "    <tr>\n",
       "      <th>d</th>\n",
       "      <td>NaN</td>\n",
       "      <td>40</td>\n",
       "      <td>NaN</td>\n",
       "    </tr>\n",
       "  </tbody>\n",
       "</table>\n",
       "</div>"
      ],
      "text/plain": [
       "   one  two  three\n",
       "a  1.0   10   10.0\n",
       "b  2.0   20   20.0\n",
       "c  3.0   30   30.0\n",
       "d  NaN   40    NaN"
      ]
     },
     "execution_count": 122,
     "metadata": {},
     "output_type": "execute_result"
    }
   ],
   "source": [
    "data = {'one':pd.Series([1,2,3], index=['a', 'b', 'c']),\n",
    "       'two':pd.Series([10,20,30,40], index=['a', 'b', 'c', 'd']),\n",
    "       'three':pd.Series([10,20,30], index=['a', 'b', 'c'])}\n",
    "df1 = pd.DataFrame(data)\n",
    "df1"
   ]
  },
  {
   "cell_type": "code",
   "execution_count": 123,
   "metadata": {},
   "outputs": [
    {
     "data": {
      "text/html": [
       "<div>\n",
       "<style scoped>\n",
       "    .dataframe tbody tr th:only-of-type {\n",
       "        vertical-align: middle;\n",
       "    }\n",
       "\n",
       "    .dataframe tbody tr th {\n",
       "        vertical-align: top;\n",
       "    }\n",
       "\n",
       "    .dataframe thead th {\n",
       "        text-align: right;\n",
       "    }\n",
       "</style>\n",
       "<table border=\"1\" class=\"dataframe\">\n",
       "  <thead>\n",
       "    <tr style=\"text-align: right;\">\n",
       "      <th></th>\n",
       "      <th>two</th>\n",
       "      <th>three</th>\n",
       "    </tr>\n",
       "  </thead>\n",
       "  <tbody>\n",
       "    <tr>\n",
       "      <th>0</th>\n",
       "      <td>11</td>\n",
       "      <td>12</td>\n",
       "    </tr>\n",
       "    <tr>\n",
       "      <th>1</th>\n",
       "      <td>13</td>\n",
       "      <td>14</td>\n",
       "    </tr>\n",
       "  </tbody>\n",
       "</table>\n",
       "</div>"
      ],
      "text/plain": [
       "   two  three\n",
       "0   11     12\n",
       "1   13     14"
      ]
     },
     "execution_count": 123,
     "metadata": {},
     "output_type": "execute_result"
    }
   ],
   "source": [
    "df2 = pd.DataFrame([[11,12], [13,14]], columns=['two', 'three'])\n",
    "df2"
   ]
  },
  {
   "cell_type": "code",
   "execution_count": 125,
   "metadata": {},
   "outputs": [
    {
     "data": {
      "text/html": [
       "<div>\n",
       "<style scoped>\n",
       "    .dataframe tbody tr th:only-of-type {\n",
       "        vertical-align: middle;\n",
       "    }\n",
       "\n",
       "    .dataframe tbody tr th {\n",
       "        vertical-align: top;\n",
       "    }\n",
       "\n",
       "    .dataframe thead th {\n",
       "        text-align: right;\n",
       "    }\n",
       "</style>\n",
       "<table border=\"1\" class=\"dataframe\">\n",
       "  <thead>\n",
       "    <tr style=\"text-align: right;\">\n",
       "      <th></th>\n",
       "      <th>one</th>\n",
       "      <th>three</th>\n",
       "      <th>two</th>\n",
       "    </tr>\n",
       "  </thead>\n",
       "  <tbody>\n",
       "    <tr>\n",
       "      <th>a</th>\n",
       "      <td>1.0</td>\n",
       "      <td>10.0</td>\n",
       "      <td>10</td>\n",
       "    </tr>\n",
       "    <tr>\n",
       "      <th>b</th>\n",
       "      <td>2.0</td>\n",
       "      <td>20.0</td>\n",
       "      <td>20</td>\n",
       "    </tr>\n",
       "    <tr>\n",
       "      <th>c</th>\n",
       "      <td>3.0</td>\n",
       "      <td>30.0</td>\n",
       "      <td>30</td>\n",
       "    </tr>\n",
       "    <tr>\n",
       "      <th>d</th>\n",
       "      <td>NaN</td>\n",
       "      <td>NaN</td>\n",
       "      <td>40</td>\n",
       "    </tr>\n",
       "    <tr>\n",
       "      <th>0</th>\n",
       "      <td>NaN</td>\n",
       "      <td>12.0</td>\n",
       "      <td>11</td>\n",
       "    </tr>\n",
       "    <tr>\n",
       "      <th>1</th>\n",
       "      <td>NaN</td>\n",
       "      <td>14.0</td>\n",
       "      <td>13</td>\n",
       "    </tr>\n",
       "  </tbody>\n",
       "</table>\n",
       "</div>"
      ],
      "text/plain": [
       "   one  three  two\n",
       "a  1.0   10.0   10\n",
       "b  2.0   20.0   20\n",
       "c  3.0   30.0   30\n",
       "d  NaN    NaN   40\n",
       "0  NaN   12.0   11\n",
       "1  NaN   14.0   13"
      ]
     },
     "execution_count": 125,
     "metadata": {},
     "output_type": "execute_result"
    }
   ],
   "source": [
    "# appending the df2 to df1\n",
    "new_df = df1.append(df2, sort=True)\n",
    "new_df"
   ]
  },
  {
   "cell_type": "code",
   "execution_count": 127,
   "metadata": {},
   "outputs": [
    {
     "data": {
      "text/plain": [
       "one       1.0\n",
       "three    10.0\n",
       "two      10.0\n",
       "Name: a, dtype: float64"
      ]
     },
     "execution_count": 127,
     "metadata": {},
     "output_type": "execute_result"
    }
   ],
   "source": [
    "new_df.loc['a']"
   ]
  },
  {
   "cell_type": "code",
   "execution_count": 128,
   "metadata": {},
   "outputs": [
    {
     "data": {
      "text/plain": [
       "one       NaN\n",
       "three    12.0\n",
       "two      11.0\n",
       "Name: 0, dtype: float64"
      ]
     },
     "execution_count": 128,
     "metadata": {},
     "output_type": "execute_result"
    }
   ],
   "source": [
    "new_df.loc[0]"
   ]
  },
  {
   "cell_type": "code",
   "execution_count": 129,
   "metadata": {},
   "outputs": [
    {
     "data": {
      "text/plain": [
       "one       1.0\n",
       "three    10.0\n",
       "two      10.0\n",
       "Name: a, dtype: float64"
      ]
     },
     "execution_count": 129,
     "metadata": {},
     "output_type": "execute_result"
    }
   ],
   "source": [
    "new_df.iloc[0]"
   ]
  },
  {
   "cell_type": "code",
   "execution_count": 132,
   "metadata": {},
   "outputs": [
    {
     "data": {
      "text/plain": [
       "one       1.0\n",
       "three    10.0\n",
       "two      10.0\n",
       "Name: a, dtype: float64"
      ]
     },
     "execution_count": 132,
     "metadata": {},
     "output_type": "execute_result"
    }
   ],
   "source": [
    "new_df.iloc[0]"
   ]
  },
  {
   "cell_type": "code",
   "execution_count": 133,
   "metadata": {},
   "outputs": [
    {
     "data": {
      "text/plain": [
       "1.0"
      ]
     },
     "execution_count": 133,
     "metadata": {},
     "output_type": "execute_result"
    }
   ],
   "source": [
    "new_df.iloc[0]['one']"
   ]
  },
  {
   "cell_type": "code",
   "execution_count": 134,
   "metadata": {},
   "outputs": [
    {
     "data": {
      "text/plain": [
       "10.0"
      ]
     },
     "execution_count": 134,
     "metadata": {},
     "output_type": "execute_result"
    }
   ],
   "source": [
    "new_df.iloc[0]['three']"
   ]
  },
  {
   "cell_type": "code",
   "execution_count": 135,
   "metadata": {},
   "outputs": [
    {
     "data": {
      "text/plain": [
       "one       NaN\n",
       "three    12.0\n",
       "two      11.0\n",
       "Name: 0, dtype: float64"
      ]
     },
     "execution_count": 135,
     "metadata": {},
     "output_type": "execute_result"
    }
   ],
   "source": [
    "new_df.iloc[4]"
   ]
  },
  {
   "cell_type": "markdown",
   "metadata": {},
   "source": [
    "#### deleting a row\n",
    "- df.drop(row_label OR row_index)\n",
    "- drop method can also be used to delete a column syntax: df.drop(column_name, axis=1)"
   ]
  },
  {
   "cell_type": "code",
   "execution_count": 137,
   "metadata": {},
   "outputs": [
    {
     "data": {
      "text/html": [
       "<div>\n",
       "<style scoped>\n",
       "    .dataframe tbody tr th:only-of-type {\n",
       "        vertical-align: middle;\n",
       "    }\n",
       "\n",
       "    .dataframe tbody tr th {\n",
       "        vertical-align: top;\n",
       "    }\n",
       "\n",
       "    .dataframe thead th {\n",
       "        text-align: right;\n",
       "    }\n",
       "</style>\n",
       "<table border=\"1\" class=\"dataframe\">\n",
       "  <thead>\n",
       "    <tr style=\"text-align: right;\">\n",
       "      <th></th>\n",
       "      <th>one</th>\n",
       "      <th>two</th>\n",
       "    </tr>\n",
       "  </thead>\n",
       "  <tbody>\n",
       "    <tr>\n",
       "      <th>a</th>\n",
       "      <td>10.0</td>\n",
       "      <td>10</td>\n",
       "    </tr>\n",
       "    <tr>\n",
       "      <th>b</th>\n",
       "      <td>20.0</td>\n",
       "      <td>20</td>\n",
       "    </tr>\n",
       "    <tr>\n",
       "      <th>c</th>\n",
       "      <td>30.0</td>\n",
       "      <td>30</td>\n",
       "    </tr>\n",
       "    <tr>\n",
       "      <th>d</th>\n",
       "      <td>NaN</td>\n",
       "      <td>40</td>\n",
       "    </tr>\n",
       "  </tbody>\n",
       "</table>\n",
       "</div>"
      ],
      "text/plain": [
       "    one  two\n",
       "a  10.0   10\n",
       "b  20.0   20\n",
       "c  30.0   30\n",
       "d   NaN   40"
      ]
     },
     "execution_count": 137,
     "metadata": {},
     "output_type": "execute_result"
    }
   ],
   "source": [
    "data = {'one':pd.Series([10,20,30], index=['a', 'b', 'c']),\n",
    "       'two':pd.Series([10,20,30,40], index=['a', 'b', 'c', 'd'])}\n",
    "df = pd.DataFrame(data)\n",
    "df"
   ]
  },
  {
   "cell_type": "code",
   "execution_count": 139,
   "metadata": {},
   "outputs": [
    {
     "data": {
      "text/html": [
       "<div>\n",
       "<style scoped>\n",
       "    .dataframe tbody tr th:only-of-type {\n",
       "        vertical-align: middle;\n",
       "    }\n",
       "\n",
       "    .dataframe tbody tr th {\n",
       "        vertical-align: top;\n",
       "    }\n",
       "\n",
       "    .dataframe thead th {\n",
       "        text-align: right;\n",
       "    }\n",
       "</style>\n",
       "<table border=\"1\" class=\"dataframe\">\n",
       "  <thead>\n",
       "    <tr style=\"text-align: right;\">\n",
       "      <th></th>\n",
       "      <th>one</th>\n",
       "      <th>two</th>\n",
       "    </tr>\n",
       "  </thead>\n",
       "  <tbody>\n",
       "    <tr>\n",
       "      <th>b</th>\n",
       "      <td>20.0</td>\n",
       "      <td>20</td>\n",
       "    </tr>\n",
       "    <tr>\n",
       "      <th>c</th>\n",
       "      <td>30.0</td>\n",
       "      <td>30</td>\n",
       "    </tr>\n",
       "    <tr>\n",
       "      <th>d</th>\n",
       "      <td>NaN</td>\n",
       "      <td>40</td>\n",
       "    </tr>\n",
       "  </tbody>\n",
       "</table>\n",
       "</div>"
      ],
      "text/plain": [
       "    one  two\n",
       "b  20.0   20\n",
       "c  30.0   30\n",
       "d   NaN   40"
      ]
     },
     "execution_count": 139,
     "metadata": {},
     "output_type": "execute_result"
    }
   ],
   "source": [
    "new_df = df.drop('a')  # axis=0 by default\n",
    "new_df"
   ]
  },
  {
   "cell_type": "code",
   "execution_count": 140,
   "metadata": {},
   "outputs": [
    {
     "data": {
      "text/html": [
       "<div>\n",
       "<style scoped>\n",
       "    .dataframe tbody tr th:only-of-type {\n",
       "        vertical-align: middle;\n",
       "    }\n",
       "\n",
       "    .dataframe tbody tr th {\n",
       "        vertical-align: top;\n",
       "    }\n",
       "\n",
       "    .dataframe thead th {\n",
       "        text-align: right;\n",
       "    }\n",
       "</style>\n",
       "<table border=\"1\" class=\"dataframe\">\n",
       "  <thead>\n",
       "    <tr style=\"text-align: right;\">\n",
       "      <th></th>\n",
       "      <th>one</th>\n",
       "    </tr>\n",
       "  </thead>\n",
       "  <tbody>\n",
       "    <tr>\n",
       "      <th>a</th>\n",
       "      <td>10.0</td>\n",
       "    </tr>\n",
       "    <tr>\n",
       "      <th>b</th>\n",
       "      <td>20.0</td>\n",
       "    </tr>\n",
       "    <tr>\n",
       "      <th>c</th>\n",
       "      <td>30.0</td>\n",
       "    </tr>\n",
       "    <tr>\n",
       "      <th>d</th>\n",
       "      <td>NaN</td>\n",
       "    </tr>\n",
       "  </tbody>\n",
       "</table>\n",
       "</div>"
      ],
      "text/plain": [
       "    one\n",
       "a  10.0\n",
       "b  20.0\n",
       "c  30.0\n",
       "d   NaN"
      ]
     },
     "execution_count": 140,
     "metadata": {},
     "output_type": "execute_result"
    }
   ],
   "source": [
    "df = df.drop('two', axis=1)\n",
    "df"
   ]
  },
  {
   "cell_type": "markdown",
   "metadata": {},
   "source": [
    "## Loading CSVfile to DataFrame"
   ]
  },
  {
   "cell_type": "code",
   "execution_count": 144,
   "metadata": {},
   "outputs": [
    {
     "data": {
      "text/html": [
       "<div>\n",
       "<style scoped>\n",
       "    .dataframe tbody tr th:only-of-type {\n",
       "        vertical-align: middle;\n",
       "    }\n",
       "\n",
       "    .dataframe tbody tr th {\n",
       "        vertical-align: top;\n",
       "    }\n",
       "\n",
       "    .dataframe thead th {\n",
       "        text-align: right;\n",
       "    }\n",
       "</style>\n",
       "<table border=\"1\" class=\"dataframe\">\n",
       "  <thead>\n",
       "    <tr style=\"text-align: right;\">\n",
       "      <th></th>\n",
       "      <th>Country</th>\n",
       "      <th>LandArea</th>\n",
       "      <th>Population</th>\n",
       "      <th>GDP</th>\n",
       "      <th>Rural</th>\n",
       "      <th>Internet</th>\n",
       "      <th>BirthRate</th>\n",
       "      <th>DeathRate</th>\n",
       "      <th>ElderlyPop</th>\n",
       "      <th>LifeExpectancy</th>\n",
       "      <th>FemaleLabor</th>\n",
       "      <th>Unemployment</th>\n",
       "    </tr>\n",
       "  </thead>\n",
       "  <tbody>\n",
       "    <tr>\n",
       "      <th>0</th>\n",
       "      <td>Afghanistan</td>\n",
       "      <td>652.860</td>\n",
       "      <td>30.552</td>\n",
       "      <td>665.0</td>\n",
       "      <td>74.1</td>\n",
       "      <td>5.9</td>\n",
       "      <td>34.1</td>\n",
       "      <td>7.8</td>\n",
       "      <td>2.3</td>\n",
       "      <td>60.9</td>\n",
       "      <td>16.2</td>\n",
       "      <td>NaN</td>\n",
       "    </tr>\n",
       "    <tr>\n",
       "      <th>1</th>\n",
       "      <td>Albania</td>\n",
       "      <td>27.400</td>\n",
       "      <td>2.897</td>\n",
       "      <td>4460.0</td>\n",
       "      <td>44.6</td>\n",
       "      <td>60.1</td>\n",
       "      <td>12.9</td>\n",
       "      <td>6.9</td>\n",
       "      <td>10.7</td>\n",
       "      <td>77.5</td>\n",
       "      <td>51.7</td>\n",
       "      <td>13.4</td>\n",
       "    </tr>\n",
       "    <tr>\n",
       "      <th>2</th>\n",
       "      <td>Algeria</td>\n",
       "      <td>2381.740</td>\n",
       "      <td>39.208</td>\n",
       "      <td>5361.0</td>\n",
       "      <td>30.5</td>\n",
       "      <td>16.5</td>\n",
       "      <td>24.3</td>\n",
       "      <td>5.9</td>\n",
       "      <td>4.6</td>\n",
       "      <td>71.0</td>\n",
       "      <td>16.2</td>\n",
       "      <td>11.0</td>\n",
       "    </tr>\n",
       "    <tr>\n",
       "      <th>3</th>\n",
       "      <td>American Samoa</td>\n",
       "      <td>0.200</td>\n",
       "      <td>0.055</td>\n",
       "      <td>NaN</td>\n",
       "      <td>12.7</td>\n",
       "      <td>NaN</td>\n",
       "      <td>NaN</td>\n",
       "      <td>NaN</td>\n",
       "      <td>NaN</td>\n",
       "      <td>NaN</td>\n",
       "      <td>NaN</td>\n",
       "      <td>NaN</td>\n",
       "    </tr>\n",
       "    <tr>\n",
       "      <th>4</th>\n",
       "      <td>Andorra</td>\n",
       "      <td>0.470</td>\n",
       "      <td>0.079</td>\n",
       "      <td>NaN</td>\n",
       "      <td>13.8</td>\n",
       "      <td>94.0</td>\n",
       "      <td>NaN</td>\n",
       "      <td>NaN</td>\n",
       "      <td>NaN</td>\n",
       "      <td>NaN</td>\n",
       "      <td>NaN</td>\n",
       "      <td>NaN</td>\n",
       "    </tr>\n",
       "    <tr>\n",
       "      <th>5</th>\n",
       "      <td>Angola</td>\n",
       "      <td>1246.700</td>\n",
       "      <td>21.472</td>\n",
       "      <td>5783.0</td>\n",
       "      <td>57.5</td>\n",
       "      <td>19.1</td>\n",
       "      <td>44.1</td>\n",
       "      <td>13.9</td>\n",
       "      <td>2.4</td>\n",
       "      <td>51.9</td>\n",
       "      <td>64.5</td>\n",
       "      <td>NaN</td>\n",
       "    </tr>\n",
       "    <tr>\n",
       "      <th>6</th>\n",
       "      <td>Antigua and Barbuda</td>\n",
       "      <td>0.440</td>\n",
       "      <td>0.090</td>\n",
       "      <td>13342.0</td>\n",
       "      <td>75.4</td>\n",
       "      <td>63.4</td>\n",
       "      <td>16.5</td>\n",
       "      <td>6.1</td>\n",
       "      <td>7.1</td>\n",
       "      <td>75.8</td>\n",
       "      <td>NaN</td>\n",
       "      <td>NaN</td>\n",
       "    </tr>\n",
       "    <tr>\n",
       "      <th>7</th>\n",
       "      <td>Argentina</td>\n",
       "      <td>2736.690</td>\n",
       "      <td>41.446</td>\n",
       "      <td>14715.0</td>\n",
       "      <td>8.5</td>\n",
       "      <td>59.9</td>\n",
       "      <td>16.8</td>\n",
       "      <td>7.7</td>\n",
       "      <td>10.9</td>\n",
       "      <td>76.2</td>\n",
       "      <td>55.1</td>\n",
       "      <td>7.2</td>\n",
       "    </tr>\n",
       "    <tr>\n",
       "      <th>8</th>\n",
       "      <td>Armenia</td>\n",
       "      <td>28.470</td>\n",
       "      <td>2.977</td>\n",
       "      <td>3505.0</td>\n",
       "      <td>37.0</td>\n",
       "      <td>46.3</td>\n",
       "      <td>13.7</td>\n",
       "      <td>8.7</td>\n",
       "      <td>10.3</td>\n",
       "      <td>74.5</td>\n",
       "      <td>58.4</td>\n",
       "      <td>NaN</td>\n",
       "    </tr>\n",
       "    <tr>\n",
       "      <th>9</th>\n",
       "      <td>Aruba</td>\n",
       "      <td>0.180</td>\n",
       "      <td>0.103</td>\n",
       "      <td>NaN</td>\n",
       "      <td>57.9</td>\n",
       "      <td>78.9</td>\n",
       "      <td>10.3</td>\n",
       "      <td>8.4</td>\n",
       "      <td>11.3</td>\n",
       "      <td>75.3</td>\n",
       "      <td>NaN</td>\n",
       "      <td>NaN</td>\n",
       "    </tr>\n",
       "    <tr>\n",
       "      <th>10</th>\n",
       "      <td>Australia</td>\n",
       "      <td>7682.300</td>\n",
       "      <td>23.129</td>\n",
       "      <td>67463.0</td>\n",
       "      <td>10.8</td>\n",
       "      <td>83.0</td>\n",
       "      <td>13.2</td>\n",
       "      <td>6.3</td>\n",
       "      <td>14.3</td>\n",
       "      <td>82.2</td>\n",
       "      <td>70.5</td>\n",
       "      <td>5.2</td>\n",
       "    </tr>\n",
       "    <tr>\n",
       "      <th>11</th>\n",
       "      <td>Austria</td>\n",
       "      <td>82.409</td>\n",
       "      <td>8.480</td>\n",
       "      <td>50511.0</td>\n",
       "      <td>34.1</td>\n",
       "      <td>80.6</td>\n",
       "      <td>9.4</td>\n",
       "      <td>9.4</td>\n",
       "      <td>18.4</td>\n",
       "      <td>80.9</td>\n",
       "      <td>70.6</td>\n",
       "      <td>4.3</td>\n",
       "    </tr>\n",
       "    <tr>\n",
       "      <th>12</th>\n",
       "      <td>Azerbaijan</td>\n",
       "      <td>82.658</td>\n",
       "      <td>9.417</td>\n",
       "      <td>7812.0</td>\n",
       "      <td>45.9</td>\n",
       "      <td>58.7</td>\n",
       "      <td>18.3</td>\n",
       "      <td>5.8</td>\n",
       "      <td>5.6</td>\n",
       "      <td>70.7</td>\n",
       "      <td>68.1</td>\n",
       "      <td>5.2</td>\n",
       "    </tr>\n",
       "    <tr>\n",
       "      <th>13</th>\n",
       "      <td>Bahamas, The</td>\n",
       "      <td>10.010</td>\n",
       "      <td>0.377</td>\n",
       "      <td>22312.0</td>\n",
       "      <td>17.3</td>\n",
       "      <td>72.0</td>\n",
       "      <td>15.3</td>\n",
       "      <td>6.1</td>\n",
       "      <td>7.7</td>\n",
       "      <td>75.1</td>\n",
       "      <td>76.4</td>\n",
       "      <td>14.0</td>\n",
       "    </tr>\n",
       "    <tr>\n",
       "      <th>14</th>\n",
       "      <td>Bahrain</td>\n",
       "      <td>0.760</td>\n",
       "      <td>1.332</td>\n",
       "      <td>24689.0</td>\n",
       "      <td>11.3</td>\n",
       "      <td>90.0</td>\n",
       "      <td>15.2</td>\n",
       "      <td>2.3</td>\n",
       "      <td>2.2</td>\n",
       "      <td>76.7</td>\n",
       "      <td>40.7</td>\n",
       "      <td>1.2</td>\n",
       "    </tr>\n",
       "    <tr>\n",
       "      <th>15</th>\n",
       "      <td>Bangladesh</td>\n",
       "      <td>130.170</td>\n",
       "      <td>156.595</td>\n",
       "      <td>958.0</td>\n",
       "      <td>67.2</td>\n",
       "      <td>6.5</td>\n",
       "      <td>20.0</td>\n",
       "      <td>5.7</td>\n",
       "      <td>4.8</td>\n",
       "      <td>70.7</td>\n",
       "      <td>60.4</td>\n",
       "      <td>NaN</td>\n",
       "    </tr>\n",
       "    <tr>\n",
       "      <th>16</th>\n",
       "      <td>Barbados</td>\n",
       "      <td>0.430</td>\n",
       "      <td>0.285</td>\n",
       "      <td>NaN</td>\n",
       "      <td>68.3</td>\n",
       "      <td>75.0</td>\n",
       "      <td>12.7</td>\n",
       "      <td>9.1</td>\n",
       "      <td>10.9</td>\n",
       "      <td>75.3</td>\n",
       "      <td>76.6</td>\n",
       "      <td>11.6</td>\n",
       "    </tr>\n",
       "    <tr>\n",
       "      <th>17</th>\n",
       "      <td>Belarus</td>\n",
       "      <td>202.910</td>\n",
       "      <td>9.466</td>\n",
       "      <td>7575.0</td>\n",
       "      <td>24.1</td>\n",
       "      <td>54.2</td>\n",
       "      <td>12.5</td>\n",
       "      <td>13.2</td>\n",
       "      <td>13.8</td>\n",
       "      <td>72.5</td>\n",
       "      <td>62.2</td>\n",
       "      <td>NaN</td>\n",
       "    </tr>\n",
       "    <tr>\n",
       "      <th>18</th>\n",
       "      <td>Belgium</td>\n",
       "      <td>30.280</td>\n",
       "      <td>11.183</td>\n",
       "      <td>46930.0</td>\n",
       "      <td>2.2</td>\n",
       "      <td>82.2</td>\n",
       "      <td>11.2</td>\n",
       "      <td>9.8</td>\n",
       "      <td>18.0</td>\n",
       "      <td>80.4</td>\n",
       "      <td>62.1</td>\n",
       "      <td>7.5</td>\n",
       "    </tr>\n",
       "    <tr>\n",
       "      <th>19</th>\n",
       "      <td>Belize</td>\n",
       "      <td>22.810</td>\n",
       "      <td>0.332</td>\n",
       "      <td>4894.0</td>\n",
       "      <td>55.7</td>\n",
       "      <td>31.7</td>\n",
       "      <td>23.4</td>\n",
       "      <td>4.5</td>\n",
       "      <td>4.0</td>\n",
       "      <td>73.9</td>\n",
       "      <td>51.9</td>\n",
       "      <td>14.4</td>\n",
       "    </tr>\n",
       "    <tr>\n",
       "      <th>20</th>\n",
       "      <td>Benin</td>\n",
       "      <td>112.760</td>\n",
       "      <td>10.323</td>\n",
       "      <td>805.0</td>\n",
       "      <td>56.9</td>\n",
       "      <td>4.9</td>\n",
       "      <td>36.4</td>\n",
       "      <td>9.5</td>\n",
       "      <td>2.9</td>\n",
       "      <td>59.3</td>\n",
       "      <td>68.9</td>\n",
       "      <td>NaN</td>\n",
       "    </tr>\n",
       "    <tr>\n",
       "      <th>21</th>\n",
       "      <td>Bermuda</td>\n",
       "      <td>0.050</td>\n",
       "      <td>0.065</td>\n",
       "      <td>NaN</td>\n",
       "      <td>0.0</td>\n",
       "      <td>95.3</td>\n",
       "      <td>10.4</td>\n",
       "      <td>6.8</td>\n",
       "      <td>NaN</td>\n",
       "      <td>80.6</td>\n",
       "      <td>NaN</td>\n",
       "      <td>8.4</td>\n",
       "    </tr>\n",
       "    <tr>\n",
       "      <th>22</th>\n",
       "      <td>Bhutan</td>\n",
       "      <td>38.117</td>\n",
       "      <td>0.754</td>\n",
       "      <td>2363.0</td>\n",
       "      <td>62.9</td>\n",
       "      <td>29.9</td>\n",
       "      <td>19.6</td>\n",
       "      <td>6.5</td>\n",
       "      <td>4.8</td>\n",
       "      <td>68.3</td>\n",
       "      <td>69.1</td>\n",
       "      <td>2.1</td>\n",
       "    </tr>\n",
       "    <tr>\n",
       "      <th>23</th>\n",
       "      <td>Bolivia</td>\n",
       "      <td>1083.300</td>\n",
       "      <td>10.671</td>\n",
       "      <td>2868.0</td>\n",
       "      <td>32.3</td>\n",
       "      <td>39.5</td>\n",
       "      <td>25.7</td>\n",
       "      <td>7.1</td>\n",
       "      <td>4.9</td>\n",
       "      <td>67.2</td>\n",
       "      <td>66.2</td>\n",
       "      <td>NaN</td>\n",
       "    </tr>\n",
       "    <tr>\n",
       "      <th>24</th>\n",
       "      <td>Bosnia and Herzegovina</td>\n",
       "      <td>51.000</td>\n",
       "      <td>3.829</td>\n",
       "      <td>4662.0</td>\n",
       "      <td>60.5</td>\n",
       "      <td>67.9</td>\n",
       "      <td>9.0</td>\n",
       "      <td>10.1</td>\n",
       "      <td>15.6</td>\n",
       "      <td>76.3</td>\n",
       "      <td>42.0</td>\n",
       "      <td>28.1</td>\n",
       "    </tr>\n",
       "    <tr>\n",
       "      <th>25</th>\n",
       "      <td>Botswana</td>\n",
       "      <td>566.730</td>\n",
       "      <td>2.021</td>\n",
       "      <td>7315.0</td>\n",
       "      <td>43.1</td>\n",
       "      <td>15.0</td>\n",
       "      <td>23.6</td>\n",
       "      <td>16.9</td>\n",
       "      <td>3.6</td>\n",
       "      <td>47.4</td>\n",
       "      <td>75.0</td>\n",
       "      <td>NaN</td>\n",
       "    </tr>\n",
       "    <tr>\n",
       "      <th>26</th>\n",
       "      <td>Brazil</td>\n",
       "      <td>8358.140</td>\n",
       "      <td>200.362</td>\n",
       "      <td>11208.0</td>\n",
       "      <td>14.8</td>\n",
       "      <td>51.6</td>\n",
       "      <td>14.9</td>\n",
       "      <td>6.5</td>\n",
       "      <td>7.5</td>\n",
       "      <td>73.9</td>\n",
       "      <td>65.0</td>\n",
       "      <td>NaN</td>\n",
       "    </tr>\n",
       "    <tr>\n",
       "      <th>27</th>\n",
       "      <td>Brunei Darussalam</td>\n",
       "      <td>5.270</td>\n",
       "      <td>0.418</td>\n",
       "      <td>38563.0</td>\n",
       "      <td>23.4</td>\n",
       "      <td>64.5</td>\n",
       "      <td>15.5</td>\n",
       "      <td>3.1</td>\n",
       "      <td>4.3</td>\n",
       "      <td>78.6</td>\n",
       "      <td>55.7</td>\n",
       "      <td>NaN</td>\n",
       "    </tr>\n",
       "    <tr>\n",
       "      <th>28</th>\n",
       "      <td>Bulgaria</td>\n",
       "      <td>108.560</td>\n",
       "      <td>7.265</td>\n",
       "      <td>7499.0</td>\n",
       "      <td>26.7</td>\n",
       "      <td>53.1</td>\n",
       "      <td>9.2</td>\n",
       "      <td>14.4</td>\n",
       "      <td>19.3</td>\n",
       "      <td>74.5</td>\n",
       "      <td>63.7</td>\n",
       "      <td>12.3</td>\n",
       "    </tr>\n",
       "    <tr>\n",
       "      <th>29</th>\n",
       "      <td>Burkina Faso</td>\n",
       "      <td>273.600</td>\n",
       "      <td>16.935</td>\n",
       "      <td>761.0</td>\n",
       "      <td>71.8</td>\n",
       "      <td>4.4</td>\n",
       "      <td>40.9</td>\n",
       "      <td>11.1</td>\n",
       "      <td>2.4</td>\n",
       "      <td>56.3</td>\n",
       "      <td>79.5</td>\n",
       "      <td>NaN</td>\n",
       "    </tr>\n",
       "    <tr>\n",
       "      <th>...</th>\n",
       "      <td>...</td>\n",
       "      <td>...</td>\n",
       "      <td>...</td>\n",
       "      <td>...</td>\n",
       "      <td>...</td>\n",
       "      <td>...</td>\n",
       "      <td>...</td>\n",
       "      <td>...</td>\n",
       "      <td>...</td>\n",
       "      <td>...</td>\n",
       "      <td>...</td>\n",
       "      <td>...</td>\n",
       "    </tr>\n",
       "    <tr>\n",
       "      <th>185</th>\n",
       "      <td>Sweden</td>\n",
       "      <td>407.340</td>\n",
       "      <td>9.600</td>\n",
       "      <td>60381.0</td>\n",
       "      <td>14.5</td>\n",
       "      <td>94.8</td>\n",
       "      <td>11.8</td>\n",
       "      <td>9.4</td>\n",
       "      <td>19.3</td>\n",
       "      <td>81.7</td>\n",
       "      <td>78.6</td>\n",
       "      <td>8.0</td>\n",
       "    </tr>\n",
       "    <tr>\n",
       "      <th>186</th>\n",
       "      <td>Switzerland</td>\n",
       "      <td>39.516</td>\n",
       "      <td>8.088</td>\n",
       "      <td>84748.0</td>\n",
       "      <td>26.2</td>\n",
       "      <td>86.7</td>\n",
       "      <td>10.2</td>\n",
       "      <td>8.0</td>\n",
       "      <td>17.7</td>\n",
       "      <td>82.7</td>\n",
       "      <td>78.0</td>\n",
       "      <td>4.2</td>\n",
       "    </tr>\n",
       "    <tr>\n",
       "      <th>187</th>\n",
       "      <td>Syrian Arab Republic</td>\n",
       "      <td>183.630</td>\n",
       "      <td>22.846</td>\n",
       "      <td>NaN</td>\n",
       "      <td>43.1</td>\n",
       "      <td>26.2</td>\n",
       "      <td>24.0</td>\n",
       "      <td>3.9</td>\n",
       "      <td>4.1</td>\n",
       "      <td>74.7</td>\n",
       "      <td>14.3</td>\n",
       "      <td>NaN</td>\n",
       "    </tr>\n",
       "    <tr>\n",
       "      <th>188</th>\n",
       "      <td>Tajikistan</td>\n",
       "      <td>139.960</td>\n",
       "      <td>8.208</td>\n",
       "      <td>1037.0</td>\n",
       "      <td>73.4</td>\n",
       "      <td>16.0</td>\n",
       "      <td>33.0</td>\n",
       "      <td>6.6</td>\n",
       "      <td>3.2</td>\n",
       "      <td>67.4</td>\n",
       "      <td>61.7</td>\n",
       "      <td>NaN</td>\n",
       "    </tr>\n",
       "    <tr>\n",
       "      <th>189</th>\n",
       "      <td>Tanzania</td>\n",
       "      <td>885.800</td>\n",
       "      <td>49.253</td>\n",
       "      <td>913.0</td>\n",
       "      <td>69.8</td>\n",
       "      <td>4.4</td>\n",
       "      <td>39.2</td>\n",
       "      <td>8.5</td>\n",
       "      <td>3.2</td>\n",
       "      <td>61.5</td>\n",
       "      <td>89.9</td>\n",
       "      <td>NaN</td>\n",
       "    </tr>\n",
       "    <tr>\n",
       "      <th>190</th>\n",
       "      <td>Thailand</td>\n",
       "      <td>510.890</td>\n",
       "      <td>67.011</td>\n",
       "      <td>5779.0</td>\n",
       "      <td>52.1</td>\n",
       "      <td>28.9</td>\n",
       "      <td>10.2</td>\n",
       "      <td>7.7</td>\n",
       "      <td>9.7</td>\n",
       "      <td>74.4</td>\n",
       "      <td>70.9</td>\n",
       "      <td>0.7</td>\n",
       "    </tr>\n",
       "    <tr>\n",
       "      <th>191</th>\n",
       "      <td>Timor-Leste</td>\n",
       "      <td>14.870</td>\n",
       "      <td>1.180</td>\n",
       "      <td>NaN</td>\n",
       "      <td>68.5</td>\n",
       "      <td>1.1</td>\n",
       "      <td>35.8</td>\n",
       "      <td>5.7</td>\n",
       "      <td>3.3</td>\n",
       "      <td>67.5</td>\n",
       "      <td>25.2</td>\n",
       "      <td>NaN</td>\n",
       "    </tr>\n",
       "    <tr>\n",
       "      <th>192</th>\n",
       "      <td>Togo</td>\n",
       "      <td>54.390</td>\n",
       "      <td>6.817</td>\n",
       "      <td>636.0</td>\n",
       "      <td>61.0</td>\n",
       "      <td>4.5</td>\n",
       "      <td>36.4</td>\n",
       "      <td>10.7</td>\n",
       "      <td>2.8</td>\n",
       "      <td>56.5</td>\n",
       "      <td>82.2</td>\n",
       "      <td>NaN</td>\n",
       "    </tr>\n",
       "    <tr>\n",
       "      <th>193</th>\n",
       "      <td>Tonga</td>\n",
       "      <td>0.720</td>\n",
       "      <td>0.105</td>\n",
       "      <td>4427.0</td>\n",
       "      <td>76.4</td>\n",
       "      <td>35.0</td>\n",
       "      <td>25.5</td>\n",
       "      <td>6.0</td>\n",
       "      <td>5.9</td>\n",
       "      <td>72.6</td>\n",
       "      <td>56.4</td>\n",
       "      <td>NaN</td>\n",
       "    </tr>\n",
       "    <tr>\n",
       "      <th>194</th>\n",
       "      <td>Trinidad and Tobago</td>\n",
       "      <td>5.130</td>\n",
       "      <td>1.341</td>\n",
       "      <td>18373.0</td>\n",
       "      <td>91.3</td>\n",
       "      <td>63.8</td>\n",
       "      <td>14.5</td>\n",
       "      <td>9.6</td>\n",
       "      <td>9.0</td>\n",
       "      <td>69.9</td>\n",
       "      <td>59.7</td>\n",
       "      <td>5.0</td>\n",
       "    </tr>\n",
       "    <tr>\n",
       "      <th>195</th>\n",
       "      <td>Tunisia</td>\n",
       "      <td>155.360</td>\n",
       "      <td>10.887</td>\n",
       "      <td>4317.0</td>\n",
       "      <td>33.5</td>\n",
       "      <td>43.8</td>\n",
       "      <td>19.8</td>\n",
       "      <td>6.3</td>\n",
       "      <td>7.2</td>\n",
       "      <td>73.6</td>\n",
       "      <td>27.3</td>\n",
       "      <td>17.6</td>\n",
       "    </tr>\n",
       "    <tr>\n",
       "      <th>196</th>\n",
       "      <td>Turkey</td>\n",
       "      <td>769.630</td>\n",
       "      <td>74.933</td>\n",
       "      <td>10972.0</td>\n",
       "      <td>27.6</td>\n",
       "      <td>46.3</td>\n",
       "      <td>16.8</td>\n",
       "      <td>5.7</td>\n",
       "      <td>7.4</td>\n",
       "      <td>75.2</td>\n",
       "      <td>32.2</td>\n",
       "      <td>9.2</td>\n",
       "    </tr>\n",
       "    <tr>\n",
       "      <th>197</th>\n",
       "      <td>Turkmenistan</td>\n",
       "      <td>469.930</td>\n",
       "      <td>5.240</td>\n",
       "      <td>7987.0</td>\n",
       "      <td>50.7</td>\n",
       "      <td>9.6</td>\n",
       "      <td>21.3</td>\n",
       "      <td>7.8</td>\n",
       "      <td>4.1</td>\n",
       "      <td>65.5</td>\n",
       "      <td>49.7</td>\n",
       "      <td>NaN</td>\n",
       "    </tr>\n",
       "    <tr>\n",
       "      <th>198</th>\n",
       "      <td>Turks and Caicos Islands</td>\n",
       "      <td>0.950</td>\n",
       "      <td>0.033</td>\n",
       "      <td>NaN</td>\n",
       "      <td>8.5</td>\n",
       "      <td>NaN</td>\n",
       "      <td>NaN</td>\n",
       "      <td>NaN</td>\n",
       "      <td>NaN</td>\n",
       "      <td>NaN</td>\n",
       "      <td>NaN</td>\n",
       "      <td>NaN</td>\n",
       "    </tr>\n",
       "    <tr>\n",
       "      <th>199</th>\n",
       "      <td>Tuvalu</td>\n",
       "      <td>0.030</td>\n",
       "      <td>0.010</td>\n",
       "      <td>3880.0</td>\n",
       "      <td>42.2</td>\n",
       "      <td>37.0</td>\n",
       "      <td>NaN</td>\n",
       "      <td>NaN</td>\n",
       "      <td>NaN</td>\n",
       "      <td>NaN</td>\n",
       "      <td>NaN</td>\n",
       "      <td>NaN</td>\n",
       "    </tr>\n",
       "    <tr>\n",
       "      <th>200</th>\n",
       "      <td>Uganda</td>\n",
       "      <td>199.810</td>\n",
       "      <td>37.579</td>\n",
       "      <td>657.0</td>\n",
       "      <td>84.6</td>\n",
       "      <td>16.2</td>\n",
       "      <td>43.2</td>\n",
       "      <td>9.2</td>\n",
       "      <td>2.4</td>\n",
       "      <td>59.2</td>\n",
       "      <td>76.6</td>\n",
       "      <td>NaN</td>\n",
       "    </tr>\n",
       "    <tr>\n",
       "      <th>201</th>\n",
       "      <td>Ukraine</td>\n",
       "      <td>579.320</td>\n",
       "      <td>45.490</td>\n",
       "      <td>3900.0</td>\n",
       "      <td>30.7</td>\n",
       "      <td>41.8</td>\n",
       "      <td>11.1</td>\n",
       "      <td>14.6</td>\n",
       "      <td>15.1</td>\n",
       "      <td>71.2</td>\n",
       "      <td>62.6</td>\n",
       "      <td>7.5</td>\n",
       "    </tr>\n",
       "    <tr>\n",
       "      <th>202</th>\n",
       "      <td>United Arab Emirates</td>\n",
       "      <td>83.600</td>\n",
       "      <td>9.346</td>\n",
       "      <td>43049.0</td>\n",
       "      <td>15.0</td>\n",
       "      <td>88.0</td>\n",
       "      <td>14.5</td>\n",
       "      <td>1.0</td>\n",
       "      <td>0.4</td>\n",
       "      <td>77.1</td>\n",
       "      <td>46.8</td>\n",
       "      <td>NaN</td>\n",
       "    </tr>\n",
       "    <tr>\n",
       "      <th>203</th>\n",
       "      <td>United Kingdom</td>\n",
       "      <td>241.930</td>\n",
       "      <td>64.107</td>\n",
       "      <td>41781.0</td>\n",
       "      <td>17.9</td>\n",
       "      <td>89.8</td>\n",
       "      <td>12.2</td>\n",
       "      <td>9.0</td>\n",
       "      <td>17.5</td>\n",
       "      <td>81.0</td>\n",
       "      <td>70.3</td>\n",
       "      <td>7.9</td>\n",
       "    </tr>\n",
       "    <tr>\n",
       "      <th>204</th>\n",
       "      <td>United States</td>\n",
       "      <td>9147.420</td>\n",
       "      <td>316.129</td>\n",
       "      <td>53042.0</td>\n",
       "      <td>18.7</td>\n",
       "      <td>84.2</td>\n",
       "      <td>12.5</td>\n",
       "      <td>8.2</td>\n",
       "      <td>14.0</td>\n",
       "      <td>78.8</td>\n",
       "      <td>66.1</td>\n",
       "      <td>8.1</td>\n",
       "    </tr>\n",
       "    <tr>\n",
       "      <th>205</th>\n",
       "      <td>Uruguay</td>\n",
       "      <td>175.020</td>\n",
       "      <td>3.407</td>\n",
       "      <td>16351.0</td>\n",
       "      <td>5.0</td>\n",
       "      <td>58.1</td>\n",
       "      <td>14.5</td>\n",
       "      <td>9.3</td>\n",
       "      <td>14.1</td>\n",
       "      <td>77.1</td>\n",
       "      <td>67.4</td>\n",
       "      <td>6.5</td>\n",
       "    </tr>\n",
       "    <tr>\n",
       "      <th>206</th>\n",
       "      <td>Uzbekistan</td>\n",
       "      <td>425.400</td>\n",
       "      <td>30.243</td>\n",
       "      <td>1878.0</td>\n",
       "      <td>63.8</td>\n",
       "      <td>38.2</td>\n",
       "      <td>22.5</td>\n",
       "      <td>4.8</td>\n",
       "      <td>4.3</td>\n",
       "      <td>68.2</td>\n",
       "      <td>51.0</td>\n",
       "      <td>NaN</td>\n",
       "    </tr>\n",
       "    <tr>\n",
       "      <th>207</th>\n",
       "      <td>Vanuatu</td>\n",
       "      <td>12.190</td>\n",
       "      <td>0.253</td>\n",
       "      <td>3277.0</td>\n",
       "      <td>74.5</td>\n",
       "      <td>11.3</td>\n",
       "      <td>26.6</td>\n",
       "      <td>4.8</td>\n",
       "      <td>3.9</td>\n",
       "      <td>71.7</td>\n",
       "      <td>62.3</td>\n",
       "      <td>NaN</td>\n",
       "    </tr>\n",
       "    <tr>\n",
       "      <th>208</th>\n",
       "      <td>Venezuela, RB</td>\n",
       "      <td>882.050</td>\n",
       "      <td>30.405</td>\n",
       "      <td>14415.0</td>\n",
       "      <td>11.1</td>\n",
       "      <td>54.9</td>\n",
       "      <td>19.8</td>\n",
       "      <td>5.3</td>\n",
       "      <td>6.2</td>\n",
       "      <td>74.6</td>\n",
       "      <td>54.8</td>\n",
       "      <td>8.1</td>\n",
       "    </tr>\n",
       "    <tr>\n",
       "      <th>209</th>\n",
       "      <td>Vietnam</td>\n",
       "      <td>310.070</td>\n",
       "      <td>89.709</td>\n",
       "      <td>1911.0</td>\n",
       "      <td>67.7</td>\n",
       "      <td>43.9</td>\n",
       "      <td>15.5</td>\n",
       "      <td>5.7</td>\n",
       "      <td>6.6</td>\n",
       "      <td>75.8</td>\n",
       "      <td>78.9</td>\n",
       "      <td>1.8</td>\n",
       "    </tr>\n",
       "    <tr>\n",
       "      <th>210</th>\n",
       "      <td>Virgin Islands (U.S.)</td>\n",
       "      <td>0.350</td>\n",
       "      <td>0.105</td>\n",
       "      <td>NaN</td>\n",
       "      <td>4.9</td>\n",
       "      <td>45.3</td>\n",
       "      <td>10.7</td>\n",
       "      <td>8.0</td>\n",
       "      <td>16.0</td>\n",
       "      <td>79.6</td>\n",
       "      <td>64.0</td>\n",
       "      <td>NaN</td>\n",
       "    </tr>\n",
       "    <tr>\n",
       "      <th>211</th>\n",
       "      <td>West Bank and Gaza</td>\n",
       "      <td>6.020</td>\n",
       "      <td>4.170</td>\n",
       "      <td>NaN</td>\n",
       "      <td>25.2</td>\n",
       "      <td>46.6</td>\n",
       "      <td>30.4</td>\n",
       "      <td>3.5</td>\n",
       "      <td>3.0</td>\n",
       "      <td>73.2</td>\n",
       "      <td>16.1</td>\n",
       "      <td>23.0</td>\n",
       "    </tr>\n",
       "    <tr>\n",
       "      <th>212</th>\n",
       "      <td>Yemen, Rep.</td>\n",
       "      <td>527.970</td>\n",
       "      <td>24.407</td>\n",
       "      <td>1473.0</td>\n",
       "      <td>66.6</td>\n",
       "      <td>20.0</td>\n",
       "      <td>31.1</td>\n",
       "      <td>7.2</td>\n",
       "      <td>2.9</td>\n",
       "      <td>63.1</td>\n",
       "      <td>26.4</td>\n",
       "      <td>NaN</td>\n",
       "    </tr>\n",
       "    <tr>\n",
       "      <th>213</th>\n",
       "      <td>Zambia</td>\n",
       "      <td>743.390</td>\n",
       "      <td>14.539</td>\n",
       "      <td>1845.0</td>\n",
       "      <td>60.0</td>\n",
       "      <td>15.4</td>\n",
       "      <td>42.8</td>\n",
       "      <td>10.2</td>\n",
       "      <td>2.6</td>\n",
       "      <td>58.1</td>\n",
       "      <td>73.3</td>\n",
       "      <td>7.8</td>\n",
       "    </tr>\n",
       "    <tr>\n",
       "      <th>214</th>\n",
       "      <td>Zimbabwe</td>\n",
       "      <td>386.850</td>\n",
       "      <td>14.150</td>\n",
       "      <td>953.0</td>\n",
       "      <td>67.3</td>\n",
       "      <td>18.5</td>\n",
       "      <td>31.3</td>\n",
       "      <td>9.0</td>\n",
       "      <td>3.9</td>\n",
       "      <td>59.8</td>\n",
       "      <td>84.8</td>\n",
       "      <td>11.1</td>\n",
       "    </tr>\n",
       "  </tbody>\n",
       "</table>\n",
       "<p>215 rows × 12 columns</p>\n",
       "</div>"
      ],
      "text/plain": [
       "                      Country  LandArea  Population      GDP  Rural  Internet  \\\n",
       "0                 Afghanistan   652.860      30.552    665.0   74.1       5.9   \n",
       "1                     Albania    27.400       2.897   4460.0   44.6      60.1   \n",
       "2                     Algeria  2381.740      39.208   5361.0   30.5      16.5   \n",
       "3              American Samoa     0.200       0.055      NaN   12.7       NaN   \n",
       "4                     Andorra     0.470       0.079      NaN   13.8      94.0   \n",
       "5                      Angola  1246.700      21.472   5783.0   57.5      19.1   \n",
       "6         Antigua and Barbuda     0.440       0.090  13342.0   75.4      63.4   \n",
       "7                   Argentina  2736.690      41.446  14715.0    8.5      59.9   \n",
       "8                     Armenia    28.470       2.977   3505.0   37.0      46.3   \n",
       "9                       Aruba     0.180       0.103      NaN   57.9      78.9   \n",
       "10                  Australia  7682.300      23.129  67463.0   10.8      83.0   \n",
       "11                    Austria    82.409       8.480  50511.0   34.1      80.6   \n",
       "12                 Azerbaijan    82.658       9.417   7812.0   45.9      58.7   \n",
       "13               Bahamas, The    10.010       0.377  22312.0   17.3      72.0   \n",
       "14                    Bahrain     0.760       1.332  24689.0   11.3      90.0   \n",
       "15                 Bangladesh   130.170     156.595    958.0   67.2       6.5   \n",
       "16                   Barbados     0.430       0.285      NaN   68.3      75.0   \n",
       "17                    Belarus   202.910       9.466   7575.0   24.1      54.2   \n",
       "18                    Belgium    30.280      11.183  46930.0    2.2      82.2   \n",
       "19                     Belize    22.810       0.332   4894.0   55.7      31.7   \n",
       "20                      Benin   112.760      10.323    805.0   56.9       4.9   \n",
       "21                    Bermuda     0.050       0.065      NaN    0.0      95.3   \n",
       "22                     Bhutan    38.117       0.754   2363.0   62.9      29.9   \n",
       "23                    Bolivia  1083.300      10.671   2868.0   32.3      39.5   \n",
       "24     Bosnia and Herzegovina    51.000       3.829   4662.0   60.5      67.9   \n",
       "25                   Botswana   566.730       2.021   7315.0   43.1      15.0   \n",
       "26                     Brazil  8358.140     200.362  11208.0   14.8      51.6   \n",
       "27          Brunei Darussalam     5.270       0.418  38563.0   23.4      64.5   \n",
       "28                   Bulgaria   108.560       7.265   7499.0   26.7      53.1   \n",
       "29               Burkina Faso   273.600      16.935    761.0   71.8       4.4   \n",
       "..                        ...       ...         ...      ...    ...       ...   \n",
       "185                    Sweden   407.340       9.600  60381.0   14.5      94.8   \n",
       "186               Switzerland    39.516       8.088  84748.0   26.2      86.7   \n",
       "187      Syrian Arab Republic   183.630      22.846      NaN   43.1      26.2   \n",
       "188                Tajikistan   139.960       8.208   1037.0   73.4      16.0   \n",
       "189                  Tanzania   885.800      49.253    913.0   69.8       4.4   \n",
       "190                  Thailand   510.890      67.011   5779.0   52.1      28.9   \n",
       "191               Timor-Leste    14.870       1.180      NaN   68.5       1.1   \n",
       "192                      Togo    54.390       6.817    636.0   61.0       4.5   \n",
       "193                     Tonga     0.720       0.105   4427.0   76.4      35.0   \n",
       "194       Trinidad and Tobago     5.130       1.341  18373.0   91.3      63.8   \n",
       "195                   Tunisia   155.360      10.887   4317.0   33.5      43.8   \n",
       "196                    Turkey   769.630      74.933  10972.0   27.6      46.3   \n",
       "197              Turkmenistan   469.930       5.240   7987.0   50.7       9.6   \n",
       "198  Turks and Caicos Islands     0.950       0.033      NaN    8.5       NaN   \n",
       "199                    Tuvalu     0.030       0.010   3880.0   42.2      37.0   \n",
       "200                    Uganda   199.810      37.579    657.0   84.6      16.2   \n",
       "201                   Ukraine   579.320      45.490   3900.0   30.7      41.8   \n",
       "202      United Arab Emirates    83.600       9.346  43049.0   15.0      88.0   \n",
       "203            United Kingdom   241.930      64.107  41781.0   17.9      89.8   \n",
       "204             United States  9147.420     316.129  53042.0   18.7      84.2   \n",
       "205                   Uruguay   175.020       3.407  16351.0    5.0      58.1   \n",
       "206                Uzbekistan   425.400      30.243   1878.0   63.8      38.2   \n",
       "207                   Vanuatu    12.190       0.253   3277.0   74.5      11.3   \n",
       "208             Venezuela, RB   882.050      30.405  14415.0   11.1      54.9   \n",
       "209                   Vietnam   310.070      89.709   1911.0   67.7      43.9   \n",
       "210     Virgin Islands (U.S.)     0.350       0.105      NaN    4.9      45.3   \n",
       "211        West Bank and Gaza     6.020       4.170      NaN   25.2      46.6   \n",
       "212               Yemen, Rep.   527.970      24.407   1473.0   66.6      20.0   \n",
       "213                    Zambia   743.390      14.539   1845.0   60.0      15.4   \n",
       "214                  Zimbabwe   386.850      14.150    953.0   67.3      18.5   \n",
       "\n",
       "     BirthRate  DeathRate  ElderlyPop  LifeExpectancy  FemaleLabor  \\\n",
       "0         34.1        7.8         2.3            60.9         16.2   \n",
       "1         12.9        6.9        10.7            77.5         51.7   \n",
       "2         24.3        5.9         4.6            71.0         16.2   \n",
       "3          NaN        NaN         NaN             NaN          NaN   \n",
       "4          NaN        NaN         NaN             NaN          NaN   \n",
       "5         44.1       13.9         2.4            51.9         64.5   \n",
       "6         16.5        6.1         7.1            75.8          NaN   \n",
       "7         16.8        7.7        10.9            76.2         55.1   \n",
       "8         13.7        8.7        10.3            74.5         58.4   \n",
       "9         10.3        8.4        11.3            75.3          NaN   \n",
       "10        13.2        6.3        14.3            82.2         70.5   \n",
       "11         9.4        9.4        18.4            80.9         70.6   \n",
       "12        18.3        5.8         5.6            70.7         68.1   \n",
       "13        15.3        6.1         7.7            75.1         76.4   \n",
       "14        15.2        2.3         2.2            76.7         40.7   \n",
       "15        20.0        5.7         4.8            70.7         60.4   \n",
       "16        12.7        9.1        10.9            75.3         76.6   \n",
       "17        12.5       13.2        13.8            72.5         62.2   \n",
       "18        11.2        9.8        18.0            80.4         62.1   \n",
       "19        23.4        4.5         4.0            73.9         51.9   \n",
       "20        36.4        9.5         2.9            59.3         68.9   \n",
       "21        10.4        6.8         NaN            80.6          NaN   \n",
       "22        19.6        6.5         4.8            68.3         69.1   \n",
       "23        25.7        7.1         4.9            67.2         66.2   \n",
       "24         9.0       10.1        15.6            76.3         42.0   \n",
       "25        23.6       16.9         3.6            47.4         75.0   \n",
       "26        14.9        6.5         7.5            73.9         65.0   \n",
       "27        15.5        3.1         4.3            78.6         55.7   \n",
       "28         9.2       14.4        19.3            74.5         63.7   \n",
       "29        40.9       11.1         2.4            56.3         79.5   \n",
       "..         ...        ...         ...             ...          ...   \n",
       "185       11.8        9.4        19.3            81.7         78.6   \n",
       "186       10.2        8.0        17.7            82.7         78.0   \n",
       "187       24.0        3.9         4.1            74.7         14.3   \n",
       "188       33.0        6.6         3.2            67.4         61.7   \n",
       "189       39.2        8.5         3.2            61.5         89.9   \n",
       "190       10.2        7.7         9.7            74.4         70.9   \n",
       "191       35.8        5.7         3.3            67.5         25.2   \n",
       "192       36.4       10.7         2.8            56.5         82.2   \n",
       "193       25.5        6.0         5.9            72.6         56.4   \n",
       "194       14.5        9.6         9.0            69.9         59.7   \n",
       "195       19.8        6.3         7.2            73.6         27.3   \n",
       "196       16.8        5.7         7.4            75.2         32.2   \n",
       "197       21.3        7.8         4.1            65.5         49.7   \n",
       "198        NaN        NaN         NaN             NaN          NaN   \n",
       "199        NaN        NaN         NaN             NaN          NaN   \n",
       "200       43.2        9.2         2.4            59.2         76.6   \n",
       "201       11.1       14.6        15.1            71.2         62.6   \n",
       "202       14.5        1.0         0.4            77.1         46.8   \n",
       "203       12.2        9.0        17.5            81.0         70.3   \n",
       "204       12.5        8.2        14.0            78.8         66.1   \n",
       "205       14.5        9.3        14.1            77.1         67.4   \n",
       "206       22.5        4.8         4.3            68.2         51.0   \n",
       "207       26.6        4.8         3.9            71.7         62.3   \n",
       "208       19.8        5.3         6.2            74.6         54.8   \n",
       "209       15.5        5.7         6.6            75.8         78.9   \n",
       "210       10.7        8.0        16.0            79.6         64.0   \n",
       "211       30.4        3.5         3.0            73.2         16.1   \n",
       "212       31.1        7.2         2.9            63.1         26.4   \n",
       "213       42.8       10.2         2.6            58.1         73.3   \n",
       "214       31.3        9.0         3.9            59.8         84.8   \n",
       "\n",
       "     Unemployment  \n",
       "0             NaN  \n",
       "1            13.4  \n",
       "2            11.0  \n",
       "3             NaN  \n",
       "4             NaN  \n",
       "5             NaN  \n",
       "6             NaN  \n",
       "7             7.2  \n",
       "8             NaN  \n",
       "9             NaN  \n",
       "10            5.2  \n",
       "11            4.3  \n",
       "12            5.2  \n",
       "13           14.0  \n",
       "14            1.2  \n",
       "15            NaN  \n",
       "16           11.6  \n",
       "17            NaN  \n",
       "18            7.5  \n",
       "19           14.4  \n",
       "20            NaN  \n",
       "21            8.4  \n",
       "22            2.1  \n",
       "23            NaN  \n",
       "24           28.1  \n",
       "25            NaN  \n",
       "26            NaN  \n",
       "27            NaN  \n",
       "28           12.3  \n",
       "29            NaN  \n",
       "..            ...  \n",
       "185           8.0  \n",
       "186           4.2  \n",
       "187           NaN  \n",
       "188           NaN  \n",
       "189           NaN  \n",
       "190           0.7  \n",
       "191           NaN  \n",
       "192           NaN  \n",
       "193           NaN  \n",
       "194           5.0  \n",
       "195          17.6  \n",
       "196           9.2  \n",
       "197           NaN  \n",
       "198           NaN  \n",
       "199           NaN  \n",
       "200           NaN  \n",
       "201           7.5  \n",
       "202           NaN  \n",
       "203           7.9  \n",
       "204           8.1  \n",
       "205           6.5  \n",
       "206           NaN  \n",
       "207           NaN  \n",
       "208           8.1  \n",
       "209           1.8  \n",
       "210           NaN  \n",
       "211          23.0  \n",
       "212           NaN  \n",
       "213           7.8  \n",
       "214          11.1  \n",
       "\n",
       "[215 rows x 12 columns]"
      ]
     },
     "execution_count": 144,
     "metadata": {},
     "output_type": "execute_result"
    }
   ],
   "source": [
    "df = pd.read_csv(r'/Users/gyanendrakumar/PycharmProjects/education_DS/Module_5/AllCountries.csv')\n",
    "df\n",
    "        "
   ]
  },
  {
   "cell_type": "code",
   "execution_count": 146,
   "metadata": {},
   "outputs": [
    {
     "data": {
      "text/html": [
       "<div>\n",
       "<style scoped>\n",
       "    .dataframe tbody tr th:only-of-type {\n",
       "        vertical-align: middle;\n",
       "    }\n",
       "\n",
       "    .dataframe tbody tr th {\n",
       "        vertical-align: top;\n",
       "    }\n",
       "\n",
       "    .dataframe thead th {\n",
       "        text-align: right;\n",
       "    }\n",
       "</style>\n",
       "<table border=\"1\" class=\"dataframe\">\n",
       "  <thead>\n",
       "    <tr style=\"text-align: right;\">\n",
       "      <th></th>\n",
       "      <th>Country</th>\n",
       "      <th>LandArea</th>\n",
       "      <th>Population</th>\n",
       "      <th>GDP</th>\n",
       "      <th>Rural</th>\n",
       "      <th>Internet</th>\n",
       "      <th>BirthRate</th>\n",
       "      <th>DeathRate</th>\n",
       "      <th>ElderlyPop</th>\n",
       "      <th>LifeExpectancy</th>\n",
       "      <th>FemaleLabor</th>\n",
       "      <th>Unemployment</th>\n",
       "    </tr>\n",
       "  </thead>\n",
       "  <tbody>\n",
       "    <tr>\n",
       "      <th>0</th>\n",
       "      <td>Afghanistan</td>\n",
       "      <td>652.86</td>\n",
       "      <td>30.552</td>\n",
       "      <td>665.0</td>\n",
       "      <td>74.1</td>\n",
       "      <td>5.9</td>\n",
       "      <td>34.1</td>\n",
       "      <td>7.8</td>\n",
       "      <td>2.3</td>\n",
       "      <td>60.9</td>\n",
       "      <td>16.2</td>\n",
       "      <td>NaN</td>\n",
       "    </tr>\n",
       "    <tr>\n",
       "      <th>1</th>\n",
       "      <td>Albania</td>\n",
       "      <td>27.40</td>\n",
       "      <td>2.897</td>\n",
       "      <td>4460.0</td>\n",
       "      <td>44.6</td>\n",
       "      <td>60.1</td>\n",
       "      <td>12.9</td>\n",
       "      <td>6.9</td>\n",
       "      <td>10.7</td>\n",
       "      <td>77.5</td>\n",
       "      <td>51.7</td>\n",
       "      <td>13.4</td>\n",
       "    </tr>\n",
       "    <tr>\n",
       "      <th>2</th>\n",
       "      <td>Algeria</td>\n",
       "      <td>2381.74</td>\n",
       "      <td>39.208</td>\n",
       "      <td>5361.0</td>\n",
       "      <td>30.5</td>\n",
       "      <td>16.5</td>\n",
       "      <td>24.3</td>\n",
       "      <td>5.9</td>\n",
       "      <td>4.6</td>\n",
       "      <td>71.0</td>\n",
       "      <td>16.2</td>\n",
       "      <td>11.0</td>\n",
       "    </tr>\n",
       "    <tr>\n",
       "      <th>3</th>\n",
       "      <td>American Samoa</td>\n",
       "      <td>0.20</td>\n",
       "      <td>0.055</td>\n",
       "      <td>NaN</td>\n",
       "      <td>12.7</td>\n",
       "      <td>NaN</td>\n",
       "      <td>NaN</td>\n",
       "      <td>NaN</td>\n",
       "      <td>NaN</td>\n",
       "      <td>NaN</td>\n",
       "      <td>NaN</td>\n",
       "      <td>NaN</td>\n",
       "    </tr>\n",
       "    <tr>\n",
       "      <th>4</th>\n",
       "      <td>Andorra</td>\n",
       "      <td>0.47</td>\n",
       "      <td>0.079</td>\n",
       "      <td>NaN</td>\n",
       "      <td>13.8</td>\n",
       "      <td>94.0</td>\n",
       "      <td>NaN</td>\n",
       "      <td>NaN</td>\n",
       "      <td>NaN</td>\n",
       "      <td>NaN</td>\n",
       "      <td>NaN</td>\n",
       "      <td>NaN</td>\n",
       "    </tr>\n",
       "  </tbody>\n",
       "</table>\n",
       "</div>"
      ],
      "text/plain": [
       "          Country  LandArea  Population     GDP  Rural  Internet  BirthRate  \\\n",
       "0     Afghanistan    652.86      30.552   665.0   74.1       5.9       34.1   \n",
       "1         Albania     27.40       2.897  4460.0   44.6      60.1       12.9   \n",
       "2         Algeria   2381.74      39.208  5361.0   30.5      16.5       24.3   \n",
       "3  American Samoa      0.20       0.055     NaN   12.7       NaN        NaN   \n",
       "4         Andorra      0.47       0.079     NaN   13.8      94.0        NaN   \n",
       "\n",
       "   DeathRate  ElderlyPop  LifeExpectancy  FemaleLabor  Unemployment  \n",
       "0        7.8         2.3            60.9         16.2           NaN  \n",
       "1        6.9        10.7            77.5         51.7          13.4  \n",
       "2        5.9         4.6            71.0         16.2          11.0  \n",
       "3        NaN         NaN             NaN          NaN           NaN  \n",
       "4        NaN         NaN             NaN          NaN           NaN  "
      ]
     },
     "execution_count": 146,
     "metadata": {},
     "output_type": "execute_result"
    }
   ],
   "source": [
    "df.head() # by default first 5 rows"
   ]
  },
  {
   "cell_type": "code",
   "execution_count": 148,
   "metadata": {},
   "outputs": [
    {
     "data": {
      "text/html": [
       "<div>\n",
       "<style scoped>\n",
       "    .dataframe tbody tr th:only-of-type {\n",
       "        vertical-align: middle;\n",
       "    }\n",
       "\n",
       "    .dataframe tbody tr th {\n",
       "        vertical-align: top;\n",
       "    }\n",
       "\n",
       "    .dataframe thead th {\n",
       "        text-align: right;\n",
       "    }\n",
       "</style>\n",
       "<table border=\"1\" class=\"dataframe\">\n",
       "  <thead>\n",
       "    <tr style=\"text-align: right;\">\n",
       "      <th></th>\n",
       "      <th>Country</th>\n",
       "      <th>LandArea</th>\n",
       "      <th>Population</th>\n",
       "      <th>GDP</th>\n",
       "      <th>Rural</th>\n",
       "      <th>Internet</th>\n",
       "      <th>BirthRate</th>\n",
       "      <th>DeathRate</th>\n",
       "      <th>ElderlyPop</th>\n",
       "      <th>LifeExpectancy</th>\n",
       "      <th>FemaleLabor</th>\n",
       "      <th>Unemployment</th>\n",
       "    </tr>\n",
       "  </thead>\n",
       "  <tbody>\n",
       "    <tr>\n",
       "      <th>0</th>\n",
       "      <td>Afghanistan</td>\n",
       "      <td>652.86</td>\n",
       "      <td>30.552</td>\n",
       "      <td>665.0</td>\n",
       "      <td>74.1</td>\n",
       "      <td>5.9</td>\n",
       "      <td>34.1</td>\n",
       "      <td>7.8</td>\n",
       "      <td>2.3</td>\n",
       "      <td>60.9</td>\n",
       "      <td>16.2</td>\n",
       "      <td>NaN</td>\n",
       "    </tr>\n",
       "    <tr>\n",
       "      <th>1</th>\n",
       "      <td>Albania</td>\n",
       "      <td>27.40</td>\n",
       "      <td>2.897</td>\n",
       "      <td>4460.0</td>\n",
       "      <td>44.6</td>\n",
       "      <td>60.1</td>\n",
       "      <td>12.9</td>\n",
       "      <td>6.9</td>\n",
       "      <td>10.7</td>\n",
       "      <td>77.5</td>\n",
       "      <td>51.7</td>\n",
       "      <td>13.4</td>\n",
       "    </tr>\n",
       "  </tbody>\n",
       "</table>\n",
       "</div>"
      ],
      "text/plain": [
       "       Country  LandArea  Population     GDP  Rural  Internet  BirthRate  \\\n",
       "0  Afghanistan    652.86      30.552   665.0   74.1       5.9       34.1   \n",
       "1      Albania     27.40       2.897  4460.0   44.6      60.1       12.9   \n",
       "\n",
       "   DeathRate  ElderlyPop  LifeExpectancy  FemaleLabor  Unemployment  \n",
       "0        7.8         2.3            60.9         16.2           NaN  \n",
       "1        6.9        10.7            77.5         51.7          13.4  "
      ]
     },
     "execution_count": 148,
     "metadata": {},
     "output_type": "execute_result"
    }
   ],
   "source": [
    "df.head(2)"
   ]
  },
  {
   "cell_type": "code",
   "execution_count": 149,
   "metadata": {},
   "outputs": [
    {
     "data": {
      "text/plain": [
       "0        665.0\n",
       "1       4460.0\n",
       "2       5361.0\n",
       "3          NaN\n",
       "4          NaN\n",
       "5       5783.0\n",
       "6      13342.0\n",
       "7      14715.0\n",
       "8       3505.0\n",
       "9          NaN\n",
       "10     67463.0\n",
       "11     50511.0\n",
       "12      7812.0\n",
       "13     22312.0\n",
       "14     24689.0\n",
       "15       958.0\n",
       "16         NaN\n",
       "17      7575.0\n",
       "18     46930.0\n",
       "19      4894.0\n",
       "20       805.0\n",
       "21         NaN\n",
       "22      2363.0\n",
       "23      2868.0\n",
       "24      4662.0\n",
       "25      7315.0\n",
       "26     11208.0\n",
       "27     38563.0\n",
       "28      7499.0\n",
       "29       761.0\n",
       "        ...   \n",
       "185    60381.0\n",
       "186    84748.0\n",
       "187        NaN\n",
       "188     1037.0\n",
       "189      913.0\n",
       "190     5779.0\n",
       "191        NaN\n",
       "192      636.0\n",
       "193     4427.0\n",
       "194    18373.0\n",
       "195     4317.0\n",
       "196    10972.0\n",
       "197     7987.0\n",
       "198        NaN\n",
       "199     3880.0\n",
       "200      657.0\n",
       "201     3900.0\n",
       "202    43049.0\n",
       "203    41781.0\n",
       "204    53042.0\n",
       "205    16351.0\n",
       "206     1878.0\n",
       "207     3277.0\n",
       "208    14415.0\n",
       "209     1911.0\n",
       "210        NaN\n",
       "211        NaN\n",
       "212     1473.0\n",
       "213     1845.0\n",
       "214      953.0\n",
       "Name: GDP, Length: 215, dtype: float64"
      ]
     },
     "execution_count": 149,
     "metadata": {},
     "output_type": "execute_result"
    }
   ],
   "source": [
    "df['GDP']"
   ]
  },
  {
   "cell_type": "code",
   "execution_count": 150,
   "metadata": {},
   "outputs": [
    {
     "data": {
      "text/html": [
       "<div>\n",
       "<style scoped>\n",
       "    .dataframe tbody tr th:only-of-type {\n",
       "        vertical-align: middle;\n",
       "    }\n",
       "\n",
       "    .dataframe tbody tr th {\n",
       "        vertical-align: top;\n",
       "    }\n",
       "\n",
       "    .dataframe thead th {\n",
       "        text-align: right;\n",
       "    }\n",
       "</style>\n",
       "<table border=\"1\" class=\"dataframe\">\n",
       "  <thead>\n",
       "    <tr style=\"text-align: right;\">\n",
       "      <th></th>\n",
       "      <th>Country</th>\n",
       "      <th>GDP</th>\n",
       "    </tr>\n",
       "  </thead>\n",
       "  <tbody>\n",
       "    <tr>\n",
       "      <th>0</th>\n",
       "      <td>Afghanistan</td>\n",
       "      <td>665.0</td>\n",
       "    </tr>\n",
       "    <tr>\n",
       "      <th>1</th>\n",
       "      <td>Albania</td>\n",
       "      <td>4460.0</td>\n",
       "    </tr>\n",
       "    <tr>\n",
       "      <th>2</th>\n",
       "      <td>Algeria</td>\n",
       "      <td>5361.0</td>\n",
       "    </tr>\n",
       "    <tr>\n",
       "      <th>3</th>\n",
       "      <td>American Samoa</td>\n",
       "      <td>NaN</td>\n",
       "    </tr>\n",
       "    <tr>\n",
       "      <th>4</th>\n",
       "      <td>Andorra</td>\n",
       "      <td>NaN</td>\n",
       "    </tr>\n",
       "    <tr>\n",
       "      <th>5</th>\n",
       "      <td>Angola</td>\n",
       "      <td>5783.0</td>\n",
       "    </tr>\n",
       "    <tr>\n",
       "      <th>6</th>\n",
       "      <td>Antigua and Barbuda</td>\n",
       "      <td>13342.0</td>\n",
       "    </tr>\n",
       "    <tr>\n",
       "      <th>7</th>\n",
       "      <td>Argentina</td>\n",
       "      <td>14715.0</td>\n",
       "    </tr>\n",
       "    <tr>\n",
       "      <th>8</th>\n",
       "      <td>Armenia</td>\n",
       "      <td>3505.0</td>\n",
       "    </tr>\n",
       "    <tr>\n",
       "      <th>9</th>\n",
       "      <td>Aruba</td>\n",
       "      <td>NaN</td>\n",
       "    </tr>\n",
       "    <tr>\n",
       "      <th>10</th>\n",
       "      <td>Australia</td>\n",
       "      <td>67463.0</td>\n",
       "    </tr>\n",
       "    <tr>\n",
       "      <th>11</th>\n",
       "      <td>Austria</td>\n",
       "      <td>50511.0</td>\n",
       "    </tr>\n",
       "    <tr>\n",
       "      <th>12</th>\n",
       "      <td>Azerbaijan</td>\n",
       "      <td>7812.0</td>\n",
       "    </tr>\n",
       "    <tr>\n",
       "      <th>13</th>\n",
       "      <td>Bahamas, The</td>\n",
       "      <td>22312.0</td>\n",
       "    </tr>\n",
       "    <tr>\n",
       "      <th>14</th>\n",
       "      <td>Bahrain</td>\n",
       "      <td>24689.0</td>\n",
       "    </tr>\n",
       "    <tr>\n",
       "      <th>15</th>\n",
       "      <td>Bangladesh</td>\n",
       "      <td>958.0</td>\n",
       "    </tr>\n",
       "    <tr>\n",
       "      <th>16</th>\n",
       "      <td>Barbados</td>\n",
       "      <td>NaN</td>\n",
       "    </tr>\n",
       "    <tr>\n",
       "      <th>17</th>\n",
       "      <td>Belarus</td>\n",
       "      <td>7575.0</td>\n",
       "    </tr>\n",
       "    <tr>\n",
       "      <th>18</th>\n",
       "      <td>Belgium</td>\n",
       "      <td>46930.0</td>\n",
       "    </tr>\n",
       "    <tr>\n",
       "      <th>19</th>\n",
       "      <td>Belize</td>\n",
       "      <td>4894.0</td>\n",
       "    </tr>\n",
       "    <tr>\n",
       "      <th>20</th>\n",
       "      <td>Benin</td>\n",
       "      <td>805.0</td>\n",
       "    </tr>\n",
       "    <tr>\n",
       "      <th>21</th>\n",
       "      <td>Bermuda</td>\n",
       "      <td>NaN</td>\n",
       "    </tr>\n",
       "    <tr>\n",
       "      <th>22</th>\n",
       "      <td>Bhutan</td>\n",
       "      <td>2363.0</td>\n",
       "    </tr>\n",
       "    <tr>\n",
       "      <th>23</th>\n",
       "      <td>Bolivia</td>\n",
       "      <td>2868.0</td>\n",
       "    </tr>\n",
       "    <tr>\n",
       "      <th>24</th>\n",
       "      <td>Bosnia and Herzegovina</td>\n",
       "      <td>4662.0</td>\n",
       "    </tr>\n",
       "    <tr>\n",
       "      <th>25</th>\n",
       "      <td>Botswana</td>\n",
       "      <td>7315.0</td>\n",
       "    </tr>\n",
       "    <tr>\n",
       "      <th>26</th>\n",
       "      <td>Brazil</td>\n",
       "      <td>11208.0</td>\n",
       "    </tr>\n",
       "    <tr>\n",
       "      <th>27</th>\n",
       "      <td>Brunei Darussalam</td>\n",
       "      <td>38563.0</td>\n",
       "    </tr>\n",
       "    <tr>\n",
       "      <th>28</th>\n",
       "      <td>Bulgaria</td>\n",
       "      <td>7499.0</td>\n",
       "    </tr>\n",
       "    <tr>\n",
       "      <th>29</th>\n",
       "      <td>Burkina Faso</td>\n",
       "      <td>761.0</td>\n",
       "    </tr>\n",
       "    <tr>\n",
       "      <th>...</th>\n",
       "      <td>...</td>\n",
       "      <td>...</td>\n",
       "    </tr>\n",
       "    <tr>\n",
       "      <th>185</th>\n",
       "      <td>Sweden</td>\n",
       "      <td>60381.0</td>\n",
       "    </tr>\n",
       "    <tr>\n",
       "      <th>186</th>\n",
       "      <td>Switzerland</td>\n",
       "      <td>84748.0</td>\n",
       "    </tr>\n",
       "    <tr>\n",
       "      <th>187</th>\n",
       "      <td>Syrian Arab Republic</td>\n",
       "      <td>NaN</td>\n",
       "    </tr>\n",
       "    <tr>\n",
       "      <th>188</th>\n",
       "      <td>Tajikistan</td>\n",
       "      <td>1037.0</td>\n",
       "    </tr>\n",
       "    <tr>\n",
       "      <th>189</th>\n",
       "      <td>Tanzania</td>\n",
       "      <td>913.0</td>\n",
       "    </tr>\n",
       "    <tr>\n",
       "      <th>190</th>\n",
       "      <td>Thailand</td>\n",
       "      <td>5779.0</td>\n",
       "    </tr>\n",
       "    <tr>\n",
       "      <th>191</th>\n",
       "      <td>Timor-Leste</td>\n",
       "      <td>NaN</td>\n",
       "    </tr>\n",
       "    <tr>\n",
       "      <th>192</th>\n",
       "      <td>Togo</td>\n",
       "      <td>636.0</td>\n",
       "    </tr>\n",
       "    <tr>\n",
       "      <th>193</th>\n",
       "      <td>Tonga</td>\n",
       "      <td>4427.0</td>\n",
       "    </tr>\n",
       "    <tr>\n",
       "      <th>194</th>\n",
       "      <td>Trinidad and Tobago</td>\n",
       "      <td>18373.0</td>\n",
       "    </tr>\n",
       "    <tr>\n",
       "      <th>195</th>\n",
       "      <td>Tunisia</td>\n",
       "      <td>4317.0</td>\n",
       "    </tr>\n",
       "    <tr>\n",
       "      <th>196</th>\n",
       "      <td>Turkey</td>\n",
       "      <td>10972.0</td>\n",
       "    </tr>\n",
       "    <tr>\n",
       "      <th>197</th>\n",
       "      <td>Turkmenistan</td>\n",
       "      <td>7987.0</td>\n",
       "    </tr>\n",
       "    <tr>\n",
       "      <th>198</th>\n",
       "      <td>Turks and Caicos Islands</td>\n",
       "      <td>NaN</td>\n",
       "    </tr>\n",
       "    <tr>\n",
       "      <th>199</th>\n",
       "      <td>Tuvalu</td>\n",
       "      <td>3880.0</td>\n",
       "    </tr>\n",
       "    <tr>\n",
       "      <th>200</th>\n",
       "      <td>Uganda</td>\n",
       "      <td>657.0</td>\n",
       "    </tr>\n",
       "    <tr>\n",
       "      <th>201</th>\n",
       "      <td>Ukraine</td>\n",
       "      <td>3900.0</td>\n",
       "    </tr>\n",
       "    <tr>\n",
       "      <th>202</th>\n",
       "      <td>United Arab Emirates</td>\n",
       "      <td>43049.0</td>\n",
       "    </tr>\n",
       "    <tr>\n",
       "      <th>203</th>\n",
       "      <td>United Kingdom</td>\n",
       "      <td>41781.0</td>\n",
       "    </tr>\n",
       "    <tr>\n",
       "      <th>204</th>\n",
       "      <td>United States</td>\n",
       "      <td>53042.0</td>\n",
       "    </tr>\n",
       "    <tr>\n",
       "      <th>205</th>\n",
       "      <td>Uruguay</td>\n",
       "      <td>16351.0</td>\n",
       "    </tr>\n",
       "    <tr>\n",
       "      <th>206</th>\n",
       "      <td>Uzbekistan</td>\n",
       "      <td>1878.0</td>\n",
       "    </tr>\n",
       "    <tr>\n",
       "      <th>207</th>\n",
       "      <td>Vanuatu</td>\n",
       "      <td>3277.0</td>\n",
       "    </tr>\n",
       "    <tr>\n",
       "      <th>208</th>\n",
       "      <td>Venezuela, RB</td>\n",
       "      <td>14415.0</td>\n",
       "    </tr>\n",
       "    <tr>\n",
       "      <th>209</th>\n",
       "      <td>Vietnam</td>\n",
       "      <td>1911.0</td>\n",
       "    </tr>\n",
       "    <tr>\n",
       "      <th>210</th>\n",
       "      <td>Virgin Islands (U.S.)</td>\n",
       "      <td>NaN</td>\n",
       "    </tr>\n",
       "    <tr>\n",
       "      <th>211</th>\n",
       "      <td>West Bank and Gaza</td>\n",
       "      <td>NaN</td>\n",
       "    </tr>\n",
       "    <tr>\n",
       "      <th>212</th>\n",
       "      <td>Yemen, Rep.</td>\n",
       "      <td>1473.0</td>\n",
       "    </tr>\n",
       "    <tr>\n",
       "      <th>213</th>\n",
       "      <td>Zambia</td>\n",
       "      <td>1845.0</td>\n",
       "    </tr>\n",
       "    <tr>\n",
       "      <th>214</th>\n",
       "      <td>Zimbabwe</td>\n",
       "      <td>953.0</td>\n",
       "    </tr>\n",
       "  </tbody>\n",
       "</table>\n",
       "<p>215 rows × 2 columns</p>\n",
       "</div>"
      ],
      "text/plain": [
       "                      Country      GDP\n",
       "0                 Afghanistan    665.0\n",
       "1                     Albania   4460.0\n",
       "2                     Algeria   5361.0\n",
       "3              American Samoa      NaN\n",
       "4                     Andorra      NaN\n",
       "5                      Angola   5783.0\n",
       "6         Antigua and Barbuda  13342.0\n",
       "7                   Argentina  14715.0\n",
       "8                     Armenia   3505.0\n",
       "9                       Aruba      NaN\n",
       "10                  Australia  67463.0\n",
       "11                    Austria  50511.0\n",
       "12                 Azerbaijan   7812.0\n",
       "13               Bahamas, The  22312.0\n",
       "14                    Bahrain  24689.0\n",
       "15                 Bangladesh    958.0\n",
       "16                   Barbados      NaN\n",
       "17                    Belarus   7575.0\n",
       "18                    Belgium  46930.0\n",
       "19                     Belize   4894.0\n",
       "20                      Benin    805.0\n",
       "21                    Bermuda      NaN\n",
       "22                     Bhutan   2363.0\n",
       "23                    Bolivia   2868.0\n",
       "24     Bosnia and Herzegovina   4662.0\n",
       "25                   Botswana   7315.0\n",
       "26                     Brazil  11208.0\n",
       "27          Brunei Darussalam  38563.0\n",
       "28                   Bulgaria   7499.0\n",
       "29               Burkina Faso    761.0\n",
       "..                        ...      ...\n",
       "185                    Sweden  60381.0\n",
       "186               Switzerland  84748.0\n",
       "187      Syrian Arab Republic      NaN\n",
       "188                Tajikistan   1037.0\n",
       "189                  Tanzania    913.0\n",
       "190                  Thailand   5779.0\n",
       "191               Timor-Leste      NaN\n",
       "192                      Togo    636.0\n",
       "193                     Tonga   4427.0\n",
       "194       Trinidad and Tobago  18373.0\n",
       "195                   Tunisia   4317.0\n",
       "196                    Turkey  10972.0\n",
       "197              Turkmenistan   7987.0\n",
       "198  Turks and Caicos Islands      NaN\n",
       "199                    Tuvalu   3880.0\n",
       "200                    Uganda    657.0\n",
       "201                   Ukraine   3900.0\n",
       "202      United Arab Emirates  43049.0\n",
       "203            United Kingdom  41781.0\n",
       "204             United States  53042.0\n",
       "205                   Uruguay  16351.0\n",
       "206                Uzbekistan   1878.0\n",
       "207                   Vanuatu   3277.0\n",
       "208             Venezuela, RB  14415.0\n",
       "209                   Vietnam   1911.0\n",
       "210     Virgin Islands (U.S.)      NaN\n",
       "211        West Bank and Gaza      NaN\n",
       "212               Yemen, Rep.   1473.0\n",
       "213                    Zambia   1845.0\n",
       "214                  Zimbabwe    953.0\n",
       "\n",
       "[215 rows x 2 columns]"
      ]
     },
     "execution_count": 150,
     "metadata": {},
     "output_type": "execute_result"
    }
   ],
   "source": [
    "df[['Country','GDP']]"
   ]
  },
  {
   "cell_type": "code",
   "execution_count": 151,
   "metadata": {},
   "outputs": [
    {
     "data": {
      "text/html": [
       "<div>\n",
       "<style scoped>\n",
       "    .dataframe tbody tr th:only-of-type {\n",
       "        vertical-align: middle;\n",
       "    }\n",
       "\n",
       "    .dataframe tbody tr th {\n",
       "        vertical-align: top;\n",
       "    }\n",
       "\n",
       "    .dataframe thead th {\n",
       "        text-align: right;\n",
       "    }\n",
       "</style>\n",
       "<table border=\"1\" class=\"dataframe\">\n",
       "  <thead>\n",
       "    <tr style=\"text-align: right;\">\n",
       "      <th></th>\n",
       "      <th>Country</th>\n",
       "      <th>GDP</th>\n",
       "    </tr>\n",
       "  </thead>\n",
       "  <tbody>\n",
       "    <tr>\n",
       "      <th>0</th>\n",
       "      <td>Afghanistan</td>\n",
       "      <td>665.0</td>\n",
       "    </tr>\n",
       "    <tr>\n",
       "      <th>1</th>\n",
       "      <td>Albania</td>\n",
       "      <td>4460.0</td>\n",
       "    </tr>\n",
       "    <tr>\n",
       "      <th>2</th>\n",
       "      <td>Algeria</td>\n",
       "      <td>5361.0</td>\n",
       "    </tr>\n",
       "    <tr>\n",
       "      <th>3</th>\n",
       "      <td>American Samoa</td>\n",
       "      <td>NaN</td>\n",
       "    </tr>\n",
       "    <tr>\n",
       "      <th>4</th>\n",
       "      <td>Andorra</td>\n",
       "      <td>NaN</td>\n",
       "    </tr>\n",
       "  </tbody>\n",
       "</table>\n",
       "</div>"
      ],
      "text/plain": [
       "          Country     GDP\n",
       "0     Afghanistan   665.0\n",
       "1         Albania  4460.0\n",
       "2         Algeria  5361.0\n",
       "3  American Samoa     NaN\n",
       "4         Andorra     NaN"
      ]
     },
     "execution_count": 151,
     "metadata": {},
     "output_type": "execute_result"
    }
   ],
   "source": [
    "df[['Country','GDP']].head()"
   ]
  },
  {
   "cell_type": "code",
   "execution_count": 152,
   "metadata": {},
   "outputs": [
    {
     "data": {
      "text/html": [
       "<div>\n",
       "<style scoped>\n",
       "    .dataframe tbody tr th:only-of-type {\n",
       "        vertical-align: middle;\n",
       "    }\n",
       "\n",
       "    .dataframe tbody tr th {\n",
       "        vertical-align: top;\n",
       "    }\n",
       "\n",
       "    .dataframe thead th {\n",
       "        text-align: right;\n",
       "    }\n",
       "</style>\n",
       "<table border=\"1\" class=\"dataframe\">\n",
       "  <thead>\n",
       "    <tr style=\"text-align: right;\">\n",
       "      <th></th>\n",
       "      <th>1</th>\n",
       "      <th>2</th>\n",
       "      <th>3</th>\n",
       "      <th>4</th>\n",
       "    </tr>\n",
       "  </thead>\n",
       "  <tbody>\n",
       "    <tr>\n",
       "      <th>0</th>\n",
       "      <td>1</td>\n",
       "      <td>2</td>\n",
       "      <td>3</td>\n",
       "      <td>4</td>\n",
       "    </tr>\n",
       "    <tr>\n",
       "      <th>1</th>\n",
       "      <td>1</td>\n",
       "      <td>2</td>\n",
       "      <td>3</td>\n",
       "      <td>4</td>\n",
       "    </tr>\n",
       "    <tr>\n",
       "      <th>2</th>\n",
       "      <td>1</td>\n",
       "      <td>2</td>\n",
       "      <td>3</td>\n",
       "      <td>4</td>\n",
       "    </tr>\n",
       "  </tbody>\n",
       "</table>\n",
       "</div>"
      ],
      "text/plain": [
       "   1  2  3  4\n",
       "0  1  2  3  4\n",
       "1  1  2  3  4\n",
       "2  1  2  3  4"
      ]
     },
     "execution_count": 152,
     "metadata": {},
     "output_type": "execute_result"
    }
   ],
   "source": [
    "# reading non-csv file\n",
    "df = pd.read_csv('anand.txt', sep='#')\n",
    "df"
   ]
  },
  {
   "cell_type": "code",
   "execution_count": 155,
   "metadata": {},
   "outputs": [
    {
     "data": {
      "text/html": [
       "<div>\n",
       "<style scoped>\n",
       "    .dataframe tbody tr th:only-of-type {\n",
       "        vertical-align: middle;\n",
       "    }\n",
       "\n",
       "    .dataframe tbody tr th {\n",
       "        vertical-align: top;\n",
       "    }\n",
       "\n",
       "    .dataframe thead th {\n",
       "        text-align: right;\n",
       "    }\n",
       "</style>\n",
       "<table border=\"1\" class=\"dataframe\">\n",
       "  <thead>\n",
       "    <tr style=\"text-align: right;\">\n",
       "      <th></th>\n",
       "      <th>0</th>\n",
       "      <th>1</th>\n",
       "      <th>2</th>\n",
       "      <th>3</th>\n",
       "    </tr>\n",
       "  </thead>\n",
       "  <tbody>\n",
       "    <tr>\n",
       "      <th>0</th>\n",
       "      <td>10</td>\n",
       "      <td>20</td>\n",
       "      <td>30</td>\n",
       "      <td>40</td>\n",
       "    </tr>\n",
       "    <tr>\n",
       "      <th>1</th>\n",
       "      <td>10</td>\n",
       "      <td>20</td>\n",
       "      <td>30</td>\n",
       "      <td>40</td>\n",
       "    </tr>\n",
       "    <tr>\n",
       "      <th>2</th>\n",
       "      <td>10</td>\n",
       "      <td>20</td>\n",
       "      <td>30</td>\n",
       "      <td>40</td>\n",
       "    </tr>\n",
       "    <tr>\n",
       "      <th>3</th>\n",
       "      <td>10</td>\n",
       "      <td>20</td>\n",
       "      <td>30</td>\n",
       "      <td>40</td>\n",
       "    </tr>\n",
       "  </tbody>\n",
       "</table>\n",
       "</div>"
      ],
      "text/plain": [
       "    0   1   2   3\n",
       "0  10  20  30  40\n",
       "1  10  20  30  40\n",
       "2  10  20  30  40\n",
       "3  10  20  30  40"
      ]
     },
     "execution_count": 155,
     "metadata": {},
     "output_type": "execute_result"
    }
   ],
   "source": [
    "df = pd.read_csv('anand.txt', sep='#', header=None)\n",
    "df"
   ]
  },
  {
   "cell_type": "code",
   "execution_count": 158,
   "metadata": {},
   "outputs": [],
   "source": [
    "df.to_csv('sujata.csv')"
   ]
  },
  {
   "cell_type": "code",
   "execution_count": 159,
   "metadata": {},
   "outputs": [],
   "source": [
    "df.to_csv('sujata_without_rowindex.csv', index=None)"
   ]
  },
  {
   "cell_type": "code",
   "execution_count": 160,
   "metadata": {},
   "outputs": [],
   "source": [
    "df.to_csv('sujata_1.csv', index=None, header=None)"
   ]
  },
  {
   "cell_type": "code",
   "execution_count": null,
   "metadata": {},
   "outputs": [],
   "source": []
  }
 ],
 "metadata": {
  "kernelspec": {
   "display_name": "Python 3",
   "language": "python",
   "name": "python3"
  },
  "language_info": {
   "codemirror_mode": {
    "name": "ipython",
    "version": 3
   },
   "file_extension": ".py",
   "mimetype": "text/x-python",
   "name": "python",
   "nbconvert_exporter": "python",
   "pygments_lexer": "ipython3",
   "version": "3.7.4"
  }
 },
 "nbformat": 4,
 "nbformat_minor": 2
}
