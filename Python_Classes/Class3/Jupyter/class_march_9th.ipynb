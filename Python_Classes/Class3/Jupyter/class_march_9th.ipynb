{
 "cells": [
  {
   "cell_type": "markdown",
   "metadata": {},
   "source": [
    "# class variable vs instance variable\n",
    "- Class variables can be accessed via Class name or object, but it can only be modified by class name.\n",
    "- Instance var: any variable starting with self is instance var. Also it is called instance var because each instance/object would have the different copy of that variable."
   ]
  },
  {
   "cell_type": "code",
   "execution_count": 1,
   "metadata": {},
   "outputs": [
    {
     "name": "stdout",
     "output_type": "stream",
     "text": [
      "class variable\n",
      "class variable\n",
      "class variable\n",
      "new value\n",
      "new value\n"
     ]
    }
   ],
   "source": [
    "class education:\n",
    "    a = \"class variable\"   # can be accessed via class or obj\n",
    "\n",
    "    def __init__(self, n):\n",
    "        self.name = n  # name is an instance/object attr\n",
    "        self.dept = \"Data science\"\n",
    "        \n",
    "\n",
    "# you don't need an object to access or modify a class var\n",
    "print(education.a)\n",
    "obj1 = education(\"Ravi\")\n",
    "print(obj1.a)\n",
    "\n",
    "# all the object would have the same copy of class variable\n",
    "obj2 = education(\"Ravi\")\n",
    "print(obj2.a)\n",
    "\n",
    "# modifying the class variable\n",
    "education.a = \"new value\"\n",
    "print(education.a)\n",
    "print(obj1.a)\n"
   ]
  },
  {
   "cell_type": "markdown",
   "metadata": {},
   "source": [
    "\n",
    "### Instance var\n",
    "any variable starting with self is instance var. Also it is called instance var because each instance/object would have the different copy of that variable."
   ]
  },
  {
   "cell_type": "code",
   "execution_count": 3,
   "metadata": {},
   "outputs": [
    {
     "name": "stdout",
     "output_type": "stream",
     "text": [
      "Ravi\n",
      "Shyam\n"
     ]
    }
   ],
   "source": [
    "class education:\n",
    "    a = \"class variable\"   # can be accessed via class or obj\n",
    "\n",
    "    def __init__(self, n):\n",
    "        self.name = n  # name is an instance/object attr\n",
    "        self.dept = \"Data science\"\n",
    "\n",
    "obj1 = education(\"Ravi\")\n",
    "obj2 = education(\"Shyam\")\n",
    "# accessing the instance var\n",
    "print(obj1.name)\n",
    "print(obj2.name)"
   ]
  },
  {
   "cell_type": "markdown",
   "metadata": {},
   "source": [
    "## constructor and destructor"
   ]
  },
  {
   "cell_type": "code",
   "execution_count": 8,
   "metadata": {},
   "outputs": [
    {
     "name": "stdout",
     "output_type": "stream",
     "text": [
      "111\n",
      "object is going to be deleted, used for clean up actions\n",
      "##########\n"
     ]
    }
   ],
   "source": [
    "class education:\n",
    "    def __init__(self):\n",
    "        print(\"111\")\n",
    "\n",
    "    def __del__(self):\n",
    "        print(\"object is going to be deleted, used for clean up actions\")\n",
    "\n",
    "obj = education()\n",
    "del obj\n",
    "print(\"#\"*10)\n",
    "# If object is deleted then second stmt del\n",
    "# obj should give some error, if not then wht it is deleting??\n"
   ]
  },
  {
   "cell_type": "markdown",
   "metadata": {},
   "source": [
    "# Inheritance"
   ]
  },
  {
   "cell_type": "markdown",
   "metadata": {},
   "source": [
    "## Single inheritance"
   ]
  },
  {
   "cell_type": "code",
   "execution_count": 14,
   "metadata": {},
   "outputs": [
    {
     "name": "stdout",
     "output_type": "stream",
     "text": [
      "Honda\n",
      "Black\n",
      "4\n",
      "100\n",
      "200\n"
     ]
    }
   ],
   "source": [
    "\"\"\"\n",
    "Super=Base=Parent\n",
    "Sub = Derived= Child\n",
    "\"\"\"\n",
    "\n",
    "# single inheritance\n",
    "\n",
    "class Vehicle:\n",
    "    def __init__(self, a, b, c):\n",
    "        self.brand = a\n",
    "        self.color = b\n",
    "        self.no_of_tyres = c\n",
    "        self._pro = 100\n",
    "        self.__pri = 200\n",
    "\n",
    "    def apply_brake(self):\n",
    "        # some logic for applying brake\n",
    "        print(\"Brake applied\")\n",
    "\n",
    "\n",
    "class Car(Vehicle):\n",
    "    pass\n",
    "\n",
    "car_obj = Car(\"Honda\", 'Black', 4)\n",
    "\n",
    "print(car_obj.brand)\n",
    "print(car_obj.color)\n",
    "print(car_obj.no_of_tyres)\n",
    "print(car_obj._pro)\n",
    "print(car_obj._Vehicle__pri)\n",
    "\n",
    "\n"
   ]
  },
  {
   "cell_type": "markdown",
   "metadata": {},
   "source": [
    "## Multiple Inheritance"
   ]
  },
  {
   "cell_type": "code",
   "execution_count": 6,
   "metadata": {},
   "outputs": [
    {
     "name": "stdout",
     "output_type": "stream",
     "text": [
      "2222\n",
      "(<class '__main__.C'>, <class '__main__.B'>, <class '__main__.A'>, <class 'object'>)\n"
     ]
    }
   ],
   "source": [
    "class A:\n",
    "    def hello(self):\n",
    "        print(\"AAA\")\n",
    "    def method(self):\n",
    "        print(\"11111\")\n",
    "\n",
    "class B:\n",
    "    def bye(self):\n",
    "        print(\"BBB\")\n",
    "    def method(self):\n",
    "        print(\"2222\")\n",
    "\n",
    "\n",
    "# multiple inheritance\n",
    "class C(B, A):\n",
    "    pass\n",
    "\n",
    "obj_c = C()\n",
    "obj_c.method()\n",
    "\n",
    "print(C.__mro__)  # method resolution order"
   ]
  },
  {
   "cell_type": "code",
   "execution_count": 17,
   "metadata": {},
   "outputs": [
    {
     "name": "stdout",
     "output_type": "stream",
     "text": [
      "11111\n",
      "(<class '__main__.C'>, <class '__main__.A'>, <class '__main__.B'>, <class 'object'>)\n"
     ]
    }
   ],
   "source": [
    "# changing the inheritance sequence\n",
    "class C(A, B):\n",
    "    pass\n",
    "\n",
    "obj_c = C()\n",
    "obj_c.method()\n",
    "\n",
    "print(C.__mro__)  # method resolution order"
   ]
  },
  {
   "cell_type": "code",
   "execution_count": 18,
   "metadata": {},
   "outputs": [
    {
     "name": "stdout",
     "output_type": "stream",
     "text": [
      "BBB\n"
     ]
    }
   ],
   "source": [
    "class A:\n",
    "    def hello(self):\n",
    "        print(\"AAA\")\n",
    "    def method(self):\n",
    "        print(\"11111\")\n",
    "\n",
    "class B:\n",
    "    def bye(self):\n",
    "        print(\"BBB\")\n",
    "    def method(self):\n",
    "        print(\"2222\")\n",
    "\n",
    "class C(A, B):\n",
    "    pass\n",
    "\n",
    "obj_c = C()\n",
    "obj_c.bye()"
   ]
  },
  {
   "cell_type": "markdown",
   "metadata": {},
   "source": [
    "## Super keyword\n",
    "- used to call parent class' method"
   ]
  },
  {
   "cell_type": "code",
   "execution_count": 23,
   "metadata": {},
   "outputs": [
    {
     "name": "stdout",
     "output_type": "stream",
     "text": [
      "10\n"
     ]
    }
   ],
   "source": [
    "\"\"\"\n",
    "if parent and child both contain __init__ methods then if you instantiate\n",
    "the child class then parent class' init method won't be called\n",
    "automatically therefore with the help of super keyword( or\n",
    "also the other syntax) you would have to explicitly call the\n",
    "parent class init.\n",
    "\"\"\"\n",
    "\n",
    "\n",
    "class A:\n",
    "    def __init__(self, a, b):\n",
    "        self.a = a\n",
    "        self.b = b\n",
    "\n",
    "\n",
    "class B(A):\n",
    "    def __init__(self, c, d):\n",
    "        super(B, self).__init__(10, 20)  # syntax 1 to call parent class method\n",
    "        #A.__init__(self, c+10, d+10)      # syntax 2 to call parent class method\n",
    "        # super().__init__(10, 20)         # syntax 3 to call parent class method\n",
    "        self.c = c\n",
    "        self.d = d\n",
    "\n",
    "\n",
    "\n",
    "b = B(1, 2)\n",
    "print(b.a)\n",
    "\n"
   ]
  },
  {
   "cell_type": "markdown",
   "metadata": {},
   "source": [
    "## method overriding and building a wrapper using super(or other syntaxes) and "
   ]
  },
  {
   "cell_type": "code",
   "execution_count": 24,
   "metadata": {},
   "outputs": [
    {
     "data": {
      "text/plain": [
       "144"
      ]
     },
     "execution_count": 24,
     "metadata": {},
     "output_type": "execute_result"
    }
   ],
   "source": [
    "\"\"\"\n",
    "super keyword: used to call parent class method from child class\n",
    "baseclass, parent class, super class are synonyms\n",
    "derived, Child and sub-class are synonyms\n",
    "\"\"\"\n",
    "\n",
    "class Sudipta:\n",
    "    def __init__(self, a, b):\n",
    "        self.a = a\n",
    "        self.b = b\n",
    "\n",
    "    def api(self, i):\n",
    "        return i**2 + self.a + self.b\n",
    "\n",
    "class Sandeep(Sudipta):\n",
    "\n",
    "    # Dinesh wrapper above api()\n",
    "    def api(self, i):\n",
    "        out = super(Sandeep, self).api(i) # method 1 to call parent class method\n",
    "        \n",
    "        #out = A.api(self, i) # method 2 to call the parent class method\n",
    "        \n",
    "        return out**2\n",
    "\n",
    "obj = Sandeep(1, 2)\n",
    "obj.api(3)\n"
   ]
  },
  {
   "cell_type": "markdown",
   "metadata": {},
   "source": [
    "## class method\n",
    "- By putting the in-built decorator @classmethod makes a method a class method.\n",
    "- Class method would take first parameter as class whenever it is called.\n",
    "- It can be called by both object as well as Class name, however it should be called with class Name only.\n",
    "- declare a method as classmethod only when you don't have any dependency on object in that method."
   ]
  },
  {
   "cell_type": "code",
   "execution_count": 26,
   "metadata": {},
   "outputs": [
    {
     "name": "stdout",
     "output_type": "stream",
     "text": [
      "2018\n",
      "3\n"
     ]
    }
   ],
   "source": [
    "class Date:\n",
    "    def __init__(self, year, month, day):\n",
    "        self.year = year\n",
    "        self.month = month\n",
    "        self.day = day\n",
    "\n",
    "    @classmethod\n",
    "    def dmy(cls, day, month, year):\n",
    "        return cls(year, month, day) # object of the class Date\n",
    "\n",
    "    @classmethod\n",
    "    def mdy(cls, month, day, year):\n",
    "        return cls(year, month, day)  # object of the class Date\n",
    "\n",
    "    # cls -> Date\n",
    "a = Date(2018, 2, 21)\n",
    "b_obj = a.dmy(22, 3, 2018)\n",
    "\n",
    "print(b_obj.year)\n",
    "print(b_obj.month)\n"
   ]
  },
  {
   "cell_type": "code",
   "execution_count": 30,
   "metadata": {},
   "outputs": [
    {
     "name": "stdout",
     "output_type": "stream",
     "text": [
      "<class '__main__.MyClass'>\n",
      "<class '__main__.MyClass'>\n",
      "200\n",
      "1 2\n"
     ]
    }
   ],
   "source": [
    "# Example 2:\n",
    "class MyClass:\n",
    "    i = 200 # class variable\n",
    "    def __init__(self, m, n):\n",
    "        self.m = m\n",
    "        self.n = n\n",
    "\n",
    "    @classmethod\n",
    "    def hello(cls, a, b):\n",
    "        print(cls)\n",
    "        print(cls.i)\n",
    "        print(a, b)\n",
    "        #print(self.m)  # Not allowed in class method\n",
    "obj = MyClass(100, 200)\n",
    "print(MyClass)\n",
    "MyClass.hello(1, 2)"
   ]
  },
  {
   "cell_type": "markdown",
   "metadata": {},
   "source": [
    "## Multi-level inheritance"
   ]
  },
  {
   "cell_type": "code",
   "execution_count": 31,
   "metadata": {},
   "outputs": [
    {
     "name": "stdout",
     "output_type": "stream",
     "text": [
      "Eating...\n",
      "barking..\n",
      "Weeping...\n"
     ]
    }
   ],
   "source": [
    "class Animal:\n",
    "    def eat(self):\n",
    "        print(\"Eating...\")\n",
    "\n",
    "class Dog(Animal):\n",
    "    def bark(self):\n",
    "        print(\"barking..\")\n",
    "\n",
    "class Puppy(Dog):\n",
    "    def weep(self):\n",
    "        print(\"Weeping...\")\n",
    "\n",
    "d = Puppy()\n",
    "d.eat()\n",
    "d.bark()\n",
    "d.weep()"
   ]
  },
  {
   "cell_type": "markdown",
   "metadata": {},
   "source": [
    "# Polymorphism"
   ]
  },
  {
   "cell_type": "code",
   "execution_count": 32,
   "metadata": {},
   "outputs": [
    {
     "data": {
      "text/plain": [
       "25"
      ]
     },
     "execution_count": 32,
     "metadata": {},
     "output_type": "execute_result"
    }
   ],
   "source": [
    "#python is polymorphic in nature ex: + operator\n",
    "12 + 13"
   ]
  },
  {
   "cell_type": "code",
   "execution_count": 33,
   "metadata": {},
   "outputs": [
    {
     "data": {
      "text/plain": [
       "'education rocks'"
      ]
     },
     "execution_count": 33,
     "metadata": {},
     "output_type": "execute_result"
    }
   ],
   "source": [
    "\"education \" + \"rocks\""
   ]
  },
  {
   "cell_type": "code",
   "execution_count": 34,
   "metadata": {},
   "outputs": [
    {
     "data": {
      "text/plain": [
       "[1, 2, 3, 4]"
      ]
     },
     "execution_count": 34,
     "metadata": {},
     "output_type": "execute_result"
    }
   ],
   "source": [
    "[1,2] + [3, 4]"
   ]
  },
  {
   "cell_type": "code",
   "execution_count": 35,
   "metadata": {},
   "outputs": [],
   "source": [
    "# same for '*' operator"
   ]
  },
  {
   "cell_type": "code",
   "execution_count": 36,
   "metadata": {},
   "outputs": [
    {
     "data": {
      "text/plain": [
       "276"
      ]
     },
     "execution_count": 36,
     "metadata": {},
     "output_type": "execute_result"
    }
   ],
   "source": [
    "12 * 23"
   ]
  },
  {
   "cell_type": "code",
   "execution_count": 37,
   "metadata": {},
   "outputs": [
    {
     "data": {
      "text/plain": [
       "(1, 2, 1, 2)"
      ]
     },
     "execution_count": 37,
     "metadata": {},
     "output_type": "execute_result"
    }
   ],
   "source": [
    "(1,2) * 2"
   ]
  },
  {
   "cell_type": "code",
   "execution_count": 38,
   "metadata": {},
   "outputs": [
    {
     "data": {
      "text/plain": [
       "[1, 2, 1, 2, 1, 2]"
      ]
     },
     "execution_count": 38,
     "metadata": {},
     "output_type": "execute_result"
    }
   ],
   "source": [
    "[1,2] * 3"
   ]
  },
  {
   "cell_type": "code",
   "execution_count": 39,
   "metadata": {},
   "outputs": [
    {
     "data": {
      "text/plain": [
       "'hellohellohello'"
      ]
     },
     "execution_count": 39,
     "metadata": {},
     "output_type": "execute_result"
    }
   ],
   "source": [
    "\"hello\" * 3"
   ]
  },
  {
   "cell_type": "code",
   "execution_count": 9,
   "metadata": {},
   "outputs": [
    {
     "name": "stdout",
     "output_type": "stream",
     "text": [
      "Meowwww\n",
      "Woof\n"
     ]
    }
   ],
   "source": [
    "# prem\n",
    "class Animal:\n",
    "    def __init__(self, name):\n",
    "        self.name = name\n",
    "    \n",
    "    def talk(self):\n",
    "        pass\n",
    "\n",
    "\n",
    "# sudipta\n",
    "class Cat(Animal):\n",
    "    def talk(self,legs):\n",
    "        print(\"Meowwww\")\n",
    "\n",
    "# fred\n",
    "class Dog(Animal):\n",
    "    def talk(self):\n",
    "        print(\"Woof\")\n",
    "\n",
    "######## client/user####\n",
    "\n",
    "c = Cat(\"Kitty\")\n",
    "c.talk(4)\n",
    "\n",
    "\n",
    "d = Dog(\"Tommy\")\n",
    "d.talk()\n",
    "\n",
    "\n",
    "    "
   ]
  },
  {
   "cell_type": "markdown",
   "metadata": {},
   "source": [
    "## getters and setters"
   ]
  },
  {
   "cell_type": "code",
   "execution_count": 7,
   "metadata": {},
   "outputs": [],
   "source": [
    "class education:\n",
    "    def __init__(self, courseName):\n",
    "        self.courseName = courseName\n",
    "\n",
    "    def getter_courseName(self):\n",
    "        return self.courseName\n",
    "\n",
    "    def setter_courseName(self, new_val):\n",
    "        self.courseName = new_val\n",
    "\n",
    "########## user code###\n",
    "\n",
    "obj = education(\"Python\")\n",
    "obj.getter_courseName()\n",
    "obj.courseName = \"new value\"\n",
    "obj.setter_courseName(\"new_value\")"
   ]
  },
  {
   "cell_type": "code",
   "execution_count": null,
   "metadata": {},
   "outputs": [],
   "source": []
  }
 ],
 "metadata": {
  "kernelspec": {
   "display_name": "Python 3",
   "language": "python",
   "name": "python3"
  },
  "language_info": {
   "codemirror_mode": {
    "name": "ipython",
    "version": 3
   },
   "file_extension": ".py",
   "mimetype": "text/x-python",
   "name": "python",
   "nbconvert_exporter": "python",
   "pygments_lexer": "ipython3",
   "version": "3.7.4"
  }
 },
 "nbformat": 4,
 "nbformat_minor": 2
}
