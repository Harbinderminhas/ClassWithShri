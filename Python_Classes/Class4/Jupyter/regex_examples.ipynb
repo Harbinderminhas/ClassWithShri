{
 "cells": [
  {
   "cell_type": "code",
   "execution_count": 1,
   "metadata": {},
   "outputs": [],
   "source": [
    "import re"
   ]
  },
  {
   "cell_type": "markdown",
   "metadata": {},
   "source": [
    "# re.sub(pattern, replacement_str, input_str)\n",
    "- replace the string with replacement str wherever pattern matches"
   ]
  },
  {
   "cell_type": "code",
   "execution_count": 3,
   "metadata": {},
   "outputs": [
    {
     "data": {
      "text/plain": [
       "'*bc*e *bc*ef *bc*ef'"
      ]
     },
     "execution_count": 3,
     "metadata": {},
     "output_type": "execute_result"
    }
   ],
   "source": [
    "# [] brackets allow you to pass multiple characters together\n",
    "re.sub('[ad]', '*', 'abcde abcdef abcdef')"
   ]
  },
  {
   "cell_type": "code",
   "execution_count": 4,
   "metadata": {},
   "outputs": [
    {
     "data": {
      "text/plain": [
       "'***** ****** ******'"
      ]
     },
     "execution_count": 4,
     "metadata": {},
     "output_type": "execute_result"
    }
   ],
   "source": [
    "re.sub('[a-z]', '*', 'abcde abcdef abcdef')"
   ]
  },
  {
   "cell_type": "code",
   "execution_count": 5,
   "metadata": {},
   "outputs": [
    {
     "data": {
      "text/plain": [
       "'*de *def *def'"
      ]
     },
     "execution_count": 5,
     "metadata": {},
     "output_type": "execute_result"
    }
   ],
   "source": [
    "re.sub('abc', '*', 'abcde abcdef abcdef')"
   ]
  },
  {
   "cell_type": "code",
   "execution_count": 9,
   "metadata": {},
   "outputs": [
    {
     "data": {
      "text/plain": [
       "'* + * + * + c4 + e5'"
      ]
     },
     "execution_count": 9,
     "metadata": {},
     "output_type": "execute_result"
    }
   ],
   "source": [
    "re.sub('[abc][123]', '*', 'a1 + b2 + c1 + c4 + e5')"
   ]
  },
  {
   "cell_type": "code",
   "execution_count": 12,
   "metadata": {},
   "outputs": [
    {
     "data": {
      "text/plain": [
       "'* * AxxB *'"
      ]
     },
     "execution_count": 12,
     "metadata": {},
     "output_type": "execute_result"
    }
   ],
   "source": [
    "# . dot matches any single character except new line\n",
    "re.sub(r'A.B', '*', 'A2B A B AxxB A$B')"
   ]
  },
  {
   "cell_type": "code",
   "execution_count": 13,
   "metadata": {},
   "outputs": [
    {
     "data": {
      "text/plain": [
       "'* hello * bye *'"
      ]
     },
     "execution_count": 13,
     "metadata": {},
     "output_type": "execute_result"
    }
   ],
   "source": [
    "# + : makes search greedy ie 1 or more\n",
    "# \\d is to match a number\n",
    "# \\d+ matches continuous number\n",
    "re.sub(r'\\d+', '*', '123 hello 456 bye 789')"
   ]
  },
  {
   "cell_type": "code",
   "execution_count": 14,
   "metadata": {},
   "outputs": [
    {
     "data": {
      "text/plain": [
       "'12 34 *, **'"
      ]
     },
     "execution_count": 14,
     "metadata": {},
     "output_type": "execute_result"
    }
   ],
   "source": [
    "#{m,n}\n",
    "re.sub('\\d{3,5}', '*', '12 34 4567, 11223344')"
   ]
  },
  {
   "cell_type": "code",
   "execution_count": 15,
   "metadata": {},
   "outputs": [],
   "source": [
    "# what is 'r' ?\n",
    "# it is raw string\n"
   ]
  },
  {
   "cell_type": "code",
   "execution_count": 16,
   "metadata": {},
   "outputs": [
    {
     "name": "stdout",
     "output_type": "stream",
     "text": [
      "\n",
      "\n"
     ]
    }
   ],
   "source": [
    "print('\\n')"
   ]
  },
  {
   "cell_type": "code",
   "execution_count": 17,
   "metadata": {},
   "outputs": [
    {
     "name": "stdout",
     "output_type": "stream",
     "text": [
      "\\n\n"
     ]
    }
   ],
   "source": [
    "print(r'\\n')"
   ]
  },
  {
   "cell_type": "code",
   "execution_count": 19,
   "metadata": {},
   "outputs": [
    {
     "data": {
      "text/plain": [
       "'* bye hi'"
      ]
     },
     "execution_count": 19,
     "metadata": {},
     "output_type": "execute_result"
    }
   ],
   "source": [
    "# ^ checks starting of a string\n",
    "re.sub('^hello', '*', 'hello bye hi')"
   ]
  },
  {
   "cell_type": "code",
   "execution_count": 20,
   "metadata": {},
   "outputs": [
    {
     "data": {
      "text/plain": [
       "'hello hi *'"
      ]
     },
     "execution_count": 20,
     "metadata": {},
     "output_type": "execute_result"
    }
   ],
   "source": [
    "# $ check ends\n",
    "re.sub('bye$', '*', 'hello hi bye')"
   ]
  },
  {
   "cell_type": "markdown",
   "metadata": {},
   "source": [
    "# search(pattern, input_str)\n",
    "- it returns match object\n",
    "- returns only first match\n",
    "- it searches in the complete string till it not finds the match"
   ]
  },
  {
   "cell_type": "code",
   "execution_count": 22,
   "metadata": {},
   "outputs": [
    {
     "name": "stdout",
     "output_type": "stream",
     "text": [
      "834758745865\n"
     ]
    }
   ],
   "source": [
    "# extract phone number\n",
    "a = \"my number is 834758745865 and 678 and 890 \"\n",
    "match_obj = re.search('\\d+', a)\n",
    "if match_obj:\n",
    "    print(match_obj.group())\n",
    "else:\n",
    "    print(\"No match\")"
   ]
  },
  {
   "cell_type": "code",
   "execution_count": 24,
   "metadata": {},
   "outputs": [
    {
     "name": "stdout",
     "output_type": "stream",
     "text": [
      "1234567899\n"
     ]
    }
   ],
   "source": [
    "a = \"my number is 8347 and 678 and 1234567899 \"\n",
    "match_obj = re.search('\\d{10}', a)\n",
    "if match_obj:\n",
    "    print(match_obj.group())\n",
    "else:\n",
    "    print(\"No match\")"
   ]
  },
  {
   "cell_type": "code",
   "execution_count": 26,
   "metadata": {},
   "outputs": [
    {
     "name": "stdout",
     "output_type": "stream",
     "text": [
      "678-789-123\n",
      "['__class__', '__copy__', '__deepcopy__', '__delattr__', '__dir__', '__doc__', '__eq__', '__format__', '__ge__', '__getattribute__', '__getitem__', '__gt__', '__hash__', '__init__', '__init_subclass__', '__le__', '__lt__', '__ne__', '__new__', '__reduce__', '__reduce_ex__', '__repr__', '__setattr__', '__sizeof__', '__str__', '__subclasshook__', 'end', 'endpos', 'expand', 'group', 'groupdict', 'groups', 'lastgroup', 'lastindex', 'pos', 're', 'regs', 'span', 'start', 'string']\n"
     ]
    }
   ],
   "source": [
    "# US number\n",
    "a = \"my number is 834-456 and 678-789-123 and 1234567899 \"\n",
    "match_obj = re.search('\\d{3}-\\d{3}-\\d{3}', a)\n",
    "if match_obj:\n",
    "    print(match_obj.group())\n",
    "    #print(dir(match_obj))\n",
    "else:\n",
    "    print(\"No match\")"
   ]
  },
  {
   "cell_type": "markdown",
   "metadata": {},
   "source": [
    "# match(pattern, input_str)\n",
    "- it returns match object\n",
    "- it matches only the beginning of a string"
   ]
  },
  {
   "cell_type": "code",
   "execution_count": 27,
   "metadata": {},
   "outputs": [
    {
     "name": "stdout",
     "output_type": "stream",
     "text": [
      "834758745865\n"
     ]
    }
   ],
   "source": [
    "# search()\n",
    "# extract phone number\n",
    "a = \"my number is 834758745865 hello \"\n",
    "match_obj = re.search('\\d+', a)\n",
    "if match_obj:\n",
    "    print(match_obj.group())\n",
    "else:\n",
    "    print(\"No match\")"
   ]
  },
  {
   "cell_type": "code",
   "execution_count": 28,
   "metadata": {},
   "outputs": [
    {
     "name": "stdout",
     "output_type": "stream",
     "text": [
      "No match\n"
     ]
    }
   ],
   "source": [
    "# match()\n",
    "a = \"my number is 834758745865 hello \"\n",
    "match_obj = re.match('\\d+', a)\n",
    "if match_obj:\n",
    "    print(match_obj.group())\n",
    "else:\n",
    "    print(\"No match\")"
   ]
  },
  {
   "cell_type": "code",
   "execution_count": 29,
   "metadata": {},
   "outputs": [
    {
     "name": "stdout",
     "output_type": "stream",
     "text": [
      "834758745865\n"
     ]
    }
   ],
   "source": [
    "a = \"834758745865 my number is hello \"\n",
    "match_obj = re.match('\\d+', a)\n",
    "if match_obj:\n",
    "    print(match_obj.group())\n",
    "else:\n",
    "    print(\"No match\")"
   ]
  },
  {
   "cell_type": "markdown",
   "metadata": {},
   "source": [
    "# findall(pattern, input_str)\n",
    "- it returns a list of all matches"
   ]
  },
  {
   "cell_type": "code",
   "execution_count": 30,
   "metadata": {},
   "outputs": [
    {
     "data": {
      "text/plain": [
       "['123', '456', '789']"
      ]
     },
     "execution_count": 30,
     "metadata": {},
     "output_type": "execute_result"
    }
   ],
   "source": [
    "a = 'hello 123 and bye 456 and 789'\n",
    "re.findall('\\d+', a)"
   ]
  },
  {
   "cell_type": "markdown",
   "metadata": {},
   "source": [
    "## QA"
   ]
  },
  {
   "cell_type": "code",
   "execution_count": 31,
   "metadata": {},
   "outputs": [
    {
     "name": "stdout",
     "output_type": "stream",
     "text": [
      "678-789-123\n"
     ]
    }
   ],
   "source": [
    "# instead of d we can give [0-9]{3} ?\n",
    "# US number\n",
    "a = \"my number is 834-456 and 678-789-123 and 1234567899 \"\n",
    "match_obj = re.search('[0-9]{3}-[0-9]{3}-[0-9]{3}', a)\n",
    "if match_obj:\n",
    "    print(match_obj.group())\n",
    "    #print(dir(match_obj))\n",
    "else:\n",
    "    print(\"No match\")"
   ]
  },
  {
   "cell_type": "code",
   "execution_count": null,
   "metadata": {},
   "outputs": [],
   "source": [
    "#\\w is to alphanumeric chars [a-zA-Z0-9_]\n",
    "#\\b: word boundary\n"
   ]
  }
 ],
 "metadata": {
  "kernelspec": {
   "display_name": "Python 3",
   "language": "python",
   "name": "python3"
  },
  "language_info": {
   "codemirror_mode": {
    "name": "ipython",
    "version": 3
   },
   "file_extension": ".py",
   "mimetype": "text/x-python",
   "name": "python",
   "nbconvert_exporter": "python",
   "pygments_lexer": "ipython3",
   "version": "3.6.5"
  }
 },
 "nbformat": 4,
 "nbformat_minor": 2
}
