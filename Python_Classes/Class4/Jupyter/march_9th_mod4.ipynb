{
 "cells": [
  {
   "cell_type": "markdown",
   "metadata": {},
   "source": [
    "# Working with modules and exceptions"
   ]
  },
  {
   "cell_type": "code",
   "execution_count": 1,
   "metadata": {},
   "outputs": [],
   "source": [
    "import math"
   ]
  },
  {
   "cell_type": "code",
   "execution_count": 2,
   "metadata": {},
   "outputs": [
    {
     "data": {
      "text/plain": [
       "2.0"
      ]
     },
     "execution_count": 2,
     "metadata": {},
     "output_type": "execute_result"
    }
   ],
   "source": [
    "math.sqrt(4)"
   ]
  },
  {
   "cell_type": "code",
   "execution_count": 3,
   "metadata": {},
   "outputs": [
    {
     "data": {
      "text/plain": [
       "['__doc__',\n",
       " '__file__',\n",
       " '__loader__',\n",
       " '__name__',\n",
       " '__package__',\n",
       " '__spec__',\n",
       " 'acos',\n",
       " 'acosh',\n",
       " 'asin',\n",
       " 'asinh',\n",
       " 'atan',\n",
       " 'atan2',\n",
       " 'atanh',\n",
       " 'ceil',\n",
       " 'copysign',\n",
       " 'cos',\n",
       " 'cosh',\n",
       " 'degrees',\n",
       " 'e',\n",
       " 'erf',\n",
       " 'erfc',\n",
       " 'exp',\n",
       " 'expm1',\n",
       " 'fabs',\n",
       " 'factorial',\n",
       " 'floor',\n",
       " 'fmod',\n",
       " 'frexp',\n",
       " 'fsum',\n",
       " 'gamma',\n",
       " 'gcd',\n",
       " 'hypot',\n",
       " 'inf',\n",
       " 'isclose',\n",
       " 'isfinite',\n",
       " 'isinf',\n",
       " 'isnan',\n",
       " 'ldexp',\n",
       " 'lgamma',\n",
       " 'log',\n",
       " 'log10',\n",
       " 'log1p',\n",
       " 'log2',\n",
       " 'modf',\n",
       " 'nan',\n",
       " 'pi',\n",
       " 'pow',\n",
       " 'radians',\n",
       " 'remainder',\n",
       " 'sin',\n",
       " 'sinh',\n",
       " 'sqrt',\n",
       " 'tan',\n",
       " 'tanh',\n",
       " 'tau',\n",
       " 'trunc']"
      ]
     },
     "execution_count": 3,
     "metadata": {},
     "output_type": "execute_result"
    }
   ],
   "source": [
    "# find all the methods of module\n",
    "dir(math)"
   ]
  },
  {
   "cell_type": "markdown",
   "metadata": {},
   "source": [
    "# Different types of import\n",
    "- 1. Full import : import module_name   this imports everything from that module and we need to use the module_name to access anything ex: math.sqrt(4)\n",
    "- 2. Specific import: from module_name import specifc_thing_to_be_import ex : from math import sqrt ..now only sqrt has been imported and you don't need the module_name to access the specific method imported\n",
    "- 3. importing with an alias : import pandas as pd\n",
    "- 4. from math import *   this importst everthing and you don't have to use module_name to access the things imported."
   ]
  },
  {
   "cell_type": "code",
   "execution_count": 5,
   "metadata": {},
   "outputs": [
    {
     "name": "stdout",
     "output_type": "stream",
     "text": [
      "2.0\n",
      "2.718281828459045\n"
     ]
    }
   ],
   "source": [
    "# 1\n",
    "import math\n",
    "print(math.sqrt(4))\n",
    "print(math.e)"
   ]
  },
  {
   "cell_type": "code",
   "execution_count": 6,
   "metadata": {},
   "outputs": [
    {
     "data": {
      "text/plain": [
       "3.0"
      ]
     },
     "execution_count": 6,
     "metadata": {},
     "output_type": "execute_result"
    }
   ],
   "source": [
    "#2\n",
    "from math import sqrt\n",
    "sqrt(9)"
   ]
  },
  {
   "cell_type": "code",
   "execution_count": 7,
   "metadata": {},
   "outputs": [
    {
     "ename": "NameError",
     "evalue": "name 'e' is not defined",
     "output_type": "error",
     "traceback": [
      "\u001b[0;31m---------------------------------------------------------------------------\u001b[0m",
      "\u001b[0;31mNameError\u001b[0m                                 Traceback (most recent call last)",
      "\u001b[0;32m<ipython-input-7-094e3afb2fe8>\u001b[0m in \u001b[0;36m<module>\u001b[0;34m\u001b[0m\n\u001b[0;32m----> 1\u001b[0;31m \u001b[0me\u001b[0m\u001b[0;34m\u001b[0m\u001b[0;34m\u001b[0m\u001b[0m\n\u001b[0m",
      "\u001b[0;31mNameError\u001b[0m: name 'e' is not defined"
     ]
    }
   ],
   "source": [
    "e"
   ]
  },
  {
   "cell_type": "code",
   "execution_count": 8,
   "metadata": {},
   "outputs": [
    {
     "name": "stdout",
     "output_type": "stream",
     "text": [
      "3.1622776601683795\n",
      "2.718281828459045\n"
     ]
    }
   ],
   "source": [
    "#2.1\n",
    "from math import sqrt, e\n",
    "print(sqrt(10))\n",
    "print(e)"
   ]
  },
  {
   "cell_type": "code",
   "execution_count": 9,
   "metadata": {},
   "outputs": [
    {
     "data": {
      "text/plain": [
       "4.358898943540674"
      ]
     },
     "execution_count": 9,
     "metadata": {},
     "output_type": "execute_result"
    }
   ],
   "source": [
    "#3\n",
    "import math as mt\n",
    "mt.sqrt(19)"
   ]
  },
  {
   "cell_type": "code",
   "execution_count": 10,
   "metadata": {},
   "outputs": [
    {
     "name": "stdout",
     "output_type": "stream",
     "text": [
      "4.358898943540674\n",
      "2.718281828459045\n"
     ]
    }
   ],
   "source": [
    "#4\n",
    "from math import *  # same as import math\n",
    "print(sqrt(19))\n",
    "print(e)"
   ]
  },
  {
   "cell_type": "markdown",
   "metadata": {},
   "source": [
    "# sys"
   ]
  },
  {
   "cell_type": "code",
   "execution_count": null,
   "metadata": {},
   "outputs": [],
   "source": [
    "#sys.argv"
   ]
  },
  {
   "cell_type": "code",
   "execution_count": 12,
   "metadata": {},
   "outputs": [
    {
     "name": "stdout",
     "output_type": "stream",
     "text": [
      "enter your age:12\n",
      "come back next year\n"
     ]
    }
   ],
   "source": [
    "import sys\n",
    "age = eval(input(\"enter your age:\"))\n",
    "if not isinstance(age, int):\n",
    "    print(\"Age is not a number\")\n",
    "    sys.exit(-1)\n",
    "if age >= 18:\n",
    "    print(\"Vote\")\n",
    "else:\n",
    "    print(\"come back next year\")\n",
    "    "
   ]
  },
  {
   "cell_type": "code",
   "execution_count": 14,
   "metadata": {},
   "outputs": [
    {
     "data": {
      "text/plain": [
       "['__breakpointhook__',\n",
       " '__displayhook__',\n",
       " '__doc__',\n",
       " '__excepthook__',\n",
       " '__interactivehook__',\n",
       " '__loader__',\n",
       " '__name__',\n",
       " '__package__',\n",
       " '__spec__',\n",
       " '__stderr__',\n",
       " '__stdin__',\n",
       " '__stdout__',\n",
       " '_clear_type_cache',\n",
       " '_current_frames',\n",
       " '_debugmallocstats',\n",
       " '_framework',\n",
       " '_getframe',\n",
       " '_git',\n",
       " '_home',\n",
       " '_xoptions',\n",
       " 'abiflags',\n",
       " 'api_version',\n",
       " 'argv',\n",
       " 'base_exec_prefix',\n",
       " 'base_prefix',\n",
       " 'breakpointhook',\n",
       " 'builtin_module_names',\n",
       " 'byteorder',\n",
       " 'call_tracing',\n",
       " 'callstats',\n",
       " 'copyright',\n",
       " 'displayhook',\n",
       " 'dont_write_bytecode',\n",
       " 'exc_info',\n",
       " 'excepthook',\n",
       " 'exec_prefix',\n",
       " 'executable',\n",
       " 'exit',\n",
       " 'flags',\n",
       " 'float_info',\n",
       " 'float_repr_style',\n",
       " 'get_asyncgen_hooks',\n",
       " 'get_coroutine_origin_tracking_depth',\n",
       " 'get_coroutine_wrapper',\n",
       " 'getallocatedblocks',\n",
       " 'getcheckinterval',\n",
       " 'getdefaultencoding',\n",
       " 'getdlopenflags',\n",
       " 'getfilesystemencodeerrors',\n",
       " 'getfilesystemencoding',\n",
       " 'getprofile',\n",
       " 'getrecursionlimit',\n",
       " 'getrefcount',\n",
       " 'getsizeof',\n",
       " 'getswitchinterval',\n",
       " 'gettrace',\n",
       " 'hash_info',\n",
       " 'hexversion',\n",
       " 'implementation',\n",
       " 'int_info',\n",
       " 'intern',\n",
       " 'is_finalizing',\n",
       " 'last_traceback',\n",
       " 'last_type',\n",
       " 'last_value',\n",
       " 'maxsize',\n",
       " 'maxunicode',\n",
       " 'meta_path',\n",
       " 'modules',\n",
       " 'path',\n",
       " 'path_hooks',\n",
       " 'path_importer_cache',\n",
       " 'platform',\n",
       " 'prefix',\n",
       " 'ps1',\n",
       " 'ps2',\n",
       " 'ps3',\n",
       " 'set_asyncgen_hooks',\n",
       " 'set_coroutine_origin_tracking_depth',\n",
       " 'set_coroutine_wrapper',\n",
       " 'setcheckinterval',\n",
       " 'setdlopenflags',\n",
       " 'setprofile',\n",
       " 'setrecursionlimit',\n",
       " 'setswitchinterval',\n",
       " 'settrace',\n",
       " 'stderr',\n",
       " 'stdin',\n",
       " 'stdout',\n",
       " 'thread_info',\n",
       " 'version',\n",
       " 'version_info',\n",
       " 'warnoptions']"
      ]
     },
     "execution_count": 14,
     "metadata": {},
     "output_type": "execute_result"
    }
   ],
   "source": [
    "dir(sys)"
   ]
  },
  {
   "cell_type": "code",
   "execution_count": 15,
   "metadata": {},
   "outputs": [
    {
     "data": {
      "text/plain": [
       "'3.7.1 (default, Dec 14 2018, 13:28:58) \\n[Clang 4.0.1 (tags/RELEASE_401/final)]'"
      ]
     },
     "execution_count": 15,
     "metadata": {},
     "output_type": "execute_result"
    }
   ],
   "source": [
    "sys.version"
   ]
  },
  {
   "cell_type": "code",
   "execution_count": 17,
   "metadata": {},
   "outputs": [
    {
     "name": "stdout",
     "output_type": "stream",
     "text": [
      "\n",
      "Please wait a moment while I gather a list of all available modules...\n",
      "\n",
      "Crypto              brain_gi            jdcal               reprlib\n",
      "Cython              brain_hashlib       jedi                requests\n",
      "IPython             brain_io            jinja2              resource\n",
      "OpenSSL             brain_mechanize     json                rlcompleter\n",
      "PIL                 brain_multiprocessing jsonschema          rmagic\n",
      "PyQt5               brain_namedtuple_enum jupyter             rope\n",
      "__future__          brain_nose          jupyter_client      ruamel_yaml\n",
      "_abc                brain_numpy         jupyter_console     runpy\n",
      "_ast                brain_pkg_resources jupyter_core        sched\n",
      "_asyncio            brain_pytest        jupyterlab          scipy\n",
      "_bisect             brain_qt            jupyterlab_server   scripts\n",
      "_blake2             brain_random        keyring             seaborn\n",
      "_bootlocale         brain_re            keyword             secrets\n",
      "_bz2                brain_six           kiwisolver          select\n",
      "_cffi_backend       brain_ssl           lazy_object_proxy   selectors\n",
      "_codecs             brain_subprocess    lib2to3             send2trash\n",
      "_codecs_cn          brain_threading     libarchive          setuptools\n",
      "_codecs_hk          brain_typing        libfuturize         shelve\n",
      "_codecs_iso2022     brain_uuid          libpasteurize       shlex\n",
      "_codecs_jp          bs4                 lief                shutil\n",
      "_codecs_kr          builtins            linecache           signal\n",
      "_codecs_tw          bz2                 llvmlite            simplegeneric\n",
      "_collections        cProfile            locale              singledispatch\n",
      "_collections_abc    calendar            locket              singledispatch_helpers\n",
      "_compat_pickle      certifi             logging             sip\n",
      "_compression        cffi                lxml                sipconfig\n",
      "_contextvars        cgi                 lzma                sipdistutils\n",
      "_crypt              cgitb               macpath             site\n",
      "_csv                chardet             mactypes            six\n",
      "_ctypes             chunk               mailbox             skimage\n",
      "_ctypes_test        click               mailcap             sklearn\n",
      "_curses             cloudpickle         markupsafe          smtpd\n",
      "_curses_panel       clyent              marshal             smtplib\n",
      "_datetime           cmath               math                sndhdr\n",
      "_dbm                cmd                 matplotlib          snowballstemmer\n",
      "_decimal            code                mccabe              socket\n",
      "_dummy_thread       codecs              mimetypes           socketserver\n",
      "_elementtree        codeop              mistune             socks\n",
      "_functools          collections         mkl                 sockshandler\n",
      "_hashlib            colorama            mkl_fft             sortedcollections\n",
      "_heapq              colorsys            mkl_random          sortedcontainers\n",
      "_imp                compileall          mlxtend             sphinx\n",
      "_io                 concurrent          mmap                sphinxcontrib\n",
      "_json               conda               modulefinder        sphinxify\n",
      "_locale             conda_build         more_itertools      spyder\n",
      "_lsprof             conda_env           mpmath              spyder_breakpoints\n",
      "_lzma               conda_verify        msgpack             spyder_io_dcm\n",
      "_markupbase         conf                multipledispatch    spyder_io_hdf5\n",
      "_md5                configparser        multiprocessing     spyder_kernels\n",
      "_multibytecodec     contextlib          navigator_updater   spyder_profiler\n",
      "_multiprocessing    contextlib2         nbconvert           spyder_pylint\n",
      "_opcode             contextvars         nbformat            sqlalchemy\n",
      "_operator           copy                netrc               sqlite3\n",
      "_osx_support        copyreg             networkx            sre_compile\n",
      "_pickle             crypt               nis                 sre_constants\n",
      "_posixsubprocess    cryptography        nltk                sre_parse\n",
      "_py_abc             csv                 nntplib             ssl\n",
      "_pydecimal          ctypes              nose                stat\n",
      "_pyio               curl                notebook            statistics\n",
      "_pylief             curses              ntpath              statsmodels\n",
      "_pytest             cycler              nturl2path          storemagic\n",
      "_queue              cython              numba               string\n",
      "_random             cythonmagic         numbers             stringprep\n",
      "_scproxy            cytoolz             numexpr             struct\n",
      "_sha1               dask                numpy               subprocess\n",
      "_sha256             dataclasses         numpydoc            sunau\n",
      "_sha3               datashape           odo                 symbol\n",
      "_sha512             datetime            olefile             sympy\n",
      "_signal             dateutil            opcode              sympyprinting\n",
      "_sitebuiltins       dbm                 openpyxl            symtable\n",
      "_socket             decimal             operator            sys\n",
      "_sqlite3            decorator           optparse            sysconfig\n",
      "_sre                defusedxml          os                  syslog\n",
      "_ssl                difflib             osax                tables\n",
      "_stat               dis                 packaging           tabnanny\n",
      "_string             distributed         pandas              tarfile\n",
      "_strptime           distutils           pandocfilters       tblib\n",
      "_struct             doctest             parser              telnetlib\n",
      "_symtable           docutils            parso               tempfile\n",
      "_sysconfigdata_i686_conda_cos6_linux_gnu dummy_threading     partd               terminado\n",
      "_sysconfigdata_m_darwin_darwin easy_install        past                termios\n",
      "_sysconfigdata_powerpc64le_conda_cos7_linux_gnu email               path                test\n",
      "_sysconfigdata_x86_64_apple_darwin13_4_0 encodings           pathlib             test_path\n",
      "_sysconfigdata_x86_64_conda_cos6_linux_gnu ensurepip           pathlib2            test_pycosat\n",
      "_testbuffer         entrypoints         patsy               testpath\n",
      "_testcapi           enum                pdb                 tests\n",
      "_testimportmultiple errno               pep8                textwrap\n",
      "_testmultiphase     et_xmlfile          pexpect             this\n",
      "_thread             exception_examples  pickle              threading\n",
      "_threading_local    exception_user_defined pickleshare         time\n",
      "_tkinter            fastavro            pickletools         timeit\n",
      "_tracemalloc        fastcache           pip                 tkinter\n",
      "_uuid               faulthandler        pipes               tlz\n",
      "_warnings           fcntl               pkg_resources       token\n",
      "_weakref            filecmp             pkginfo             tokenize\n",
      "_weakrefset         fileinput           pkgutil             toolz\n",
      "_xxtestfuzz         filelock            platform            tornado\n",
      "_yaml               flask               plistlib            tqdm\n",
      "abc                 flask_cors          pluggy              trace\n",
      "aem                 fnmatch             ply                 traceback\n",
      "aifc                formatter           poplib              tracemalloc\n",
      "alabaster           fractions           posix               traitlets\n",
      "anaconda_navigator  ftplib              posixpath           tty\n",
      "anaconda_project    functools           pprint              turtle\n",
      "antigravity         future              profile             turtledemo\n",
      "appnope             gc                  prometheus_client   types\n",
      "appscript           genericpath         prompt_toolkit      typing\n",
      "argparse            getopt              pstats              unicodecsv\n",
      "array               getpass             psutil              unicodedata\n",
      "asn1crypto          gettext             pty                 unittest\n",
      "ast                 gevent              ptyprocess          urllib\n",
      "astroid             glob                pwd                 urllib3\n",
      "astropy             glob2               py                  uu\n",
      "asynchat            gmpy2               py_compile          uuid\n",
      "asyncio             greenlet            pyarrow             venv\n",
      "asyncore            grp                 pyclbr              warnings\n",
      "atexit              gzip                pycodestyle         wave\n",
      "atomicwrites        h5py                pycosat             wcwidth\n",
      "attr                hashlib             pycparser           weakref\n",
      "audioop             heapdict            pycurl              webbrowser\n",
      "autoreload          heapq               pydoc               webencodings\n",
      "babel               hmac                pydoc_data          werkzeug\n",
      "backcall            html                pyexpat             wheel\n",
      "backports           html5lib            pyflakes            widgetsnbextension\n",
      "base64              http                pygments            wrapt\n",
      "bdb                 idlelib             pylab               wsgiref\n",
      "binascii            idna                pylint              wurlitzer\n",
      "binhex              imageio             pyodbc              xdrlib\n",
      "binstar_client      imagesize           pyparsing           xlrd\n",
      "bisect              imaplib             pytest              xlsxwriter\n",
      "bitarray            imghdr              pytest_arraydiff    xlwings\n",
      "bkcharts            imp                 pytest_doctestplus  xlwt\n",
      "blaze               importlib           pytest_openfiles    xml\n",
      "bleach              importlib_metadata  pytest_remotedata   xmlrpc\n",
      "bokeh               inspect             pytz                xxlimited\n",
      "boto                io                  pywt                xxsubtype\n",
      "bottleneck          ipaddress           pyximport           yaml\n",
      "brain_argparse      ipykernel           qtawesome           zict\n",
      "brain_attrs         ipykernel_launcher  qtconsole           zipapp\n",
      "brain_builtin_inference ipython_genutils    qtpy                zipfile\n",
      "brain_collections   ipywidgets          queue               zipimport\n",
      "brain_curses        isort               quopri              zlib\n",
      "brain_dateutil      isympy              random              zmq\n",
      "brain_fstrings      itertools           re                  \n",
      "brain_functools     itsdangerous        readline            \n",
      "\n",
      "Enter any module name to get more help.  Or, type \"modules spam\" to search\n",
      "for modules whose name or summary contain the string \"spam\".\n",
      "\n"
     ]
    }
   ],
   "source": [
    "help('modules')  # list all the modules that we can import for this Python"
   ]
  },
  {
   "cell_type": "code",
   "execution_count": 18,
   "metadata": {},
   "outputs": [
    {
     "data": {
      "text/plain": [
       "sys.flags(debug=0, inspect=0, interactive=0, optimize=0, dont_write_bytecode=0, no_user_site=0, no_site=0, ignore_environment=0, verbose=0, bytes_warning=0, quiet=0, hash_randomization=1, isolated=0, dev_mode=False, utf8_mode=0)"
      ]
     },
     "execution_count": 18,
     "metadata": {},
     "output_type": "execute_result"
    }
   ],
   "source": [
    "sys.flags"
   ]
  },
  {
   "cell_type": "code",
   "execution_count": 19,
   "metadata": {},
   "outputs": [
    {
     "data": {
      "text/plain": [
       "'/Users/gyanendrakumar/anaconda3'"
      ]
     },
     "execution_count": 19,
     "metadata": {},
     "output_type": "execute_result"
    }
   ],
   "source": [
    "sys.prefix"
   ]
  },
  {
   "cell_type": "markdown",
   "metadata": {},
   "source": [
    "# OS"
   ]
  },
  {
   "cell_type": "code",
   "execution_count": 20,
   "metadata": {},
   "outputs": [],
   "source": [
    "import os"
   ]
  },
  {
   "cell_type": "code",
   "execution_count": 21,
   "metadata": {},
   "outputs": [
    {
     "data": {
      "text/plain": [
       "'/Users/gyanendrakumar/PycharmProjects/education_DS/Module_4_PythonOnly'"
      ]
     },
     "execution_count": 21,
     "metadata": {},
     "output_type": "execute_result"
    }
   ],
   "source": [
    "os.getcwd()"
   ]
  },
  {
   "cell_type": "code",
   "execution_count": null,
   "metadata": {},
   "outputs": [],
   "source": [
    "#os.chdir()"
   ]
  },
  {
   "cell_type": "code",
   "execution_count": 22,
   "metadata": {},
   "outputs": [],
   "source": [
    "# create a dir\n",
    "os.mkdir('my_dir')"
   ]
  },
  {
   "cell_type": "code",
   "execution_count": 23,
   "metadata": {},
   "outputs": [],
   "source": [
    "# delete a dir\n",
    "os.rmdir('my_dir')"
   ]
  },
  {
   "cell_type": "code",
   "execution_count": 25,
   "metadata": {},
   "outputs": [
    {
     "data": {
      "text/plain": [
       "'/abc/xyz/bb/cc/tt/rr'"
      ]
     },
     "execution_count": 25,
     "metadata": {},
     "output_type": "execute_result"
    }
   ],
   "source": [
    "# joining paths\n",
    "os.path.join('/abc/xyz', 'bb/cc', 'tt/rr')"
   ]
  },
  {
   "cell_type": "code",
   "execution_count": 28,
   "metadata": {},
   "outputs": [
    {
     "data": {
      "text/plain": [
       "'/Users/gyanendrakumar/PycharmProjects/education_DS/Module_4_PythonOnly/hello'"
      ]
     },
     "execution_count": 28,
     "metadata": {},
     "output_type": "execute_result"
    }
   ],
   "source": [
    "# absolute path : full path from the root\n",
    "# relative path: path relative to other\n",
    "\n",
    "os.path.abspath('hello')"
   ]
  },
  {
   "cell_type": "code",
   "execution_count": 30,
   "metadata": {},
   "outputs": [
    {
     "data": {
      "text/plain": [
       "False"
      ]
     },
     "execution_count": 30,
     "metadata": {},
     "output_type": "execute_result"
    }
   ],
   "source": [
    "# check if the path is valid or not\n",
    "os.path.exists('hello/bye')"
   ]
  },
  {
   "cell_type": "code",
   "execution_count": 32,
   "metadata": {},
   "outputs": [
    {
     "data": {
      "text/plain": [
       "('/Users/gyanendrakumar/PycharmProjects/education_DS', 'junk.py')"
      ]
     },
     "execution_count": 32,
     "metadata": {},
     "output_type": "execute_result"
    }
   ],
   "source": [
    "# split\n",
    "os.path.split(\"/Users/gyanendrakumar/PycharmProjects/education_DS/junk.py\")"
   ]
  },
  {
   "cell_type": "code",
   "execution_count": 33,
   "metadata": {},
   "outputs": [
    {
     "name": "stdout",
     "output_type": "stream",
     "text": [
      "/Users/gyanendrakumar/PycharmProjects/education_DS\n",
      "junk.py\n"
     ]
    }
   ],
   "source": [
    "# split\n",
    "dir_name, file_name = os.path.split(\"/Users/gyanendrakumar/PycharmProjects/education_DS/junk.py\")\n",
    "print(dir_name)\n",
    "print(file_name)"
   ]
  },
  {
   "cell_type": "code",
   "execution_count": 34,
   "metadata": {},
   "outputs": [
    {
     "data": {
      "text/plain": [
       "True"
      ]
     },
     "execution_count": 34,
     "metadata": {},
     "output_type": "execute_result"
    }
   ],
   "source": [
    "# check if the path is a directory\n",
    "os.path.isdir('/Users/gyanendrakumar/PycharmProjects/education_DS')"
   ]
  },
  {
   "cell_type": "code",
   "execution_count": 35,
   "metadata": {},
   "outputs": [
    {
     "data": {
      "text/plain": [
       "True"
      ]
     },
     "execution_count": 35,
     "metadata": {},
     "output_type": "execute_result"
    }
   ],
   "source": [
    "os.path.isfile(\"/Users/gyanendrakumar/PycharmProjects/education_DS/junk.py\")"
   ]
  },
  {
   "cell_type": "code",
   "execution_count": 36,
   "metadata": {},
   "outputs": [
    {
     "data": {
      "text/plain": [
       "['march_9th_mod4.ipynb',\n",
       " '5.Regular_expression',\n",
       " 'Batch_12thJan_mod_4.ipynb',\n",
       " 'exception_examples.py',\n",
       " '.ipynb_checkpoints',\n",
       " 'exception_user_defined.py']"
      ]
     },
     "execution_count": 36,
     "metadata": {},
     "output_type": "execute_result"
    }
   ],
   "source": [
    "# list all the files and folders of a directory\n",
    "os.listdir(\"/Users/gyanendrakumar/PycharmProjects/education_DS/Module_4_PythonOnly\")"
   ]
  },
  {
   "cell_type": "code",
   "execution_count": null,
   "metadata": {},
   "outputs": [],
   "source": [
    "#os.walk()"
   ]
  },
  {
   "cell_type": "markdown",
   "metadata": {},
   "source": [
    "# math"
   ]
  },
  {
   "cell_type": "code",
   "execution_count": 37,
   "metadata": {},
   "outputs": [
    {
     "data": {
      "text/plain": [
       "11"
      ]
     },
     "execution_count": 37,
     "metadata": {},
     "output_type": "execute_result"
    }
   ],
   "source": [
    "math.ceil(10.056)"
   ]
  },
  {
   "cell_type": "code",
   "execution_count": 38,
   "metadata": {},
   "outputs": [
    {
     "data": {
      "text/plain": [
       "-20.0"
      ]
     },
     "execution_count": 38,
     "metadata": {},
     "output_type": "execute_result"
    }
   ],
   "source": [
    "math.copysign(20, -1)"
   ]
  },
  {
   "cell_type": "code",
   "execution_count": 39,
   "metadata": {},
   "outputs": [
    {
     "data": {
      "text/plain": [
       "19.78"
      ]
     },
     "execution_count": 39,
     "metadata": {},
     "output_type": "execute_result"
    }
   ],
   "source": [
    "math.fabs(-19.78)"
   ]
  },
  {
   "cell_type": "code",
   "execution_count": 40,
   "metadata": {},
   "outputs": [
    {
     "data": {
      "text/plain": [
       "148.4131591025766"
      ]
     },
     "execution_count": 40,
     "metadata": {},
     "output_type": "execute_result"
    }
   ],
   "source": [
    "math.exp(5)"
   ]
  },
  {
   "cell_type": "code",
   "execution_count": 41,
   "metadata": {},
   "outputs": [
    {
     "data": {
      "text/plain": [
       "148.41315910257657"
      ]
     },
     "execution_count": 41,
     "metadata": {},
     "output_type": "execute_result"
    }
   ],
   "source": [
    "math.e**5"
   ]
  },
  {
   "cell_type": "code",
   "execution_count": 42,
   "metadata": {},
   "outputs": [
    {
     "data": {
      "text/plain": [
       "2.718281828459045"
      ]
     },
     "execution_count": 42,
     "metadata": {},
     "output_type": "execute_result"
    }
   ],
   "source": [
    "math.e"
   ]
  },
  {
   "cell_type": "code",
   "execution_count": 43,
   "metadata": {},
   "outputs": [
    {
     "data": {
      "text/plain": [
       "6.38905609893065"
      ]
     },
     "execution_count": 43,
     "metadata": {},
     "output_type": "execute_result"
    }
   ],
   "source": [
    "math.expm1(2)"
   ]
  },
  {
   "cell_type": "code",
   "execution_count": 44,
   "metadata": {},
   "outputs": [
    {
     "data": {
      "text/plain": [
       "1.0"
      ]
     },
     "execution_count": 44,
     "metadata": {},
     "output_type": "execute_result"
    }
   ],
   "source": [
    "math.log(10,10)"
   ]
  },
  {
   "cell_type": "code",
   "execution_count": 45,
   "metadata": {},
   "outputs": [
    {
     "data": {
      "text/plain": [
       "3.141592653589793"
      ]
     },
     "execution_count": 45,
     "metadata": {},
     "output_type": "execute_result"
    }
   ],
   "source": [
    "math.pi"
   ]
  },
  {
   "cell_type": "markdown",
   "metadata": {},
   "source": [
    "## random"
   ]
  },
  {
   "cell_type": "code",
   "execution_count": 4,
   "metadata": {},
   "outputs": [
    {
     "data": {
      "text/plain": [
       "16"
      ]
     },
     "execution_count": 4,
     "metadata": {},
     "output_type": "execute_result"
    }
   ],
   "source": [
    "#1 random.randrange(start,stop, step)\n",
    "#1.1 random.randrange(stop)\n",
    "import random\n",
    "random.randrange(1, 20, 3) # [1, 4, 7, 10, 13, 16, 19]"
   ]
  },
  {
   "cell_type": "code",
   "execution_count": 5,
   "metadata": {},
   "outputs": [
    {
     "data": {
      "text/plain": [
       "0"
      ]
     },
     "execution_count": 5,
     "metadata": {},
     "output_type": "execute_result"
    }
   ],
   "source": [
    "random.randrange(20)  # [0, 1...19]"
   ]
  },
  {
   "cell_type": "code",
   "execution_count": 6,
   "metadata": {},
   "outputs": [
    {
     "data": {
      "text/plain": [
       "2"
      ]
     },
     "execution_count": 6,
     "metadata": {},
     "output_type": "execute_result"
    }
   ],
   "source": [
    "random.randrange(20)  # [0, 1...19]"
   ]
  },
  {
   "cell_type": "code",
   "execution_count": 7,
   "metadata": {},
   "outputs": [
    {
     "data": {
      "text/plain": [
       "8"
      ]
     },
     "execution_count": 7,
     "metadata": {},
     "output_type": "execute_result"
    }
   ],
   "source": [
    "random.randrange(20)  # [0, 1...19]"
   ]
  },
  {
   "cell_type": "code",
   "execution_count": 23,
   "metadata": {},
   "outputs": [
    {
     "data": {
      "text/plain": [
       "2"
      ]
     },
     "execution_count": 23,
     "metadata": {},
     "output_type": "execute_result"
    }
   ],
   "source": [
    "#2. random.randint(start, stop) it takes only two arguments\n",
    "#it includes stop value also.\n",
    "random.randint(1, 3) # [1,2,3]"
   ]
  },
  {
   "cell_type": "code",
   "execution_count": 26,
   "metadata": {},
   "outputs": [
    {
     "data": {
      "text/plain": [
       "2.4154363851677587"
      ]
     },
     "execution_count": 26,
     "metadata": {},
     "output_type": "execute_result"
    }
   ],
   "source": [
    "#3. random.uniform() returns floating point number between start and stop\n",
    "random.uniform(2, 5)"
   ]
  },
  {
   "cell_type": "markdown",
   "metadata": {},
   "source": [
    "# datetime"
   ]
  },
  {
   "cell_type": "code",
   "execution_count": 28,
   "metadata": {},
   "outputs": [
    {
     "data": {
      "text/plain": [
       "datetime.datetime(2019, 3, 30, 8, 14, 36, 343355)"
      ]
     },
     "execution_count": 28,
     "metadata": {},
     "output_type": "execute_result"
    }
   ],
   "source": [
    "import datetime\n",
    "current = datetime.datetime.today()\n",
    "current"
   ]
  },
  {
   "cell_type": "code",
   "execution_count": 29,
   "metadata": {},
   "outputs": [
    {
     "name": "stdout",
     "output_type": "stream",
     "text": [
      "2019-03-30 08:14:36.343355\n",
      "<class 'datetime.datetime'>\n"
     ]
    }
   ],
   "source": [
    "print(current)\n",
    "print(type(current))"
   ]
  },
  {
   "cell_type": "code",
   "execution_count": 30,
   "metadata": {},
   "outputs": [
    {
     "data": {
      "text/plain": [
       "30"
      ]
     },
     "execution_count": 30,
     "metadata": {},
     "output_type": "execute_result"
    }
   ],
   "source": [
    "current.day"
   ]
  },
  {
   "cell_type": "code",
   "execution_count": 31,
   "metadata": {},
   "outputs": [
    {
     "data": {
      "text/plain": [
       "2019"
      ]
     },
     "execution_count": 31,
     "metadata": {},
     "output_type": "execute_result"
    }
   ],
   "source": [
    "current.year"
   ]
  },
  {
   "cell_type": "code",
   "execution_count": 34,
   "metadata": {},
   "outputs": [
    {
     "name": "stdout",
     "output_type": "stream",
     "text": [
      "2019-03-30 08:19:26.224528\n",
      "2019-03-30 08:19:26.224653\n"
     ]
    }
   ],
   "source": [
    "# alias\n",
    "import datetime as dt\n",
    "print(dt.datetime.now())\n",
    "from datetime import datetime as dt\n",
    "print(dt.now())\n"
   ]
  },
  {
   "cell_type": "code",
   "execution_count": 35,
   "metadata": {},
   "outputs": [
    {
     "data": {
      "text/plain": [
       "datetime.timedelta(days=411, seconds=30106, microseconds=463907)"
      ]
     },
     "execution_count": 35,
     "metadata": {},
     "output_type": "execute_result"
    }
   ],
   "source": [
    "# difference\n",
    "\n",
    "import datetime\n",
    "current = datetime.datetime.now()\n",
    "\n",
    "# creating date on my own\n",
    "mydate = datetime.datetime(2018, 2, 12)\n",
    "diff_date = current - mydate\n",
    "diff_date"
   ]
  },
  {
   "cell_type": "code",
   "execution_count": 36,
   "metadata": {},
   "outputs": [
    {
     "name": "stdout",
     "output_type": "stream",
     "text": [
      "411 days, 8:21:46.463907\n"
     ]
    }
   ],
   "source": [
    "print(diff_date)"
   ]
  },
  {
   "cell_type": "code",
   "execution_count": 37,
   "metadata": {},
   "outputs": [
    {
     "data": {
      "text/plain": [
       "411"
      ]
     },
     "execution_count": 37,
     "metadata": {},
     "output_type": "execute_result"
    }
   ],
   "source": [
    "diff_date.days"
   ]
  },
  {
   "cell_type": "code",
   "execution_count": 38,
   "metadata": {},
   "outputs": [
    {
     "data": {
      "text/plain": [
       "['__abs__',\n",
       " '__add__',\n",
       " '__bool__',\n",
       " '__class__',\n",
       " '__delattr__',\n",
       " '__dir__',\n",
       " '__divmod__',\n",
       " '__doc__',\n",
       " '__eq__',\n",
       " '__floordiv__',\n",
       " '__format__',\n",
       " '__ge__',\n",
       " '__getattribute__',\n",
       " '__gt__',\n",
       " '__hash__',\n",
       " '__init__',\n",
       " '__init_subclass__',\n",
       " '__le__',\n",
       " '__lt__',\n",
       " '__mod__',\n",
       " '__mul__',\n",
       " '__ne__',\n",
       " '__neg__',\n",
       " '__new__',\n",
       " '__pos__',\n",
       " '__radd__',\n",
       " '__rdivmod__',\n",
       " '__reduce__',\n",
       " '__reduce_ex__',\n",
       " '__repr__',\n",
       " '__rfloordiv__',\n",
       " '__rmod__',\n",
       " '__rmul__',\n",
       " '__rsub__',\n",
       " '__rtruediv__',\n",
       " '__setattr__',\n",
       " '__sizeof__',\n",
       " '__str__',\n",
       " '__sub__',\n",
       " '__subclasshook__',\n",
       " '__truediv__',\n",
       " 'days',\n",
       " 'max',\n",
       " 'microseconds',\n",
       " 'min',\n",
       " 'resolution',\n",
       " 'seconds',\n",
       " 'total_seconds']"
      ]
     },
     "execution_count": 38,
     "metadata": {},
     "output_type": "execute_result"
    }
   ],
   "source": [
    "dir(diff_date)"
   ]
  },
  {
   "cell_type": "code",
   "execution_count": 39,
   "metadata": {},
   "outputs": [
    {
     "data": {
      "text/plain": [
       "9999"
      ]
     },
     "execution_count": 39,
     "metadata": {},
     "output_type": "execute_result"
    }
   ],
   "source": [
    "datetime.MAXYEAR"
   ]
  },
  {
   "cell_type": "code",
   "execution_count": 40,
   "metadata": {},
   "outputs": [
    {
     "data": {
      "text/plain": [
       "1"
      ]
     },
     "execution_count": 40,
     "metadata": {},
     "output_type": "execute_result"
    }
   ],
   "source": [
    "datetime.MINYEAR"
   ]
  },
  {
   "cell_type": "code",
   "execution_count": 44,
   "metadata": {},
   "outputs": [
    {
     "data": {
      "text/plain": [
       "'Saturday/30/March'"
      ]
     },
     "execution_count": 44,
     "metadata": {},
     "output_type": "execute_result"
    }
   ],
   "source": [
    "# Datetime formatting\n",
    "# https://docs.python.org/2/library/datetime.html\n",
    "# refer the section: 8.1.7\n",
    "\n",
    "formatter = \"%A/%d/%B\"\n",
    "current = datetime.datetime.today()\n",
    "current.strftime(formatter)"
   ]
  },
  {
   "cell_type": "markdown",
   "metadata": {},
   "source": [
    "# JSON"
   ]
  },
  {
   "cell_type": "code",
   "execution_count": 46,
   "metadata": {},
   "outputs": [
    {
     "name": "stdout",
     "output_type": "stream",
     "text": [
      "<class 'dict'>\n",
      "<class 'str'>\n",
      "{\"name\": \"Python\", \"age\": 28}\n"
     ]
    }
   ],
   "source": [
    "import json\n",
    "data = {\"name\":'Python', 'age':28}\n",
    "print(type(data))\n",
    "json_str = json.dumps(data)\n",
    "print(type(json_str))\n",
    "print(json_str)"
   ]
  },
  {
   "cell_type": "code",
   "execution_count": 47,
   "metadata": {},
   "outputs": [
    {
     "name": "stdout",
     "output_type": "stream",
     "text": [
      "{'name': 'Python', 'age': 28}\n",
      "<class 'dict'>\n"
     ]
    }
   ],
   "source": [
    "# decoding the json to original object\n",
    "original_data = json.loads(json_str)\n",
    "print(original_data)\n",
    "print(type(original_data))"
   ]
  },
  {
   "cell_type": "markdown",
   "metadata": {},
   "source": [
    "## Regular Expression"
   ]
  },
  {
   "cell_type": "code",
   "execution_count": 48,
   "metadata": {},
   "outputs": [
    {
     "data": {
      "text/plain": [
       "'heXXo'"
      ]
     },
     "execution_count": 48,
     "metadata": {},
     "output_type": "execute_result"
    }
   ],
   "source": [
    "\"hello\".replace('l', 'X')"
   ]
  },
  {
   "cell_type": "code",
   "execution_count": 49,
   "metadata": {},
   "outputs": [
    {
     "data": {
      "text/plain": [
       "'he  o'"
      ]
     },
     "execution_count": 49,
     "metadata": {},
     "output_type": "execute_result"
    }
   ],
   "source": [
    "\"hello\".replace('l', ' ')"
   ]
  },
  {
   "cell_type": "code",
   "execution_count": 51,
   "metadata": {},
   "outputs": [],
   "source": [
    "import re"
   ]
  },
  {
   "cell_type": "code",
   "execution_count": 53,
   "metadata": {},
   "outputs": [
    {
     "data": {
      "text/plain": [
       "'*dur*ka rocks'"
      ]
     },
     "execution_count": 53,
     "metadata": {},
     "output_type": "execute_result"
    }
   ],
   "source": [
    "# substitute\n",
    "# re.sub(pattern, replacemen_str, input_str)\n",
    "a = \"education rocks\"\n",
    "re.sub('e', '*', a)  # same as replace"
   ]
  },
  {
   "cell_type": "code",
   "execution_count": 56,
   "metadata": {},
   "outputs": [
    {
     "data": {
      "text/plain": [
       "'abcde abcdef abcdef'"
      ]
     },
     "execution_count": 56,
     "metadata": {},
     "output_type": "execute_result"
    }
   ],
   "source": [
    "re.sub('ad', '*', \"abcde abcdef abcdef\")"
   ]
  },
  {
   "cell_type": "code",
   "execution_count": 57,
   "metadata": {},
   "outputs": [
    {
     "data": {
      "text/plain": [
       "'*bc*e *bc*ef *bc*ef'"
      ]
     },
     "execution_count": 57,
     "metadata": {},
     "output_type": "execute_result"
    }
   ],
   "source": [
    "re.sub('[ad]', '*', \"abcde abcdef abcdef\")"
   ]
  },
  {
   "cell_type": "code",
   "execution_count": 58,
   "metadata": {},
   "outputs": [
    {
     "data": {
      "text/plain": [
       "'***de ***def ***def'"
      ]
     },
     "execution_count": 58,
     "metadata": {},
     "output_type": "execute_result"
    }
   ],
   "source": [
    "# range using '-'\n",
    "re.sub('[a-c]', '*', \"abcde abcdef abcdef\")\n",
    "#[a-c] a or b or c"
   ]
  },
  {
   "cell_type": "code",
   "execution_count": 59,
   "metadata": {},
   "outputs": [
    {
     "data": {
      "text/plain": [
       "'giveittome'"
      ]
     },
     "execution_count": 59,
     "metadata": {},
     "output_type": "execute_result"
    }
   ],
   "source": [
    "#dategiveittome\n",
    "\"dategiveittome\".lstrip('date')"
   ]
  },
  {
   "cell_type": "code",
   "execution_count": 60,
   "metadata": {},
   "outputs": [
    {
     "data": {
      "text/plain": [
       "'* + * + * + d4'"
      ]
     },
     "execution_count": 60,
     "metadata": {},
     "output_type": "execute_result"
    }
   ],
   "source": [
    "re.sub('[abc][123]', '*', 'a1 + b2 + c3 + d4')"
   ]
  },
  {
   "cell_type": "code",
   "execution_count": 61,
   "metadata": {},
   "outputs": [],
   "source": [
    "## metacharacters are the characters that has special meaning"
   ]
  },
  {
   "cell_type": "code",
   "execution_count": 62,
   "metadata": {},
   "outputs": [
    {
     "data": {
      "text/plain": [
       "'* * * * AA*BB'"
      ]
     },
     "execution_count": 62,
     "metadata": {},
     "output_type": "execute_result"
    }
   ],
   "source": [
    "# . dot, it matches every characters except new line\n",
    "re.sub('A.B', '*', 'A2B AXB A$B A&B AAA BBB')"
   ]
  },
  {
   "cell_type": "code",
   "execution_count": 63,
   "metadata": {},
   "outputs": [
    {
     "data": {
      "text/plain": [
       "'my phone number is **********'"
      ]
     },
     "execution_count": 63,
     "metadata": {},
     "output_type": "execute_result"
    }
   ],
   "source": [
    "# \\d : matches single digit\n",
    "\n",
    "re.sub('\\d', '*', 'my phone number is 6364683437')"
   ]
  },
  {
   "cell_type": "code",
   "execution_count": 67,
   "metadata": {},
   "outputs": [
    {
     "name": "stdout",
     "output_type": "stream",
     "text": [
      "<re.Match object; span=(0, 3), match='A2B'>\n",
      "A2B\n"
     ]
    }
   ],
   "source": [
    "# search method returns the first match object\n",
    "# re.search(pattern, input_data)\n",
    "\n",
    "match_obj = re.search('A.B', 'A2B and A3B')\n",
    "print(match_obj)\n",
    "if match_obj:\n",
    "    print(match_obj.group())\n",
    "else:\n",
    "    print(\"no match is there\")"
   ]
  },
  {
   "cell_type": "code",
   "execution_count": 69,
   "metadata": {},
   "outputs": [
    {
     "name": "stdout",
     "output_type": "stream",
     "text": [
      "6\n"
     ]
    }
   ],
   "source": [
    "match_obj = re.search('\\d', 'my number is 6883646489')\n",
    "if match_obj:\n",
    "    print(match_obj.group())\n",
    "else:\n",
    "    print(\"no match is there\")"
   ]
  },
  {
   "cell_type": "code",
   "execution_count": null,
   "metadata": {},
   "outputs": [],
   "source": [
    "# want to make the search greedy use:\n",
    "# 1.   +  means 1 or more continuously\n",
    "# 2.   *  means 0 or more\n",
    "# 3.   ?  means 0 or 1"
   ]
  },
  {
   "cell_type": "code",
   "execution_count": 71,
   "metadata": {},
   "outputs": [
    {
     "name": "stdout",
     "output_type": "stream",
     "text": [
      "6883646489\n"
     ]
    }
   ],
   "source": [
    "match_obj = re.search('\\d+', 'my number is 6883646489 also 872384656')\n",
    "if match_obj:\n",
    "    print(match_obj.group())\n",
    "else:\n",
    "    print(\"no match is there\")"
   ]
  },
  {
   "cell_type": "code",
   "execution_count": 73,
   "metadata": {},
   "outputs": [
    {
     "name": "stdout",
     "output_type": "stream",
     "text": [
      "['6883646489', '872384656', '82374785']\n"
     ]
    }
   ],
   "source": [
    "# re.findall(pattern, input_data) returns a list of all the matches\n",
    "all_matches = re.findall('\\d+', 'my number 6883646489 also 872384656 and 82374785')\n",
    "print(all_matches)\n"
   ]
  },
  {
   "cell_type": "code",
   "execution_count": 82,
   "metadata": {},
   "outputs": [
    {
     "name": "stdout",
     "output_type": "stream",
     "text": [
      "['1234567891', '67523563465', '63645665', '7863456784856', '873474359879', '8748796796']\n"
     ]
    }
   ],
   "source": [
    "# reading all the phone  numbers from the file\n",
    "file_obj = open(r'/Users/gyanendrakumar/PycharmProjects/education_DS/Module_4_PythonOnly/5.Regular_expression/phone_numbers.txt')\n",
    "data = file_obj.read()\n",
    "file_obj.close()\n",
    "all_matches = re.findall('\\d+', data)\n",
    "print(all_matches)"
   ]
  },
  {
   "cell_type": "code",
   "execution_count": 81,
   "metadata": {},
   "outputs": [
    {
     "name": "stdout",
     "output_type": "stream",
     "text": [
      "['1', '2', '3', '4', '5', '6', '7', '8', '9', '1', '6', '7', '5', '2', '3', '5', '6', '3', '4', '6', '5', '6', '3', '6', '4', '5', '6', '6', '5', '7', '8', '6', '3', '4', '5', '6', '7', '8', '4', '8', '5', '6', '8', '7', '3', '4', '7', '4', '3', '5', '9', '8', '7', '9', '8', '7', '4', '8', '7', '9', '6', '7', '9', '6']\n"
     ]
    }
   ],
   "source": [
    "# reading all the phone  numbers from the file\n",
    "file_obj = open(r'/Users/gyanendrakumar/PycharmProjects/education_DS/Module_4_PythonOnly/5.Regular_expression/phone_numbers.txt')\n",
    "data = file_obj.read()\n",
    "file_obj.close()\n",
    "all_matches = re.findall('\\d', data)\n",
    "print(all_matches)"
   ]
  },
  {
   "cell_type": "code",
   "execution_count": 83,
   "metadata": {},
   "outputs": [
    {
     "name": "stdout",
     "output_type": "stream",
     "text": [
      "12762467\n"
     ]
    }
   ],
   "source": [
    "# {m,n}\n",
    "data = \"my data is 123 ,456 56 12762467, 8973854, 9838958672346764 \"\n",
    "# i wish to get numbers having more than 6 digits but less than 10 digits\n",
    "match_obj = re.search('\\d{6,10}', data)\n",
    "if match_obj:\n",
    "    print(match_obj.group())\n",
    "else:\n",
    "    print(\"no match is there\")"
   ]
  },
  {
   "cell_type": "code",
   "execution_count": 84,
   "metadata": {},
   "outputs": [
    {
     "name": "stdout",
     "output_type": "stream",
     "text": [
      "['12762467', '8973854', '9838958672', '346764']\n"
     ]
    }
   ],
   "source": [
    "# {m,n}\n",
    "data = \"my data is 123 ,456 56 12762467, 8973854, 9838958672346764 \"\n",
    "# i wish to get numbers atleast 6 digits but less than 10 digits\n",
    "all_matches = re.findall('\\d{6,10}', data)\n",
    "print(all_matches)\n"
   ]
  },
  {
   "cell_type": "code",
   "execution_count": 86,
   "metadata": {},
   "outputs": [
    {
     "name": "stdout",
     "output_type": "stream",
     "text": [
      "['9123456789', '6123456789']\n"
     ]
    }
   ],
   "source": [
    "phone_numbers = \"number 734 and 98485 and 874587 and 9123456789 and 6123456789\"\n",
    "all_matches = re.findall('\\d{10}', phone_numbers)\n",
    "print(all_matches)\n"
   ]
  },
  {
   "cell_type": "code",
   "execution_count": 100,
   "metadata": {},
   "outputs": [
    {
     "name": "stdout",
     "output_type": "stream",
     "text": [
      "ERROR: connection refused\n",
      "\n",
      "ERROR: connection BINGO denied\n",
      "\n",
      "ERROR: connection aborted BINGO\n",
      "\n",
      "ERRORBINGO\n",
      "\n"
     ]
    }
   ],
   "source": [
    "# extracting ERROR logs from the file\n",
    "fo = open(r'/Users/gyanendrakumar/PycharmProjects/education_DS/Module_4_PythonOnly/5.Regular_expression/hari_log.txt')\n",
    "for line in fo:\n",
    "    match_obj = re.search('^ERROR', line)\n",
    "    if match_obj:\n",
    "        #print(match_obj.group())\n",
    "        print(line)\n",
    "        "
   ]
  },
  {
   "cell_type": "code",
   "execution_count": 101,
   "metadata": {},
   "outputs": [
    {
     "name": "stdout",
     "output_type": "stream",
     "text": [
      "ERROR: connection aborted BINGO\n",
      "\n",
      "ERRORBINGO\n",
      "\n"
     ]
    }
   ],
   "source": [
    "# lines starting with ERROR and ending with BINGO\n",
    "fo = open(r'/Users/gyanendrakumar/PycharmProjects/education_DS/Module_4_PythonOnly/5.Regular_expression/hari_log.txt')\n",
    "for line in fo:\n",
    "    match_obj = re.search('^ERROR.*BINGO$', line)\n",
    "    if match_obj:\n",
    "        #print(match_obj.group())\n",
    "        print(line)"
   ]
  },
  {
   "cell_type": "code",
   "execution_count": null,
   "metadata": {},
   "outputs": [],
   "source": [
    "# + means 1 or more\n",
    "# * means 0 or more"
   ]
  },
  {
   "cell_type": "code",
   "execution_count": 102,
   "metadata": {},
   "outputs": [
    {
     "name": "stdout",
     "output_type": "stream",
     "text": [
      "<re.Match object; span=(6, 10), match='1234'>\n",
      "None\n"
     ]
    }
   ],
   "source": [
    "# search vs match\n",
    "print(re.search('\\d+', 'hello 1234'))\n",
    "print(re.match('\\d+', 'hello 1234'))"
   ]
  },
  {
   "cell_type": "code",
   "execution_count": 103,
   "metadata": {},
   "outputs": [
    {
     "name": "stdout",
     "output_type": "stream",
     "text": [
      "['gyan123@gmail.com', 'education_12@gmail.com']\n"
     ]
    }
   ],
   "source": [
    "# get valid gmail IDs\n",
    "import re\n",
    "file_path = r'/Users/gyanendrakumar/PycharmProjects/education_DS/Module_4_PythonOnly/5.Regular_expression/emails.txt'\n",
    "with open(file_path, 'r') as fo:\n",
    "    pattern = '[a-zA-Z]+[_0-9]+@gmail.com'\n",
    "    correct_emails = re.findall(pattern, fo.read())\n",
    "    print(correct_emails)\n"
   ]
  },
  {
   "cell_type": "markdown",
   "metadata": {},
   "source": [
    "# Exception handling"
   ]
  },
  {
   "cell_type": "code",
   "execution_count": 105,
   "metadata": {},
   "outputs": [
    {
     "name": "stdout",
     "output_type": "stream",
     "text": [
      "enter a list123\n"
     ]
    },
    {
     "ename": "AttributeError",
     "evalue": "'int' object has no attribute 'append'",
     "output_type": "error",
     "traceback": [
      "\u001b[0;31m---------------------------------------------------------------------------\u001b[0m",
      "\u001b[0;31mAttributeError\u001b[0m                            Traceback (most recent call last)",
      "\u001b[0;32m<ipython-input-105-63cab93c29ea>\u001b[0m in \u001b[0;36m<module>\u001b[0;34m\u001b[0m\n\u001b[1;32m      1\u001b[0m \u001b[0ma\u001b[0m \u001b[0;34m=\u001b[0m \u001b[0meval\u001b[0m\u001b[0;34m(\u001b[0m\u001b[0minput\u001b[0m\u001b[0;34m(\u001b[0m\u001b[0;34m\"enter a list\"\u001b[0m\u001b[0;34m)\u001b[0m\u001b[0;34m)\u001b[0m\u001b[0;34m\u001b[0m\u001b[0;34m\u001b[0m\u001b[0m\n\u001b[0;32m----> 2\u001b[0;31m \u001b[0ma\u001b[0m\u001b[0;34m.\u001b[0m\u001b[0mappend\u001b[0m\u001b[0;34m(\u001b[0m\u001b[0;36m100\u001b[0m\u001b[0;34m)\u001b[0m\u001b[0;34m\u001b[0m\u001b[0;34m\u001b[0m\u001b[0m\n\u001b[0m\u001b[1;32m      3\u001b[0m \u001b[0mprint\u001b[0m\u001b[0;34m(\u001b[0m\u001b[0ma\u001b[0m\u001b[0;34m)\u001b[0m\u001b[0;34m\u001b[0m\u001b[0;34m\u001b[0m\u001b[0m\n\u001b[1;32m      4\u001b[0m \u001b[0mprint\u001b[0m\u001b[0;34m(\u001b[0m\u001b[0;34m\"hello\"\u001b[0m\u001b[0;34m)\u001b[0m\u001b[0;34m\u001b[0m\u001b[0;34m\u001b[0m\u001b[0m\n\u001b[1;32m      5\u001b[0m \u001b[0;34m\u001b[0m\u001b[0m\n",
      "\u001b[0;31mAttributeError\u001b[0m: 'int' object has no attribute 'append'"
     ]
    }
   ],
   "source": [
    "a = eval(input(\"enter a list\"))\n",
    "a.append(100)\n",
    "print(a)\n",
    "print(\"hello\")\n",
    "\n"
   ]
  },
  {
   "cell_type": "code",
   "execution_count": 106,
   "metadata": {},
   "outputs": [
    {
     "ename": "ZeroDivisionError",
     "evalue": "division by zero",
     "output_type": "error",
     "traceback": [
      "\u001b[0;31m---------------------------------------------------------------------------\u001b[0m",
      "\u001b[0;31mZeroDivisionError\u001b[0m                         Traceback (most recent call last)",
      "\u001b[0;32m<ipython-input-106-2b5ede8a7c1a>\u001b[0m in \u001b[0;36m<module>\u001b[0;34m\u001b[0m\n\u001b[1;32m      1\u001b[0m \u001b[0ma\u001b[0m \u001b[0;34m=\u001b[0m \u001b[0;36m12\u001b[0m\u001b[0;34m\u001b[0m\u001b[0;34m\u001b[0m\u001b[0m\n\u001b[0;32m----> 2\u001b[0;31m \u001b[0;36m12\u001b[0m\u001b[0;34m/\u001b[0m\u001b[0;36m0\u001b[0m\u001b[0;34m\u001b[0m\u001b[0;34m\u001b[0m\u001b[0m\n\u001b[0m",
      "\u001b[0;31mZeroDivisionError\u001b[0m: division by zero"
     ]
    }
   ],
   "source": [
    "a = 12\n",
    "12/0"
   ]
  },
  {
   "cell_type": "code",
   "execution_count": 107,
   "metadata": {},
   "outputs": [
    {
     "ename": "TypeError",
     "evalue": "can only concatenate str (not \"int\") to str",
     "output_type": "error",
     "traceback": [
      "\u001b[0;31m---------------------------------------------------------------------------\u001b[0m",
      "\u001b[0;31mTypeError\u001b[0m                                 Traceback (most recent call last)",
      "\u001b[0;32m<ipython-input-107-f46c3f655b22>\u001b[0m in \u001b[0;36m<module>\u001b[0;34m\u001b[0m\n\u001b[0;32m----> 1\u001b[0;31m \u001b[0;34m\"hell0\"\u001b[0m \u001b[0;34m+\u001b[0m \u001b[0;36m12\u001b[0m\u001b[0;34m\u001b[0m\u001b[0;34m\u001b[0m\u001b[0m\n\u001b[0m",
      "\u001b[0;31mTypeError\u001b[0m: can only concatenate str (not \"int\") to str"
     ]
    }
   ],
   "source": [
    "\"hell0\" + 12\n"
   ]
  },
  {
   "cell_type": "code",
   "execution_count": 108,
   "metadata": {},
   "outputs": [
    {
     "name": "stdout",
     "output_type": "stream",
     "text": [
      "enter a list123\n",
      "entered value is not a list\n",
      "123\n",
      "hello\n"
     ]
    }
   ],
   "source": [
    "# handling the exception\n",
    "try:\n",
    "    a = eval(input(\"enter a list:\"))\n",
    "    a.append(100)\n",
    "except AttributeError:\n",
    "    print(\"entered value is not a list\")\n",
    "\n",
    "print(a)\n",
    "print(\"hello\")\n",
    "    "
   ]
  },
  {
   "cell_type": "code",
   "execution_count": 109,
   "metadata": {},
   "outputs": [
    {
     "name": "stdout",
     "output_type": "stream",
     "text": [
      "enter a list:[1,2,3]\n",
      "not supported\n",
      "[1, 2, 3, 100]\n",
      "hello\n"
     ]
    }
   ],
   "source": [
    "# handling the exception\n",
    "try:\n",
    "    a = eval(input(\"enter a list:\"))\n",
    "    a.append(100)\n",
    "    b = 12/a\n",
    "except AttributeError:\n",
    "    print(\"entered value is not a list\")\n",
    "\n",
    "except TypeError:\n",
    "    print(\"not supported\")\n",
    "print(a)\n",
    "print(\"hello\")\n",
    "    "
   ]
  },
  {
   "cell_type": "code",
   "execution_count": 110,
   "metadata": {},
   "outputs": [
    {
     "name": "stdout",
     "output_type": "stream",
     "text": [
      "enter a list:[1,2,3]\n",
      "not supported\n"
     ]
    }
   ],
   "source": [
    "# else would be executed used when no error is there in the try block.\n",
    "# handling the exception\n",
    "try:\n",
    "    a = eval(input(\"enter a list:\"))\n",
    "    a.append(100)\n",
    "    b = 12/a\n",
    "except AttributeError:\n",
    "    print(\"entered value is not a list\")\n",
    "\n",
    "except TypeError:\n",
    "    print(\"not supported\")\n",
    "else:\n",
    "    print(a)\n",
    "    print(\"hello\")\n",
    "    "
   ]
  },
  {
   "cell_type": "code",
   "execution_count": 111,
   "metadata": {},
   "outputs": [
    {
     "name": "stdout",
     "output_type": "stream",
     "text": [
      "enter a list:[1,2,3]\n",
      "[1, 2, 3, 100]\n",
      "hello\n"
     ]
    }
   ],
   "source": [
    "# else would be executed used when no error is there in the try block.\n",
    "# handling the exception\n",
    "try:\n",
    "    a = eval(input(\"enter a list:\"))\n",
    "    a.append(100)\n",
    "    #b = 12/a\n",
    "except AttributeError:\n",
    "    print(\"entered value is not a list\")\n",
    "\n",
    "except TypeError:\n",
    "    print(\"not supported\")\n",
    "else:\n",
    "    print(a)\n",
    "    print(\"hello\")\n",
    "    "
   ]
  },
  {
   "cell_type": "code",
   "execution_count": 113,
   "metadata": {},
   "outputs": [
    {
     "name": "stdout",
     "output_type": "stream",
     "text": [
      "executed all the times\n"
     ]
    }
   ],
   "source": [
    "# finally is exceuted all the times\n",
    "\n",
    "try:\n",
    "    #a = 12 + \"hello\"\n",
    "    a = 12 + 13\n",
    "\n",
    "except TypeError:\n",
    "    print(\"OOps\")\n",
    "finally:\n",
    "    print(\"executed all the times\")\n",
    "    "
   ]
  },
  {
   "cell_type": "code",
   "execution_count": 117,
   "metadata": {},
   "outputs": [
    {
     "name": "stdout",
     "output_type": "stream",
     "text": [
      "<class 'IndexError'>\n",
      "list index out of range\n",
      "<traceback object at 0x10408f9c8>\n"
     ]
    }
   ],
   "source": [
    "#1. catching(or handling) all the exceptions\n",
    "import sys\n",
    "\n",
    "try:\n",
    "    a = [1,2,2]\n",
    "    a[1000]\n",
    "\n",
    "except: # this captures all the exception\n",
    "    a,b,c = sys.exc_info()\n",
    "    print(a)\n",
    "    print(b)\n",
    "    print(c)\n",
    "    "
   ]
  },
  {
   "cell_type": "code",
   "execution_count": 120,
   "metadata": {},
   "outputs": [
    {
     "name": "stdout",
     "output_type": "stream",
     "text": [
      "<class 'TypeError'>\n",
      "can only concatenate list (not \"tuple\") to list\n",
      "<traceback object at 0x103292508>\n"
     ]
    }
   ],
   "source": [
    "#2. catching(or handling) all the exceptions\n",
    "import sys\n",
    "\n",
    "try:\n",
    "    a = [1,2,2]\n",
    "    a + (1,2)\n",
    "except IndexError:\n",
    "    print(\"Bingo\")\n",
    "except KeyError:\n",
    "    print(\"hello\")\n",
    "except: # this captures all the exception\n",
    "    a,b,c = sys.exc_info()\n",
    "    print(a)\n",
    "    print(b)\n",
    "    print(c)\n",
    "    "
   ]
  },
  {
   "cell_type": "markdown",
   "metadata": {},
   "source": [
    "# user defined exception"
   ]
  },
  {
   "cell_type": "code",
   "execution_count": 123,
   "metadata": {},
   "outputs": [
    {
     "name": "stdout",
     "output_type": "stream",
     "text": [
      "Enter a list:123\n",
      "Wrong value entered by the user\n",
      "(<class '__main__.WrongValue'>, WrongValue('Only list value is allowed'), <traceback object at 0x103c93d88>)\n"
     ]
    }
   ],
   "source": [
    "\n",
    "import sys\n",
    "\n",
    "class WrongValue(Exception):\n",
    "    pass\n",
    "\n",
    "\n",
    "val = input(\"Enter a list:\")\n",
    "val = eval(val)\n",
    "try:\n",
    "    if not isinstance(val, list):\n",
    "        raise WrongValue(\"Only list value is allowed\")\n",
    "        # raise keyword raises the exception\n",
    "    val.append(\"education rocks\")  # this works with list object only.\n",
    "    print(val)\n",
    "except WrongValue:\n",
    "    print(\"Wrong value entered by the user\")\n",
    "    print(sys.exc_info())"
   ]
  },
  {
   "cell_type": "code",
   "execution_count": 122,
   "metadata": {},
   "outputs": [
    {
     "name": "stdout",
     "output_type": "stream",
     "text": [
      "Enter a list:123\n"
     ]
    },
    {
     "ename": "AttributeError",
     "evalue": "'int' object has no attribute 'append'",
     "output_type": "error",
     "traceback": [
      "\u001b[0;31m---------------------------------------------------------------------------\u001b[0m",
      "\u001b[0;31mAttributeError\u001b[0m                            Traceback (most recent call last)",
      "\u001b[0;32m<ipython-input-122-5c40dcc48159>\u001b[0m in \u001b[0;36m<module>\u001b[0;34m\u001b[0m\n\u001b[1;32m      4\u001b[0m \u001b[0;34m\u001b[0m\u001b[0m\n\u001b[1;32m      5\u001b[0m \u001b[0mval\u001b[0m \u001b[0;34m=\u001b[0m \u001b[0meval\u001b[0m\u001b[0;34m(\u001b[0m\u001b[0minput\u001b[0m\u001b[0;34m(\u001b[0m\u001b[0;34m\"Enter a list:\"\u001b[0m\u001b[0;34m)\u001b[0m\u001b[0;34m)\u001b[0m\u001b[0;34m\u001b[0m\u001b[0;34m\u001b[0m\u001b[0m\n\u001b[0;32m----> 6\u001b[0;31m \u001b[0mval\u001b[0m\u001b[0;34m.\u001b[0m\u001b[0mappend\u001b[0m\u001b[0;34m(\u001b[0m\u001b[0;34m\"education rocks\"\u001b[0m\u001b[0;34m)\u001b[0m  \u001b[0;31m# this works with list object only.\u001b[0m\u001b[0;34m\u001b[0m\u001b[0;34m\u001b[0m\u001b[0m\n\u001b[0m\u001b[1;32m      7\u001b[0m \u001b[0mprint\u001b[0m\u001b[0;34m(\u001b[0m\u001b[0mval\u001b[0m\u001b[0;34m)\u001b[0m\u001b[0;34m\u001b[0m\u001b[0;34m\u001b[0m\u001b[0m\n",
      "\u001b[0;31mAttributeError\u001b[0m: 'int' object has no attribute 'append'"
     ]
    }
   ],
   "source": [
    "\n",
    "import sys\n",
    "\n",
    "\n",
    "val = eval(input(\"Enter a list:\"))\n",
    "val.append(\"education rocks\")  # this works with list object only.\n",
    "print(val)\n"
   ]
  },
  {
   "cell_type": "code",
   "execution_count": null,
   "metadata": {},
   "outputs": [],
   "source": []
  }
 ],
 "metadata": {
  "kernelspec": {
   "display_name": "Python 3",
   "language": "python",
   "name": "python3"
  },
  "language_info": {
   "codemirror_mode": {
    "name": "ipython",
    "version": 3
   },
   "file_extension": ".py",
   "mimetype": "text/x-python",
   "name": "python",
   "nbconvert_exporter": "python",
   "pygments_lexer": "ipython3",
   "version": "3.7.1"
  }
 },
 "nbformat": 4,
 "nbformat_minor": 2
}
