{
 "cells": [
  {
   "cell_type": "markdown",
   "metadata": {},
   "source": [
    "# Working with modules and exceptions"
   ]
  },
  {
   "cell_type": "code",
   "execution_count": 1,
   "metadata": {},
   "outputs": [],
   "source": [
    "import math"
   ]
  },
  {
   "cell_type": "code",
   "execution_count": 2,
   "metadata": {},
   "outputs": [
    {
     "data": {
      "text/plain": [
       "2.0"
      ]
     },
     "execution_count": 2,
     "metadata": {},
     "output_type": "execute_result"
    }
   ],
   "source": [
    "math.sqrt(4)"
   ]
  },
  {
   "cell_type": "code",
   "execution_count": 3,
   "metadata": {},
   "outputs": [
    {
     "data": {
      "text/plain": [
       "['__doc__',\n",
       " '__file__',\n",
       " '__loader__',\n",
       " '__name__',\n",
       " '__package__',\n",
       " '__spec__',\n",
       " 'acos',\n",
       " 'acosh',\n",
       " 'asin',\n",
       " 'asinh',\n",
       " 'atan',\n",
       " 'atan2',\n",
       " 'atanh',\n",
       " 'ceil',\n",
       " 'copysign',\n",
       " 'cos',\n",
       " 'cosh',\n",
       " 'degrees',\n",
       " 'e',\n",
       " 'erf',\n",
       " 'erfc',\n",
       " 'exp',\n",
       " 'expm1',\n",
       " 'fabs',\n",
       " 'factorial',\n",
       " 'floor',\n",
       " 'fmod',\n",
       " 'frexp',\n",
       " 'fsum',\n",
       " 'gamma',\n",
       " 'gcd',\n",
       " 'hypot',\n",
       " 'inf',\n",
       " 'isclose',\n",
       " 'isfinite',\n",
       " 'isinf',\n",
       " 'isnan',\n",
       " 'ldexp',\n",
       " 'lgamma',\n",
       " 'log',\n",
       " 'log10',\n",
       " 'log1p',\n",
       " 'log2',\n",
       " 'modf',\n",
       " 'nan',\n",
       " 'pi',\n",
       " 'pow',\n",
       " 'radians',\n",
       " 'remainder',\n",
       " 'sin',\n",
       " 'sinh',\n",
       " 'sqrt',\n",
       " 'tan',\n",
       " 'tanh',\n",
       " 'tau',\n",
       " 'trunc']"
      ]
     },
     "execution_count": 3,
     "metadata": {},
     "output_type": "execute_result"
    }
   ],
   "source": [
    "# find all the methods of module\n",
    "dir(math)"
   ]
  },
  {
   "cell_type": "markdown",
   "metadata": {},
   "source": [
    "# Different types of import\n",
    "- 1. Full import : import module_name   this imports everything from that module and we need to use the module_name to access anything ex: math.sqrt(4)\n",
    "- 2. Specific import: from module_name import specifc_thing_to_be_import ex : from math import sqrt ..now only sqrt has been imported and you don't need the module_name to access the specific method imported\n",
    "- 3. importing with an alias : import pandas as pd\n",
    "- 4. from math import *   this importst everthing and you don't have to use module_name to access the things imported."
   ]
  },
  {
   "cell_type": "code",
   "execution_count": 5,
   "metadata": {},
   "outputs": [
    {
     "name": "stdout",
     "output_type": "stream",
     "text": [
      "2.0\n",
      "2.718281828459045\n"
     ]
    }
   ],
   "source": [
    "# 1\n",
    "import math\n",
    "print(math.sqrt(4))\n",
    "print(math.e)"
   ]
  },
  {
   "cell_type": "code",
   "execution_count": 6,
   "metadata": {},
   "outputs": [
    {
     "data": {
      "text/plain": [
       "3.0"
      ]
     },
     "execution_count": 6,
     "metadata": {},
     "output_type": "execute_result"
    }
   ],
   "source": [
    "#2\n",
    "from math import sqrt\n",
    "sqrt(9)"
   ]
  },
  {
   "cell_type": "code",
   "execution_count": 7,
   "metadata": {},
   "outputs": [
    {
     "ename": "NameError",
     "evalue": "name 'e' is not defined",
     "output_type": "error",
     "traceback": [
      "\u001b[0;31m---------------------------------------------------------------------------\u001b[0m",
      "\u001b[0;31mNameError\u001b[0m                                 Traceback (most recent call last)",
      "\u001b[0;32m<ipython-input-7-094e3afb2fe8>\u001b[0m in \u001b[0;36m<module>\u001b[0;34m\u001b[0m\n\u001b[0;32m----> 1\u001b[0;31m \u001b[0me\u001b[0m\u001b[0;34m\u001b[0m\u001b[0;34m\u001b[0m\u001b[0m\n\u001b[0m",
      "\u001b[0;31mNameError\u001b[0m: name 'e' is not defined"
     ]
    }
   ],
   "source": [
    "e"
   ]
  },
  {
   "cell_type": "code",
   "execution_count": 8,
   "metadata": {},
   "outputs": [
    {
     "name": "stdout",
     "output_type": "stream",
     "text": [
      "3.1622776601683795\n",
      "2.718281828459045\n"
     ]
    }
   ],
   "source": [
    "#2.1\n",
    "from math import sqrt, e\n",
    "print(sqrt(10))\n",
    "print(e)"
   ]
  },
  {
   "cell_type": "code",
   "execution_count": 9,
   "metadata": {},
   "outputs": [
    {
     "data": {
      "text/plain": [
       "4.358898943540674"
      ]
     },
     "execution_count": 9,
     "metadata": {},
     "output_type": "execute_result"
    }
   ],
   "source": [
    "#3\n",
    "import math as mt\n",
    "mt.sqrt(19)"
   ]
  },
  {
   "cell_type": "code",
   "execution_count": 10,
   "metadata": {},
   "outputs": [
    {
     "name": "stdout",
     "output_type": "stream",
     "text": [
      "4.358898943540674\n",
      "2.718281828459045\n"
     ]
    }
   ],
   "source": [
    "#4\n",
    "from math import *  # same as import math\n",
    "print(sqrt(19))\n",
    "print(e)"
   ]
  },
  {
   "cell_type": "markdown",
   "metadata": {},
   "source": [
    "# sys"
   ]
  },
  {
   "cell_type": "code",
   "execution_count": null,
   "metadata": {},
   "outputs": [],
   "source": [
    "#sys.argv"
   ]
  },
  {
   "cell_type": "code",
   "execution_count": 12,
   "metadata": {},
   "outputs": [
    {
     "name": "stdout",
     "output_type": "stream",
     "text": [
      "enter your age:12\n",
      "come back next year\n"
     ]
    }
   ],
   "source": [
    "import sys\n",
    "age = eval(input(\"enter your age:\"))\n",
    "if not isinstance(age, int):\n",
    "    print(\"Age is not a number\")\n",
    "    sys.exit(-1)\n",
    "if age >= 18:\n",
    "    print(\"Vote\")\n",
    "else:\n",
    "    print(\"come back next year\")\n",
    "    "
   ]
  },
  {
   "cell_type": "code",
   "execution_count": 14,
   "metadata": {},
   "outputs": [
    {
     "data": {
      "text/plain": [
       "['__breakpointhook__',\n",
       " '__displayhook__',\n",
       " '__doc__',\n",
       " '__excepthook__',\n",
       " '__interactivehook__',\n",
       " '__loader__',\n",
       " '__name__',\n",
       " '__package__',\n",
       " '__spec__',\n",
       " '__stderr__',\n",
       " '__stdin__',\n",
       " '__stdout__',\n",
       " '_clear_type_cache',\n",
       " '_current_frames',\n",
       " '_debugmallocstats',\n",
       " '_framework',\n",
       " '_getframe',\n",
       " '_git',\n",
       " '_home',\n",
       " '_xoptions',\n",
       " 'abiflags',\n",
       " 'api_version',\n",
       " 'argv',\n",
       " 'base_exec_prefix',\n",
       " 'base_prefix',\n",
       " 'breakpointhook',\n",
       " 'builtin_module_names',\n",
       " 'byteorder',\n",
       " 'call_tracing',\n",
       " 'callstats',\n",
       " 'copyright',\n",
       " 'displayhook',\n",
       " 'dont_write_bytecode',\n",
       " 'exc_info',\n",
       " 'excepthook',\n",
       " 'exec_prefix',\n",
       " 'executable',\n",
       " 'exit',\n",
       " 'flags',\n",
       " 'float_info',\n",
       " 'float_repr_style',\n",
       " 'get_asyncgen_hooks',\n",
       " 'get_coroutine_origin_tracking_depth',\n",
       " 'get_coroutine_wrapper',\n",
       " 'getallocatedblocks',\n",
       " 'getcheckinterval',\n",
       " 'getdefaultencoding',\n",
       " 'getdlopenflags',\n",
       " 'getfilesystemencodeerrors',\n",
       " 'getfilesystemencoding',\n",
       " 'getprofile',\n",
       " 'getrecursionlimit',\n",
       " 'getrefcount',\n",
       " 'getsizeof',\n",
       " 'getswitchinterval',\n",
       " 'gettrace',\n",
       " 'hash_info',\n",
       " 'hexversion',\n",
       " 'implementation',\n",
       " 'int_info',\n",
       " 'intern',\n",
       " 'is_finalizing',\n",
       " 'last_traceback',\n",
       " 'last_type',\n",
       " 'last_value',\n",
       " 'maxsize',\n",
       " 'maxunicode',\n",
       " 'meta_path',\n",
       " 'modules',\n",
       " 'path',\n",
       " 'path_hooks',\n",
       " 'path_importer_cache',\n",
       " 'platform',\n",
       " 'prefix',\n",
       " 'ps1',\n",
       " 'ps2',\n",
       " 'ps3',\n",
       " 'set_asyncgen_hooks',\n",
       " 'set_coroutine_origin_tracking_depth',\n",
       " 'set_coroutine_wrapper',\n",
       " 'setcheckinterval',\n",
       " 'setdlopenflags',\n",
       " 'setprofile',\n",
       " 'setrecursionlimit',\n",
       " 'setswitchinterval',\n",
       " 'settrace',\n",
       " 'stderr',\n",
       " 'stdin',\n",
       " 'stdout',\n",
       " 'thread_info',\n",
       " 'version',\n",
       " 'version_info',\n",
       " 'warnoptions']"
      ]
     },
     "execution_count": 14,
     "metadata": {},
     "output_type": "execute_result"
    }
   ],
   "source": [
    "dir(sys)"
   ]
  },
  {
   "cell_type": "code",
   "execution_count": 15,
   "metadata": {},
   "outputs": [
    {
     "data": {
      "text/plain": [
       "'3.7.1 (default, Dec 14 2018, 13:28:58) \\n[Clang 4.0.1 (tags/RELEASE_401/final)]'"
      ]
     },
     "execution_count": 15,
     "metadata": {},
     "output_type": "execute_result"
    }
   ],
   "source": [
    "sys.version"
   ]
  },
  {
   "cell_type": "code",
   "execution_count": 17,
   "metadata": {},
   "outputs": [
    {
     "name": "stdout",
     "output_type": "stream",
     "text": [
      "\n",
      "Please wait a moment while I gather a list of all available modules...\n",
      "\n",
      "Crypto              brain_gi            jdcal               reprlib\n",
      "Cython              brain_hashlib       jedi                requests\n",
      "IPython             brain_io            jinja2              resource\n",
      "OpenSSL             brain_mechanize     json                rlcompleter\n",
      "PIL                 brain_multiprocessing jsonschema          rmagic\n",
      "PyQt5               brain_namedtuple_enum jupyter             rope\n",
      "__future__          brain_nose          jupyter_client      ruamel_yaml\n",
      "_abc                brain_numpy         jupyter_console     runpy\n",
      "_ast                brain_pkg_resources jupyter_core        sched\n",
      "_asyncio            brain_pytest        jupyterlab          scipy\n",
      "_bisect             brain_qt            jupyterlab_server   scripts\n",
      "_blake2             brain_random        keyring             seaborn\n",
      "_bootlocale         brain_re            keyword             secrets\n",
      "_bz2                brain_six           kiwisolver          select\n",
      "_cffi_backend       brain_ssl           lazy_object_proxy   selectors\n",
      "_codecs             brain_subprocess    lib2to3             send2trash\n",
      "_codecs_cn          brain_threading     libarchive          setuptools\n",
      "_codecs_hk          brain_typing        libfuturize         shelve\n",
      "_codecs_iso2022     brain_uuid          libpasteurize       shlex\n",
      "_codecs_jp          bs4                 lief                shutil\n",
      "_codecs_kr          builtins            linecache           signal\n",
      "_codecs_tw          bz2                 llvmlite            simplegeneric\n",
      "_collections        cProfile            locale              singledispatch\n",
      "_collections_abc    calendar            locket              singledispatch_helpers\n",
      "_compat_pickle      certifi             logging             sip\n",
      "_compression        cffi                lxml                sipconfig\n",
      "_contextvars        cgi                 lzma                sipdistutils\n",
      "_crypt              cgitb               macpath             site\n",
      "_csv                chardet             mactypes            six\n",
      "_ctypes             chunk               mailbox             skimage\n",
      "_ctypes_test        click               mailcap             sklearn\n",
      "_curses             cloudpickle         markupsafe          smtpd\n",
      "_curses_panel       clyent              marshal             smtplib\n",
      "_datetime           cmath               math                sndhdr\n",
      "_dbm                cmd                 matplotlib          snowballstemmer\n",
      "_decimal            code                mccabe              socket\n",
      "_dummy_thread       codecs              mimetypes           socketserver\n",
      "_elementtree        codeop              mistune             socks\n",
      "_functools          collections         mkl                 sockshandler\n",
      "_hashlib            colorama            mkl_fft             sortedcollections\n",
      "_heapq              colorsys            mkl_random          sortedcontainers\n",
      "_imp                compileall          mlxtend             sphinx\n",
      "_io                 concurrent          mmap                sphinxcontrib\n",
      "_json               conda               modulefinder        sphinxify\n",
      "_locale             conda_build         more_itertools      spyder\n",
      "_lsprof             conda_env           mpmath              spyder_breakpoints\n",
      "_lzma               conda_verify        msgpack             spyder_io_dcm\n",
      "_markupbase         conf                multipledispatch    spyder_io_hdf5\n",
      "_md5                configparser        multiprocessing     spyder_kernels\n",
      "_multibytecodec     contextlib          navigator_updater   spyder_profiler\n",
      "_multiprocessing    contextlib2         nbconvert           spyder_pylint\n",
      "_opcode             contextvars         nbformat            sqlalchemy\n",
      "_operator           copy                netrc               sqlite3\n",
      "_osx_support        copyreg             networkx            sre_compile\n",
      "_pickle             crypt               nis                 sre_constants\n",
      "_posixsubprocess    cryptography        nltk                sre_parse\n",
      "_py_abc             csv                 nntplib             ssl\n",
      "_pydecimal          ctypes              nose                stat\n",
      "_pyio               curl                notebook            statistics\n",
      "_pylief             curses              ntpath              statsmodels\n",
      "_pytest             cycler              nturl2path          storemagic\n",
      "_queue              cython              numba               string\n",
      "_random             cythonmagic         numbers             stringprep\n",
      "_scproxy            cytoolz             numexpr             struct\n",
      "_sha1               dask                numpy               subprocess\n",
      "_sha256             dataclasses         numpydoc            sunau\n",
      "_sha3               datashape           odo                 symbol\n",
      "_sha512             datetime            olefile             sympy\n",
      "_signal             dateutil            opcode              sympyprinting\n",
      "_sitebuiltins       dbm                 openpyxl            symtable\n",
      "_socket             decimal             operator            sys\n",
      "_sqlite3            decorator           optparse            sysconfig\n",
      "_sre                defusedxml          os                  syslog\n",
      "_ssl                difflib             osax                tables\n",
      "_stat               dis                 packaging           tabnanny\n",
      "_string             distributed         pandas              tarfile\n",
      "_strptime           distutils           pandocfilters       tblib\n",
      "_struct             doctest             parser              telnetlib\n",
      "_symtable           docutils            parso               tempfile\n",
      "_sysconfigdata_i686_conda_cos6_linux_gnu dummy_threading     partd               terminado\n",
      "_sysconfigdata_m_darwin_darwin easy_install        past                termios\n",
      "_sysconfigdata_powerpc64le_conda_cos7_linux_gnu email               path                test\n",
      "_sysconfigdata_x86_64_apple_darwin13_4_0 encodings           pathlib             test_path\n",
      "_sysconfigdata_x86_64_conda_cos6_linux_gnu ensurepip           pathlib2            test_pycosat\n",
      "_testbuffer         entrypoints         patsy               testpath\n",
      "_testcapi           enum                pdb                 tests\n",
      "_testimportmultiple errno               pep8                textwrap\n",
      "_testmultiphase     et_xmlfile          pexpect             this\n",
      "_thread             exception_examples  pickle              threading\n",
      "_threading_local    exception_user_defined pickleshare         time\n",
      "_tkinter            fastavro            pickletools         timeit\n",
      "_tracemalloc        fastcache           pip                 tkinter\n",
      "_uuid               faulthandler        pipes               tlz\n",
      "_warnings           fcntl               pkg_resources       token\n",
      "_weakref            filecmp             pkginfo             tokenize\n",
      "_weakrefset         fileinput           pkgutil             toolz\n",
      "_xxtestfuzz         filelock            platform            tornado\n",
      "_yaml               flask               plistlib            tqdm\n",
      "abc                 flask_cors          pluggy              trace\n",
      "aem                 fnmatch             ply                 traceback\n",
      "aifc                formatter           poplib              tracemalloc\n",
      "alabaster           fractions           posix               traitlets\n",
      "anaconda_navigator  ftplib              posixpath           tty\n",
      "anaconda_project    functools           pprint              turtle\n",
      "antigravity         future              profile             turtledemo\n",
      "appnope             gc                  prometheus_client   types\n",
      "appscript           genericpath         prompt_toolkit      typing\n",
      "argparse            getopt              pstats              unicodecsv\n",
      "array               getpass             psutil              unicodedata\n",
      "asn1crypto          gettext             pty                 unittest\n",
      "ast                 gevent              ptyprocess          urllib\n",
      "astroid             glob                pwd                 urllib3\n",
      "astropy             glob2               py                  uu\n",
      "asynchat            gmpy2               py_compile          uuid\n",
      "asyncio             greenlet            pyarrow             venv\n",
      "asyncore            grp                 pyclbr              warnings\n",
      "atexit              gzip                pycodestyle         wave\n",
      "atomicwrites        h5py                pycosat             wcwidth\n",
      "attr                hashlib             pycparser           weakref\n",
      "audioop             heapdict            pycurl              webbrowser\n",
      "autoreload          heapq               pydoc               webencodings\n",
      "babel               hmac                pydoc_data          werkzeug\n",
      "backcall            html                pyexpat             wheel\n",
      "backports           html5lib            pyflakes            widgetsnbextension\n",
      "base64              http                pygments            wrapt\n",
      "bdb                 idlelib             pylab               wsgiref\n",
      "binascii            idna                pylint              wurlitzer\n",
      "binhex              imageio             pyodbc              xdrlib\n",
      "binstar_client      imagesize           pyparsing           xlrd\n",
      "bisect              imaplib             pytest              xlsxwriter\n",
      "bitarray            imghdr              pytest_arraydiff    xlwings\n",
      "bkcharts            imp                 pytest_doctestplus  xlwt\n",
      "blaze               importlib           pytest_openfiles    xml\n",
      "bleach              importlib_metadata  pytest_remotedata   xmlrpc\n",
      "bokeh               inspect             pytz                xxlimited\n",
      "boto                io                  pywt                xxsubtype\n",
      "bottleneck          ipaddress           pyximport           yaml\n",
      "brain_argparse      ipykernel           qtawesome           zict\n",
      "brain_attrs         ipykernel_launcher  qtconsole           zipapp\n",
      "brain_builtin_inference ipython_genutils    qtpy                zipfile\n",
      "brain_collections   ipywidgets          queue               zipimport\n",
      "brain_curses        isort               quopri              zlib\n",
      "brain_dateutil      isympy              random              zmq\n",
      "brain_fstrings      itertools           re                  \n",
      "brain_functools     itsdangerous        readline            \n",
      "\n",
      "Enter any module name to get more help.  Or, type \"modules spam\" to search\n",
      "for modules whose name or summary contain the string \"spam\".\n",
      "\n"
     ]
    }
   ],
   "source": [
    "help('modules')  # list all the modules that we can import for this Python"
   ]
  },
  {
   "cell_type": "code",
   "execution_count": 18,
   "metadata": {},
   "outputs": [
    {
     "data": {
      "text/plain": [
       "sys.flags(debug=0, inspect=0, interactive=0, optimize=0, dont_write_bytecode=0, no_user_site=0, no_site=0, ignore_environment=0, verbose=0, bytes_warning=0, quiet=0, hash_randomization=1, isolated=0, dev_mode=False, utf8_mode=0)"
      ]
     },
     "execution_count": 18,
     "metadata": {},
     "output_type": "execute_result"
    }
   ],
   "source": [
    "sys.flags"
   ]
  },
  {
   "cell_type": "code",
   "execution_count": 19,
   "metadata": {},
   "outputs": [
    {
     "data": {
      "text/plain": [
       "'/Users/gyanendrakumar/anaconda3'"
      ]
     },
     "execution_count": 19,
     "metadata": {},
     "output_type": "execute_result"
    }
   ],
   "source": [
    "sys.prefix"
   ]
  },
  {
   "cell_type": "markdown",
   "metadata": {},
   "source": [
    "# OS"
   ]
  },
  {
   "cell_type": "code",
   "execution_count": 20,
   "metadata": {},
   "outputs": [],
   "source": [
    "import os"
   ]
  },
  {
   "cell_type": "code",
   "execution_count": 21,
   "metadata": {},
   "outputs": [
    {
     "data": {
      "text/plain": [
       "'/Users/gyanendrakumar/PycharmProjects/education_DS/Module_4_PythonOnly'"
      ]
     },
     "execution_count": 21,
     "metadata": {},
     "output_type": "execute_result"
    }
   ],
   "source": [
    "os.getcwd()"
   ]
  },
  {
   "cell_type": "code",
   "execution_count": null,
   "metadata": {},
   "outputs": [],
   "source": [
    "#os.chdir()"
   ]
  },
  {
   "cell_type": "code",
   "execution_count": 22,
   "metadata": {},
   "outputs": [],
   "source": [
    "# create a dir\n",
    "os.mkdir('my_dir')"
   ]
  },
  {
   "cell_type": "code",
   "execution_count": 23,
   "metadata": {},
   "outputs": [],
   "source": [
    "# delete a dir\n",
    "os.rmdir('my_dir')"
   ]
  },
  {
   "cell_type": "code",
   "execution_count": null,
   "metadata": {
    "collapsed": true
   },
   "outputs": [],
   "source": []
  }
 ],
 "metadata": {
  "kernelspec": {
   "display_name": "Python 3",
   "language": "python",
   "name": "python3"
  },
  "language_info": {
   "codemirror_mode": {
    "name": "ipython",
    "version": 3
   },
   "file_extension": ".py",
   "mimetype": "text/x-python",
   "name": "python",
   "nbconvert_exporter": "python",
   "pygments_lexer": "ipython3",
   "version": "3.7.1"
  }
 },
 "nbformat": 4,
 "nbformat_minor": 2
}
