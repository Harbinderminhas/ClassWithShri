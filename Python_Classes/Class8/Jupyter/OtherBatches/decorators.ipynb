{
 "cells": [
  {
   "cell_type": "markdown",
   "metadata": {},
   "source": [
    "## Decorator\n",
    "- used when you wish to perform any action before a function call and after a function call also without even modifying the function.\n",
    "- @classmethod and @staticmethod are buil-in decorator"
   ]
  },
  {
   "cell_type": "code",
   "execution_count": 15,
   "metadata": {},
   "outputs": [],
   "source": [
    "# my decorator\n",
    "def check_params(func_obj):  # func_obj = divide\n",
    "    def inner(x,y):  # x => a and y => b\n",
    "        print(\"checking parameters\")\n",
    "        if isinstance(x,int) and isinstance(y,int):\n",
    "            print(\"Both paramters are valid:now call actual function\")\n",
    "            func_obj(x,y)  # actual function call\n",
    "        print(\"after main function execution\")\n",
    "    return inner\n"
   ]
  },
  {
   "cell_type": "code",
   "execution_count": 11,
   "metadata": {},
   "outputs": [
    {
     "name": "stdout",
     "output_type": "stream",
     "text": [
      "checking parameters\n",
      "Both paramters are valid:now call actual function\n",
      "0.5\n",
      "after main function execution\n"
     ]
    }
   ],
   "source": [
    "@check_params\n",
    "def divide(a,b):\n",
    "    print(a/b)\n",
    "\n",
    "divide(1,2)"
   ]
  },
  {
   "cell_type": "code",
   "execution_count": 12,
   "metadata": {},
   "outputs": [
    {
     "name": "stdout",
     "output_type": "stream",
     "text": [
      "checking parameters\n",
      "after main function execution\n"
     ]
    }
   ],
   "source": [
    "divide(\"wrong_value\", 12)\n",
    "# here the actual function divide() never got called."
   ]
  },
  {
   "cell_type": "code",
   "execution_count": 14,
   "metadata": {},
   "outputs": [
    {
     "name": "stdout",
     "output_type": "stream",
     "text": [
      "checking parameters\n",
      "Both paramters are valid:now call actual function\n",
      "3\n",
      "after main function execution\n"
     ]
    }
   ],
   "source": [
    "@check_params\n",
    "def sum(a,b):\n",
    "    print(a+b)\n",
    "\n",
    "sum(1,2)"
   ]
  },
  {
   "cell_type": "markdown",
   "metadata": {},
   "source": [
    "-  Python 2 vs 3\n",
    "- list comprehensions\n",
    "- PEP8 guidelines\n",
    "- path handling os.path\n",
    "- class' concepts\n",
    "- MRO method resolution order\n",
    "- *args, **kwargs concept\n",
    "- Threading concepts\n",
    "- How is threading actually implemented ?\n",
    "- what is GIL , Global interpretor lock ?\n"
   ]
  },
  {
   "cell_type": "code",
   "execution_count": 17,
   "metadata": {},
   "outputs": [
    {
     "name": "stdout",
     "output_type": "stream",
     "text": [
      "<sqlite3.Connection object at 0x10936b8f0>\n"
     ]
    }
   ],
   "source": [
    "# database access\n",
    "import sqlite3\n",
    "# oracle, mongodb etc\n",
    "conn = sqlite3.connect('hello')\n",
    "\n",
    "con\n",
    "conn.close()\n",
    "print(conn)"
   ]
  },
  {
   "cell_type": "code",
   "execution_count": 18,
   "metadata": {},
   "outputs": [
    {
     "name": "stdout",
     "output_type": "stream",
     "text": [
      "Help on built-in function connect in module _sqlite3:\n",
      "\n",
      "connect(...)\n",
      "    connect(database[, timeout, detect_types, isolation_level,\n",
      "            check_same_thread, factory, cached_statements, uri])\n",
      "    \n",
      "    Opens a connection to the SQLite database file *database*. You can use\n",
      "    \":memory:\" to open a database connection to a database that resides in\n",
      "    RAM instead of on disk.\n",
      "\n"
     ]
    }
   ],
   "source": [
    "help(sqlite3.connect)"
   ]
  },
  {
   "cell_type": "code",
   "execution_count": null,
   "metadata": {},
   "outputs": [],
   "source": []
  }
 ],
 "metadata": {
  "kernelspec": {
   "display_name": "Python 3",
   "language": "python",
   "name": "python3"
  },
  "language_info": {
   "codemirror_mode": {
    "name": "ipython",
    "version": 3
   },
   "file_extension": ".py",
   "mimetype": "text/x-python",
   "name": "python",
   "nbconvert_exporter": "python",
   "pygments_lexer": "ipython3",
   "version": "3.7.3"
  }
 },
 "nbformat": 4,
 "nbformat_minor": 2
}
