{
 "cells": [
  {
   "cell_type": "markdown",
   "metadata": {},
   "source": [
    "# decorators"
   ]
  },
  {
   "cell_type": "markdown",
   "metadata": {},
   "source": [
    "\n",
    "- used when you wish to perform any action before a function call and after a function call also without even modifying the function.\n",
    "- @classmethod and @staticmethod are built-in decorator"
   ]
  },
  {
   "cell_type": "code",
   "execution_count": 24,
   "metadata": {},
   "outputs": [],
   "source": [
    "def check_params(func_obj):\n",
    "    def inner(i, j):\n",
    "        if isinstance(i,int) and isinstance(j, int) and i !=0 and j !=0:\n",
    "            func_obj(i,j)  # actual call to divide function happens here.\n",
    "        else:\n",
    "            print(\"Wrong paramter type\")\n",
    "    return inner\n",
    "            \n",
    "        "
   ]
  },
  {
   "cell_type": "code",
   "execution_count": 19,
   "metadata": {},
   "outputs": [
    {
     "name": "stdout",
     "output_type": "stream",
     "text": [
      "0.6666666666666666\n"
     ]
    }
   ],
   "source": [
    "@check_params\n",
    "def divide(a,b):\n",
    "    print(a/b)\n",
    "divide(2,3)\n",
    "# Step 1:check_params(divide)\n",
    "# step 2: inner(a,b)"
   ]
  },
  {
   "cell_type": "code",
   "execution_count": 20,
   "metadata": {},
   "outputs": [
    {
     "name": "stdout",
     "output_type": "stream",
     "text": [
      "Wrong paramter type\n"
     ]
    }
   ],
   "source": [
    "divide(1,[1,2,3])"
   ]
  },
  {
   "cell_type": "code",
   "execution_count": 21,
   "metadata": {},
   "outputs": [
    {
     "name": "stdout",
     "output_type": "stream",
     "text": [
      "Wrong paramter type\n"
     ]
    }
   ],
   "source": [
    "divide(\"hello\",[1,2,3])"
   ]
  },
  {
   "cell_type": "code",
   "execution_count": 22,
   "metadata": {},
   "outputs": [
    {
     "name": "stdout",
     "output_type": "stream",
     "text": [
      "Wrong paramter type\n"
     ]
    }
   ],
   "source": [
    "divide(1,0)"
   ]
  },
  {
   "cell_type": "code",
   "execution_count": 23,
   "metadata": {},
   "outputs": [
    {
     "name": "stdout",
     "output_type": "stream",
     "text": [
      "0.4\n"
     ]
    }
   ],
   "source": [
    "divide(2,5)"
   ]
  },
  {
   "cell_type": "code",
   "execution_count": 25,
   "metadata": {},
   "outputs": [],
   "source": [
    "@check_params\n",
    "def sum(a,b):\n",
    "    print(a+b)"
   ]
  },
  {
   "cell_type": "code",
   "execution_count": 26,
   "metadata": {},
   "outputs": [
    {
     "name": "stdout",
     "output_type": "stream",
     "text": [
      "3\n"
     ]
    }
   ],
   "source": [
    "sum(1,2)"
   ]
  },
  {
   "cell_type": "code",
   "execution_count": 27,
   "metadata": {},
   "outputs": [
    {
     "name": "stdout",
     "output_type": "stream",
     "text": [
      "Wrong paramter type\n"
     ]
    }
   ],
   "source": [
    "sum(1,\"hello\")"
   ]
  },
  {
   "cell_type": "markdown",
   "metadata": {},
   "source": [
    "# Database connection\n",
    "- for every DB , python has a package/module that must be installed, using that package only you can access the DB, sqlite3 is the package already present in the python\n",
    "- establish connection\n",
    "- "
   ]
  },
  {
   "cell_type": "code",
   "execution_count": 31,
   "metadata": {},
   "outputs": [
    {
     "name": "stdout",
     "output_type": "stream",
     "text": [
      "<sqlite3.Connection object at 0x10b6dae30>\n",
      "Connection has been established Successfully\n",
      "Table created Successfully\n"
     ]
    }
   ],
   "source": [
    "import sqlite3\n",
    "conn = sqlite3.connect('mydatabase.db')\n",
    "if conn:\n",
    "    print(conn)\n",
    "    print(\"Connection has been established Successfully\")\n",
    "else:\n",
    "    print(\"Connection failed\")\n",
    "    \n",
    "# creating a TABLE\n",
    "conn.execute(\"\"\"CREATE TABLE education\n",
    "            (Id INT PRIMARY_KEY NOT NULL, \n",
    "            Name TEXT NOT NULL,\n",
    "            Age INT NOT NULL,\n",
    "            Course CHAR(30)\n",
    "            )\"\"\")\n",
    "print(\"Table created Successfully\")\n",
    "\n",
    "# inserting the values\n",
    "conn.execute(\"INSERT INTO education(Id, Name, Age, Course)\\\n",
    "VALUES(1, 'Ravi', 25, 'Django')\")\n",
    "conn.execute(\"INSERT INTO education(Id, Name, Age, Course)\\\n",
    "VALUES(2, 'Shyam', 26, 'Spark')\")\n",
    "conn.execute(\"INSERT INTO education(Id, Name, Age, Course)\\\n",
    "VALUES(3, 'Ram', 27, 'Python')\")\n",
    "\n",
    "conn.commit()  #saving the records\n",
    "# executemany() to pass list to values\n",
    "\n",
    "conn.close()"
   ]
  },
  {
   "cell_type": "code",
   "execution_count": 33,
   "metadata": {},
   "outputs": [
    {
     "name": "stdout",
     "output_type": "stream",
     "text": [
      "(1, 'Ravi', 25, 'Django')\n",
      "(2, 'Shyam', 26, 'Spark')\n",
      "(3, 'Ram', 27, 'Python')\n"
     ]
    }
   ],
   "source": [
    "# fetch the values\n",
    "conn = sqlite3.connect('mydatabase.db')\n",
    "\n",
    "cursor = conn.execute('select * from education')\n",
    "for row in cursor:\n",
    "    print(row)\n",
    "\n",
    "conn.close()"
   ]
  },
  {
   "cell_type": "code",
   "execution_count": 36,
   "metadata": {},
   "outputs": [
    {
     "name": "stdout",
     "output_type": "stream",
     "text": [
      "(1, 'Ravi', 25, 'Django')\n"
     ]
    }
   ],
   "source": [
    "# fetch the values\n",
    "# fetchone() shows first fetched records that is stored in the cursor object\n",
    "conn = sqlite3.connect('mydatabase.db')\n",
    "\n",
    "cursor = conn.execute('select * from education')\n",
    "print(cursor.fetchone())\n",
    "conn.close()"
   ]
  },
  {
   "cell_type": "code",
   "execution_count": 38,
   "metadata": {},
   "outputs": [
    {
     "name": "stdout",
     "output_type": "stream",
     "text": [
      "[(1, 'Ravi', 25, 'Django'), (2, 'Shyam', 26, 'Spark'), (3, 'Ram', 27, 'Python')]\n"
     ]
    }
   ],
   "source": [
    "# fetchall() shows first fetched records that is stored in the cursor object\n",
    "conn = sqlite3.connect('mydatabase.db')\n",
    "\n",
    "cursor = conn.execute('select * from education')\n",
    "print(cursor.fetchall()) # all fetched records in the list\n",
    "conn.close()"
   ]
  },
  {
   "cell_type": "code",
   "execution_count": 40,
   "metadata": {},
   "outputs": [
    {
     "name": "stdout",
     "output_type": "stream",
     "text": [
      "[(1, 'Ravi', 25, 'Django'), (2, 'Shyam', 26, 'Spark')]\n"
     ]
    }
   ],
   "source": [
    "# fetchmany(no_of_records) shows first fetched records that is stored in the cursor object\n",
    "conn = sqlite3.connect('mydatabase.db')\n",
    "\n",
    "cursor = conn.execute('select * from education')\n",
    "print(cursor.fetchmany(2)) # all fetched records in the list\n",
    "conn.close()"
   ]
  },
  {
   "cell_type": "code",
   "execution_count": null,
   "metadata": {},
   "outputs": [],
   "source": []
  }
 ],
 "metadata": {
  "kernelspec": {
   "display_name": "Python 3",
   "language": "python",
   "name": "python3"
  },
  "language_info": {
   "codemirror_mode": {
    "name": "ipython",
    "version": 3
   },
   "file_extension": ".py",
   "mimetype": "text/x-python",
   "name": "python",
   "nbconvert_exporter": "python",
   "pygments_lexer": "ipython3",
   "version": "3.7.3"
  }
 },
 "nbformat": 4,
 "nbformat_minor": 2
}
